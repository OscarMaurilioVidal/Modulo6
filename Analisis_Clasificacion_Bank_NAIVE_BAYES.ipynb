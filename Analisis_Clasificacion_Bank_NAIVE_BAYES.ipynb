{
  "nbformat": 4,
  "nbformat_minor": 0,
  "metadata": {
    "colab": {
      "provenance": [],
      "collapsed_sections": []
    },
    "kernelspec": {
      "name": "python3",
      "display_name": "Python 3"
    },
    "language_info": {
      "name": "python"
    }
  },
  "cells": [
    {
      "cell_type": "code",
      "source": [
        "import matplotlib.pyplot as plt\n",
        "from sklearn.linear_model import LogisticRegression\n",
        "from sklearn import datasets\n",
        "import numpy as np\n",
        "from sklearn.metrics import confusion_matrix,accuracy_score, classification_report, roc_curve\n"
      ],
      "metadata": {
        "id": "lkUTS4aM3b7x"
      },
      "execution_count": 2,
      "outputs": []
    },
    {
      "cell_type": "markdown",
      "source": [
        "# Analisis de datos"
      ],
      "metadata": {
        "id": "sjCBhGYo7P1y"
      }
    },
    {
      "cell_type": "code",
      "source": [
        "import pandas as pd\n",
        "import seaborn as sns"
      ],
      "metadata": {
        "id": "6dXn_qaV7sbA"
      },
      "execution_count": 3,
      "outputs": []
    },
    {
      "cell_type": "code",
      "source": [
        "datos_df = pd.read_csv('UniversalBank.csv')\n",
        "datos_df"
      ],
      "metadata": {
        "colab": {
          "base_uri": "https://localhost:8080/",
          "height": 505
        },
        "id": "xftXsdzpg08N",
        "outputId": "044747eb-30d9-47f5-eb12-98d46be2cb9a"
      },
      "execution_count": 4,
      "outputs": [
        {
          "output_type": "execute_result",
          "data": {
            "text/plain": [
              "        ID  Age  Experience  Income  ZIP Code  Family  CCAvg  Education  \\\n",
              "0        1   25           1      49     91107       4    1.6          1   \n",
              "1        2   45          19      34     90089       3    1.5          1   \n",
              "2        3   39          15      11     94720       1    1.0          1   \n",
              "3        4   35           9     100     94112       1    2.7          2   \n",
              "4        5   35           8      45     91330       4    1.0          2   \n",
              "...    ...  ...         ...     ...       ...     ...    ...        ...   \n",
              "4995  4996   29           3      40     92697       1    1.9          3   \n",
              "4996  4997   30           4      15     92037       4    0.4          1   \n",
              "4997  4998   63          39      24     93023       2    0.3          3   \n",
              "4998  4999   65          40      49     90034       3    0.5          2   \n",
              "4999  5000   28           4      83     92612       3    0.8          1   \n",
              "\n",
              "      Mortgage  Personal Loan  Securities Account  CD Account  Online  \\\n",
              "0            0              0                   1           0       0   \n",
              "1            0              0                   1           0       0   \n",
              "2            0              0                   0           0       0   \n",
              "3            0              0                   0           0       0   \n",
              "4            0              0                   0           0       0   \n",
              "...        ...            ...                 ...         ...     ...   \n",
              "4995         0              0                   0           0       1   \n",
              "4996        85              0                   0           0       1   \n",
              "4997         0              0                   0           0       0   \n",
              "4998         0              0                   0           0       1   \n",
              "4999         0              0                   0           0       1   \n",
              "\n",
              "      CreditCard  \n",
              "0              0  \n",
              "1              0  \n",
              "2              0  \n",
              "3              0  \n",
              "4              1  \n",
              "...          ...  \n",
              "4995           0  \n",
              "4996           0  \n",
              "4997           0  \n",
              "4998           0  \n",
              "4999           1  \n",
              "\n",
              "[5000 rows x 14 columns]"
            ],
            "text/html": [
              "\n",
              "  <div id=\"df-ca29696e-182c-4a9b-845c-9b382ce6d095\">\n",
              "    <div class=\"colab-df-container\">\n",
              "      <div>\n",
              "<style scoped>\n",
              "    .dataframe tbody tr th:only-of-type {\n",
              "        vertical-align: middle;\n",
              "    }\n",
              "\n",
              "    .dataframe tbody tr th {\n",
              "        vertical-align: top;\n",
              "    }\n",
              "\n",
              "    .dataframe thead th {\n",
              "        text-align: right;\n",
              "    }\n",
              "</style>\n",
              "<table border=\"1\" class=\"dataframe\">\n",
              "  <thead>\n",
              "    <tr style=\"text-align: right;\">\n",
              "      <th></th>\n",
              "      <th>ID</th>\n",
              "      <th>Age</th>\n",
              "      <th>Experience</th>\n",
              "      <th>Income</th>\n",
              "      <th>ZIP Code</th>\n",
              "      <th>Family</th>\n",
              "      <th>CCAvg</th>\n",
              "      <th>Education</th>\n",
              "      <th>Mortgage</th>\n",
              "      <th>Personal Loan</th>\n",
              "      <th>Securities Account</th>\n",
              "      <th>CD Account</th>\n",
              "      <th>Online</th>\n",
              "      <th>CreditCard</th>\n",
              "    </tr>\n",
              "  </thead>\n",
              "  <tbody>\n",
              "    <tr>\n",
              "      <th>0</th>\n",
              "      <td>1</td>\n",
              "      <td>25</td>\n",
              "      <td>1</td>\n",
              "      <td>49</td>\n",
              "      <td>91107</td>\n",
              "      <td>4</td>\n",
              "      <td>1.6</td>\n",
              "      <td>1</td>\n",
              "      <td>0</td>\n",
              "      <td>0</td>\n",
              "      <td>1</td>\n",
              "      <td>0</td>\n",
              "      <td>0</td>\n",
              "      <td>0</td>\n",
              "    </tr>\n",
              "    <tr>\n",
              "      <th>1</th>\n",
              "      <td>2</td>\n",
              "      <td>45</td>\n",
              "      <td>19</td>\n",
              "      <td>34</td>\n",
              "      <td>90089</td>\n",
              "      <td>3</td>\n",
              "      <td>1.5</td>\n",
              "      <td>1</td>\n",
              "      <td>0</td>\n",
              "      <td>0</td>\n",
              "      <td>1</td>\n",
              "      <td>0</td>\n",
              "      <td>0</td>\n",
              "      <td>0</td>\n",
              "    </tr>\n",
              "    <tr>\n",
              "      <th>2</th>\n",
              "      <td>3</td>\n",
              "      <td>39</td>\n",
              "      <td>15</td>\n",
              "      <td>11</td>\n",
              "      <td>94720</td>\n",
              "      <td>1</td>\n",
              "      <td>1.0</td>\n",
              "      <td>1</td>\n",
              "      <td>0</td>\n",
              "      <td>0</td>\n",
              "      <td>0</td>\n",
              "      <td>0</td>\n",
              "      <td>0</td>\n",
              "      <td>0</td>\n",
              "    </tr>\n",
              "    <tr>\n",
              "      <th>3</th>\n",
              "      <td>4</td>\n",
              "      <td>35</td>\n",
              "      <td>9</td>\n",
              "      <td>100</td>\n",
              "      <td>94112</td>\n",
              "      <td>1</td>\n",
              "      <td>2.7</td>\n",
              "      <td>2</td>\n",
              "      <td>0</td>\n",
              "      <td>0</td>\n",
              "      <td>0</td>\n",
              "      <td>0</td>\n",
              "      <td>0</td>\n",
              "      <td>0</td>\n",
              "    </tr>\n",
              "    <tr>\n",
              "      <th>4</th>\n",
              "      <td>5</td>\n",
              "      <td>35</td>\n",
              "      <td>8</td>\n",
              "      <td>45</td>\n",
              "      <td>91330</td>\n",
              "      <td>4</td>\n",
              "      <td>1.0</td>\n",
              "      <td>2</td>\n",
              "      <td>0</td>\n",
              "      <td>0</td>\n",
              "      <td>0</td>\n",
              "      <td>0</td>\n",
              "      <td>0</td>\n",
              "      <td>1</td>\n",
              "    </tr>\n",
              "    <tr>\n",
              "      <th>...</th>\n",
              "      <td>...</td>\n",
              "      <td>...</td>\n",
              "      <td>...</td>\n",
              "      <td>...</td>\n",
              "      <td>...</td>\n",
              "      <td>...</td>\n",
              "      <td>...</td>\n",
              "      <td>...</td>\n",
              "      <td>...</td>\n",
              "      <td>...</td>\n",
              "      <td>...</td>\n",
              "      <td>...</td>\n",
              "      <td>...</td>\n",
              "      <td>...</td>\n",
              "    </tr>\n",
              "    <tr>\n",
              "      <th>4995</th>\n",
              "      <td>4996</td>\n",
              "      <td>29</td>\n",
              "      <td>3</td>\n",
              "      <td>40</td>\n",
              "      <td>92697</td>\n",
              "      <td>1</td>\n",
              "      <td>1.9</td>\n",
              "      <td>3</td>\n",
              "      <td>0</td>\n",
              "      <td>0</td>\n",
              "      <td>0</td>\n",
              "      <td>0</td>\n",
              "      <td>1</td>\n",
              "      <td>0</td>\n",
              "    </tr>\n",
              "    <tr>\n",
              "      <th>4996</th>\n",
              "      <td>4997</td>\n",
              "      <td>30</td>\n",
              "      <td>4</td>\n",
              "      <td>15</td>\n",
              "      <td>92037</td>\n",
              "      <td>4</td>\n",
              "      <td>0.4</td>\n",
              "      <td>1</td>\n",
              "      <td>85</td>\n",
              "      <td>0</td>\n",
              "      <td>0</td>\n",
              "      <td>0</td>\n",
              "      <td>1</td>\n",
              "      <td>0</td>\n",
              "    </tr>\n",
              "    <tr>\n",
              "      <th>4997</th>\n",
              "      <td>4998</td>\n",
              "      <td>63</td>\n",
              "      <td>39</td>\n",
              "      <td>24</td>\n",
              "      <td>93023</td>\n",
              "      <td>2</td>\n",
              "      <td>0.3</td>\n",
              "      <td>3</td>\n",
              "      <td>0</td>\n",
              "      <td>0</td>\n",
              "      <td>0</td>\n",
              "      <td>0</td>\n",
              "      <td>0</td>\n",
              "      <td>0</td>\n",
              "    </tr>\n",
              "    <tr>\n",
              "      <th>4998</th>\n",
              "      <td>4999</td>\n",
              "      <td>65</td>\n",
              "      <td>40</td>\n",
              "      <td>49</td>\n",
              "      <td>90034</td>\n",
              "      <td>3</td>\n",
              "      <td>0.5</td>\n",
              "      <td>2</td>\n",
              "      <td>0</td>\n",
              "      <td>0</td>\n",
              "      <td>0</td>\n",
              "      <td>0</td>\n",
              "      <td>1</td>\n",
              "      <td>0</td>\n",
              "    </tr>\n",
              "    <tr>\n",
              "      <th>4999</th>\n",
              "      <td>5000</td>\n",
              "      <td>28</td>\n",
              "      <td>4</td>\n",
              "      <td>83</td>\n",
              "      <td>92612</td>\n",
              "      <td>3</td>\n",
              "      <td>0.8</td>\n",
              "      <td>1</td>\n",
              "      <td>0</td>\n",
              "      <td>0</td>\n",
              "      <td>0</td>\n",
              "      <td>0</td>\n",
              "      <td>1</td>\n",
              "      <td>1</td>\n",
              "    </tr>\n",
              "  </tbody>\n",
              "</table>\n",
              "<p>5000 rows × 14 columns</p>\n",
              "</div>\n",
              "      <button class=\"colab-df-convert\" onclick=\"convertToInteractive('df-ca29696e-182c-4a9b-845c-9b382ce6d095')\"\n",
              "              title=\"Convert this dataframe to an interactive table.\"\n",
              "              style=\"display:none;\">\n",
              "        \n",
              "  <svg xmlns=\"http://www.w3.org/2000/svg\" height=\"24px\"viewBox=\"0 0 24 24\"\n",
              "       width=\"24px\">\n",
              "    <path d=\"M0 0h24v24H0V0z\" fill=\"none\"/>\n",
              "    <path d=\"M18.56 5.44l.94 2.06.94-2.06 2.06-.94-2.06-.94-.94-2.06-.94 2.06-2.06.94zm-11 1L8.5 8.5l.94-2.06 2.06-.94-2.06-.94L8.5 2.5l-.94 2.06-2.06.94zm10 10l.94 2.06.94-2.06 2.06-.94-2.06-.94-.94-2.06-.94 2.06-2.06.94z\"/><path d=\"M17.41 7.96l-1.37-1.37c-.4-.4-.92-.59-1.43-.59-.52 0-1.04.2-1.43.59L10.3 9.45l-7.72 7.72c-.78.78-.78 2.05 0 2.83L4 21.41c.39.39.9.59 1.41.59.51 0 1.02-.2 1.41-.59l7.78-7.78 2.81-2.81c.8-.78.8-2.07 0-2.86zM5.41 20L4 18.59l7.72-7.72 1.47 1.35L5.41 20z\"/>\n",
              "  </svg>\n",
              "      </button>\n",
              "      \n",
              "  <style>\n",
              "    .colab-df-container {\n",
              "      display:flex;\n",
              "      flex-wrap:wrap;\n",
              "      gap: 12px;\n",
              "    }\n",
              "\n",
              "    .colab-df-convert {\n",
              "      background-color: #E8F0FE;\n",
              "      border: none;\n",
              "      border-radius: 50%;\n",
              "      cursor: pointer;\n",
              "      display: none;\n",
              "      fill: #1967D2;\n",
              "      height: 32px;\n",
              "      padding: 0 0 0 0;\n",
              "      width: 32px;\n",
              "    }\n",
              "\n",
              "    .colab-df-convert:hover {\n",
              "      background-color: #E2EBFA;\n",
              "      box-shadow: 0px 1px 2px rgba(60, 64, 67, 0.3), 0px 1px 3px 1px rgba(60, 64, 67, 0.15);\n",
              "      fill: #174EA6;\n",
              "    }\n",
              "\n",
              "    [theme=dark] .colab-df-convert {\n",
              "      background-color: #3B4455;\n",
              "      fill: #D2E3FC;\n",
              "    }\n",
              "\n",
              "    [theme=dark] .colab-df-convert:hover {\n",
              "      background-color: #434B5C;\n",
              "      box-shadow: 0px 1px 3px 1px rgba(0, 0, 0, 0.15);\n",
              "      filter: drop-shadow(0px 1px 2px rgba(0, 0, 0, 0.3));\n",
              "      fill: #FFFFFF;\n",
              "    }\n",
              "  </style>\n",
              "\n",
              "      <script>\n",
              "        const buttonEl =\n",
              "          document.querySelector('#df-ca29696e-182c-4a9b-845c-9b382ce6d095 button.colab-df-convert');\n",
              "        buttonEl.style.display =\n",
              "          google.colab.kernel.accessAllowed ? 'block' : 'none';\n",
              "\n",
              "        async function convertToInteractive(key) {\n",
              "          const element = document.querySelector('#df-ca29696e-182c-4a9b-845c-9b382ce6d095');\n",
              "          const dataTable =\n",
              "            await google.colab.kernel.invokeFunction('convertToInteractive',\n",
              "                                                     [key], {});\n",
              "          if (!dataTable) return;\n",
              "\n",
              "          const docLinkHtml = 'Like what you see? Visit the ' +\n",
              "            '<a target=\"_blank\" href=https://colab.research.google.com/notebooks/data_table.ipynb>data table notebook</a>'\n",
              "            + ' to learn more about interactive tables.';\n",
              "          element.innerHTML = '';\n",
              "          dataTable['output_type'] = 'display_data';\n",
              "          await google.colab.output.renderOutput(dataTable, element);\n",
              "          const docLink = document.createElement('div');\n",
              "          docLink.innerHTML = docLinkHtml;\n",
              "          element.appendChild(docLink);\n",
              "        }\n",
              "      </script>\n",
              "    </div>\n",
              "  </div>\n",
              "  "
            ]
          },
          "metadata": {},
          "execution_count": 4
        }
      ]
    },
    {
      "cell_type": "code",
      "source": [
        "#target  variable : Personal Loan"
      ],
      "metadata": {
        "id": "-x_-d_x_hhEw"
      },
      "execution_count": 5,
      "outputs": []
    },
    {
      "cell_type": "code",
      "source": [
        "#Examinando valores nulos\n",
        "datos_df.isna().sum()"
      ],
      "metadata": {
        "colab": {
          "base_uri": "https://localhost:8080/"
        },
        "id": "MK5D0h1vhryN",
        "outputId": "8ae730c3-6cc6-4fb4-ba5e-aa35d6db1d7f"
      },
      "execution_count": 6,
      "outputs": [
        {
          "output_type": "execute_result",
          "data": {
            "text/plain": [
              "ID                    0\n",
              "Age                   0\n",
              "Experience            0\n",
              "Income                0\n",
              "ZIP Code              0\n",
              "Family                0\n",
              "CCAvg                 0\n",
              "Education             0\n",
              "Mortgage              0\n",
              "Personal Loan         0\n",
              "Securities Account    0\n",
              "CD Account            0\n",
              "Online                0\n",
              "CreditCard            0\n",
              "dtype: int64"
            ]
          },
          "metadata": {},
          "execution_count": 6
        }
      ]
    },
    {
      "cell_type": "code",
      "source": [
        "#Examinando valores ruido\n",
        "datos_df.min()\n"
      ],
      "metadata": {
        "colab": {
          "base_uri": "https://localhost:8080/"
        },
        "id": "kc-plsNQhz09",
        "outputId": "6e21a068-9fcd-42c9-fd70-ab9d4dbbde66"
      },
      "execution_count": 7,
      "outputs": [
        {
          "output_type": "execute_result",
          "data": {
            "text/plain": [
              "ID                       1.0\n",
              "Age                     23.0\n",
              "Experience              -3.0\n",
              "Income                   8.0\n",
              "ZIP Code              9307.0\n",
              "Family                   1.0\n",
              "CCAvg                    0.0\n",
              "Education                1.0\n",
              "Mortgage                 0.0\n",
              "Personal Loan            0.0\n",
              "Securities Account       0.0\n",
              "CD Account               0.0\n",
              "Online                   0.0\n",
              "CreditCard               0.0\n",
              "dtype: float64"
            ]
          },
          "metadata": {},
          "execution_count": 7
        }
      ]
    },
    {
      "cell_type": "code",
      "source": [
        "#Eliminando valores negativos\n",
        "datos_df = datos_df.drop(datos_df[datos_df['Experience']<0].index)\n",
        "datos_df.min()"
      ],
      "metadata": {
        "colab": {
          "base_uri": "https://localhost:8080/"
        },
        "id": "KzAGYEY8iEQc",
        "outputId": "58eef827-91f1-4011-d8fa-76a530c34881"
      },
      "execution_count": 8,
      "outputs": [
        {
          "output_type": "execute_result",
          "data": {
            "text/plain": [
              "ID                       1.0\n",
              "Age                     24.0\n",
              "Experience               0.0\n",
              "Income                   8.0\n",
              "ZIP Code              9307.0\n",
              "Family                   1.0\n",
              "CCAvg                    0.0\n",
              "Education                1.0\n",
              "Mortgage                 0.0\n",
              "Personal Loan            0.0\n",
              "Securities Account       0.0\n",
              "CD Account               0.0\n",
              "Online                   0.0\n",
              "CreditCard               0.0\n",
              "dtype: float64"
            ]
          },
          "metadata": {},
          "execution_count": 8
        }
      ]
    },
    {
      "cell_type": "code",
      "source": [
        "datos_df.max()"
      ],
      "metadata": {
        "colab": {
          "base_uri": "https://localhost:8080/"
        },
        "id": "vwc9K7o7hSl1",
        "outputId": "a5f526b9-95b5-4670-e7e3-ded659ac5a36"
      },
      "execution_count": 9,
      "outputs": [
        {
          "output_type": "execute_result",
          "data": {
            "text/plain": [
              "ID                     5000.0\n",
              "Age                      67.0\n",
              "Experience               43.0\n",
              "Income                  224.0\n",
              "ZIP Code              96651.0\n",
              "Family                    4.0\n",
              "CCAvg                    10.0\n",
              "Education                 3.0\n",
              "Mortgage                635.0\n",
              "Personal Loan             1.0\n",
              "Securities Account        1.0\n",
              "CD Account                1.0\n",
              "Online                    1.0\n",
              "CreditCard                1.0\n",
              "dtype: float64"
            ]
          },
          "metadata": {},
          "execution_count": 9
        }
      ]
    },
    {
      "cell_type": "code",
      "source": [
        "datos_df.corr()"
      ],
      "metadata": {
        "colab": {
          "base_uri": "https://localhost:8080/",
          "height": 621
        },
        "id": "3EmeNHF2iljV",
        "outputId": "98485a91-ee74-48bb-aa25-6f5ad353ebb6"
      },
      "execution_count": 10,
      "outputs": [
        {
          "output_type": "execute_result",
          "data": {
            "text/plain": [
              "                          ID       Age  Experience    Income  ZIP Code  \\\n",
              "ID                  1.000000 -0.009794   -0.009406 -0.017255  0.013516   \n",
              "Age                -0.009794  1.000000    0.994101 -0.058006 -0.029325   \n",
              "Experience         -0.009406  0.994101    1.000000 -0.049245 -0.028564   \n",
              "Income             -0.017255 -0.058006   -0.049245  1.000000 -0.014958   \n",
              "ZIP Code            0.013516 -0.029325   -0.028564 -0.014958  1.000000   \n",
              "Family             -0.016382 -0.039279   -0.045610 -0.155666  0.011109   \n",
              "CCAvg              -0.025607 -0.050879   -0.048939  0.646178 -0.002703   \n",
              "Education           0.021902  0.046222    0.018243 -0.187992 -0.017391   \n",
              "Mortgage           -0.011172 -0.015184   -0.013459  0.206921  0.008264   \n",
              "Personal Loan      -0.025124 -0.014204   -0.014121  0.504228  0.000251   \n",
              "Securities Account -0.018961  0.000496   -0.000457 -0.002327  0.003555   \n",
              "CD Account         -0.007085  0.003261    0.005450  0.170171  0.020149   \n",
              "Online             -0.001508  0.013542    0.013518  0.014433  0.019155   \n",
              "CreditCard          0.017294  0.007496    0.008876 -0.004493  0.007355   \n",
              "\n",
              "                      Family     CCAvg  Education  Mortgage  Personal Loan  \\\n",
              "ID                 -0.016382 -0.025607   0.021902 -0.011172      -0.025124   \n",
              "Age                -0.039279 -0.050879   0.046222 -0.015184      -0.014204   \n",
              "Experience         -0.045610 -0.048939   0.018243 -0.013459      -0.014121   \n",
              "Income             -0.155666  0.646178  -0.187992  0.206921       0.504228   \n",
              "ZIP Code            0.011109 -0.002703  -0.017391  0.008264       0.000251   \n",
              "Family              1.000000 -0.107230   0.064032 -0.020419       0.063088   \n",
              "CCAvg              -0.107230  1.000000  -0.133939  0.109905       0.369388   \n",
              "Education           0.064032 -0.133939   1.000000 -0.032559       0.138339   \n",
              "Mortgage           -0.020419  0.109905  -0.032559  1.000000       0.142322   \n",
              "Personal Loan       0.063088  0.369388   0.138339  0.142322       1.000000   \n",
              "Securities Account  0.020155  0.012477  -0.007508 -0.003717       0.022216   \n",
              "CD Account          0.015274  0.137587   0.014639  0.089369       0.315769   \n",
              "Online              0.008466 -0.003476  -0.013932 -0.006754       0.006175   \n",
              "CreditCard          0.012905 -0.007377  -0.012604 -0.006910       0.002776   \n",
              "\n",
              "                    Securities Account  CD Account    Online  CreditCard  \n",
              "ID                           -0.018961   -0.007085 -0.001508    0.017294  \n",
              "Age                           0.000496    0.003261  0.013542    0.007496  \n",
              "Experience                   -0.000457    0.005450  0.013518    0.008876  \n",
              "Income                       -0.002327    0.170171  0.014433   -0.004493  \n",
              "ZIP Code                      0.003555    0.020149  0.019155    0.007355  \n",
              "Family                        0.020155    0.015274  0.008466    0.012905  \n",
              "CCAvg                         0.012477    0.137587 -0.003476   -0.007377  \n",
              "Education                    -0.007508    0.014639 -0.013932   -0.012604  \n",
              "Mortgage                     -0.003717    0.089369 -0.006754   -0.006910  \n",
              "Personal Loan                 0.022216    0.315769  0.006175    0.002776  \n",
              "Securities Account            1.000000    0.319056  0.016101   -0.017030  \n",
              "CD Account                    0.319056    1.000000  0.176768    0.280151  \n",
              "Online                        0.016101    0.176768  1.000000    0.008457  \n",
              "CreditCard                   -0.017030    0.280151  0.008457    1.000000  "
            ],
            "text/html": [
              "\n",
              "  <div id=\"df-05a0adb3-c7e5-4a7c-be09-bf7bccb43e0d\">\n",
              "    <div class=\"colab-df-container\">\n",
              "      <div>\n",
              "<style scoped>\n",
              "    .dataframe tbody tr th:only-of-type {\n",
              "        vertical-align: middle;\n",
              "    }\n",
              "\n",
              "    .dataframe tbody tr th {\n",
              "        vertical-align: top;\n",
              "    }\n",
              "\n",
              "    .dataframe thead th {\n",
              "        text-align: right;\n",
              "    }\n",
              "</style>\n",
              "<table border=\"1\" class=\"dataframe\">\n",
              "  <thead>\n",
              "    <tr style=\"text-align: right;\">\n",
              "      <th></th>\n",
              "      <th>ID</th>\n",
              "      <th>Age</th>\n",
              "      <th>Experience</th>\n",
              "      <th>Income</th>\n",
              "      <th>ZIP Code</th>\n",
              "      <th>Family</th>\n",
              "      <th>CCAvg</th>\n",
              "      <th>Education</th>\n",
              "      <th>Mortgage</th>\n",
              "      <th>Personal Loan</th>\n",
              "      <th>Securities Account</th>\n",
              "      <th>CD Account</th>\n",
              "      <th>Online</th>\n",
              "      <th>CreditCard</th>\n",
              "    </tr>\n",
              "  </thead>\n",
              "  <tbody>\n",
              "    <tr>\n",
              "      <th>ID</th>\n",
              "      <td>1.000000</td>\n",
              "      <td>-0.009794</td>\n",
              "      <td>-0.009406</td>\n",
              "      <td>-0.017255</td>\n",
              "      <td>0.013516</td>\n",
              "      <td>-0.016382</td>\n",
              "      <td>-0.025607</td>\n",
              "      <td>0.021902</td>\n",
              "      <td>-0.011172</td>\n",
              "      <td>-0.025124</td>\n",
              "      <td>-0.018961</td>\n",
              "      <td>-0.007085</td>\n",
              "      <td>-0.001508</td>\n",
              "      <td>0.017294</td>\n",
              "    </tr>\n",
              "    <tr>\n",
              "      <th>Age</th>\n",
              "      <td>-0.009794</td>\n",
              "      <td>1.000000</td>\n",
              "      <td>0.994101</td>\n",
              "      <td>-0.058006</td>\n",
              "      <td>-0.029325</td>\n",
              "      <td>-0.039279</td>\n",
              "      <td>-0.050879</td>\n",
              "      <td>0.046222</td>\n",
              "      <td>-0.015184</td>\n",
              "      <td>-0.014204</td>\n",
              "      <td>0.000496</td>\n",
              "      <td>0.003261</td>\n",
              "      <td>0.013542</td>\n",
              "      <td>0.007496</td>\n",
              "    </tr>\n",
              "    <tr>\n",
              "      <th>Experience</th>\n",
              "      <td>-0.009406</td>\n",
              "      <td>0.994101</td>\n",
              "      <td>1.000000</td>\n",
              "      <td>-0.049245</td>\n",
              "      <td>-0.028564</td>\n",
              "      <td>-0.045610</td>\n",
              "      <td>-0.048939</td>\n",
              "      <td>0.018243</td>\n",
              "      <td>-0.013459</td>\n",
              "      <td>-0.014121</td>\n",
              "      <td>-0.000457</td>\n",
              "      <td>0.005450</td>\n",
              "      <td>0.013518</td>\n",
              "      <td>0.008876</td>\n",
              "    </tr>\n",
              "    <tr>\n",
              "      <th>Income</th>\n",
              "      <td>-0.017255</td>\n",
              "      <td>-0.058006</td>\n",
              "      <td>-0.049245</td>\n",
              "      <td>1.000000</td>\n",
              "      <td>-0.014958</td>\n",
              "      <td>-0.155666</td>\n",
              "      <td>0.646178</td>\n",
              "      <td>-0.187992</td>\n",
              "      <td>0.206921</td>\n",
              "      <td>0.504228</td>\n",
              "      <td>-0.002327</td>\n",
              "      <td>0.170171</td>\n",
              "      <td>0.014433</td>\n",
              "      <td>-0.004493</td>\n",
              "    </tr>\n",
              "    <tr>\n",
              "      <th>ZIP Code</th>\n",
              "      <td>0.013516</td>\n",
              "      <td>-0.029325</td>\n",
              "      <td>-0.028564</td>\n",
              "      <td>-0.014958</td>\n",
              "      <td>1.000000</td>\n",
              "      <td>0.011109</td>\n",
              "      <td>-0.002703</td>\n",
              "      <td>-0.017391</td>\n",
              "      <td>0.008264</td>\n",
              "      <td>0.000251</td>\n",
              "      <td>0.003555</td>\n",
              "      <td>0.020149</td>\n",
              "      <td>0.019155</td>\n",
              "      <td>0.007355</td>\n",
              "    </tr>\n",
              "    <tr>\n",
              "      <th>Family</th>\n",
              "      <td>-0.016382</td>\n",
              "      <td>-0.039279</td>\n",
              "      <td>-0.045610</td>\n",
              "      <td>-0.155666</td>\n",
              "      <td>0.011109</td>\n",
              "      <td>1.000000</td>\n",
              "      <td>-0.107230</td>\n",
              "      <td>0.064032</td>\n",
              "      <td>-0.020419</td>\n",
              "      <td>0.063088</td>\n",
              "      <td>0.020155</td>\n",
              "      <td>0.015274</td>\n",
              "      <td>0.008466</td>\n",
              "      <td>0.012905</td>\n",
              "    </tr>\n",
              "    <tr>\n",
              "      <th>CCAvg</th>\n",
              "      <td>-0.025607</td>\n",
              "      <td>-0.050879</td>\n",
              "      <td>-0.048939</td>\n",
              "      <td>0.646178</td>\n",
              "      <td>-0.002703</td>\n",
              "      <td>-0.107230</td>\n",
              "      <td>1.000000</td>\n",
              "      <td>-0.133939</td>\n",
              "      <td>0.109905</td>\n",
              "      <td>0.369388</td>\n",
              "      <td>0.012477</td>\n",
              "      <td>0.137587</td>\n",
              "      <td>-0.003476</td>\n",
              "      <td>-0.007377</td>\n",
              "    </tr>\n",
              "    <tr>\n",
              "      <th>Education</th>\n",
              "      <td>0.021902</td>\n",
              "      <td>0.046222</td>\n",
              "      <td>0.018243</td>\n",
              "      <td>-0.187992</td>\n",
              "      <td>-0.017391</td>\n",
              "      <td>0.064032</td>\n",
              "      <td>-0.133939</td>\n",
              "      <td>1.000000</td>\n",
              "      <td>-0.032559</td>\n",
              "      <td>0.138339</td>\n",
              "      <td>-0.007508</td>\n",
              "      <td>0.014639</td>\n",
              "      <td>-0.013932</td>\n",
              "      <td>-0.012604</td>\n",
              "    </tr>\n",
              "    <tr>\n",
              "      <th>Mortgage</th>\n",
              "      <td>-0.011172</td>\n",
              "      <td>-0.015184</td>\n",
              "      <td>-0.013459</td>\n",
              "      <td>0.206921</td>\n",
              "      <td>0.008264</td>\n",
              "      <td>-0.020419</td>\n",
              "      <td>0.109905</td>\n",
              "      <td>-0.032559</td>\n",
              "      <td>1.000000</td>\n",
              "      <td>0.142322</td>\n",
              "      <td>-0.003717</td>\n",
              "      <td>0.089369</td>\n",
              "      <td>-0.006754</td>\n",
              "      <td>-0.006910</td>\n",
              "    </tr>\n",
              "    <tr>\n",
              "      <th>Personal Loan</th>\n",
              "      <td>-0.025124</td>\n",
              "      <td>-0.014204</td>\n",
              "      <td>-0.014121</td>\n",
              "      <td>0.504228</td>\n",
              "      <td>0.000251</td>\n",
              "      <td>0.063088</td>\n",
              "      <td>0.369388</td>\n",
              "      <td>0.138339</td>\n",
              "      <td>0.142322</td>\n",
              "      <td>1.000000</td>\n",
              "      <td>0.022216</td>\n",
              "      <td>0.315769</td>\n",
              "      <td>0.006175</td>\n",
              "      <td>0.002776</td>\n",
              "    </tr>\n",
              "    <tr>\n",
              "      <th>Securities Account</th>\n",
              "      <td>-0.018961</td>\n",
              "      <td>0.000496</td>\n",
              "      <td>-0.000457</td>\n",
              "      <td>-0.002327</td>\n",
              "      <td>0.003555</td>\n",
              "      <td>0.020155</td>\n",
              "      <td>0.012477</td>\n",
              "      <td>-0.007508</td>\n",
              "      <td>-0.003717</td>\n",
              "      <td>0.022216</td>\n",
              "      <td>1.000000</td>\n",
              "      <td>0.319056</td>\n",
              "      <td>0.016101</td>\n",
              "      <td>-0.017030</td>\n",
              "    </tr>\n",
              "    <tr>\n",
              "      <th>CD Account</th>\n",
              "      <td>-0.007085</td>\n",
              "      <td>0.003261</td>\n",
              "      <td>0.005450</td>\n",
              "      <td>0.170171</td>\n",
              "      <td>0.020149</td>\n",
              "      <td>0.015274</td>\n",
              "      <td>0.137587</td>\n",
              "      <td>0.014639</td>\n",
              "      <td>0.089369</td>\n",
              "      <td>0.315769</td>\n",
              "      <td>0.319056</td>\n",
              "      <td>1.000000</td>\n",
              "      <td>0.176768</td>\n",
              "      <td>0.280151</td>\n",
              "    </tr>\n",
              "    <tr>\n",
              "      <th>Online</th>\n",
              "      <td>-0.001508</td>\n",
              "      <td>0.013542</td>\n",
              "      <td>0.013518</td>\n",
              "      <td>0.014433</td>\n",
              "      <td>0.019155</td>\n",
              "      <td>0.008466</td>\n",
              "      <td>-0.003476</td>\n",
              "      <td>-0.013932</td>\n",
              "      <td>-0.006754</td>\n",
              "      <td>0.006175</td>\n",
              "      <td>0.016101</td>\n",
              "      <td>0.176768</td>\n",
              "      <td>1.000000</td>\n",
              "      <td>0.008457</td>\n",
              "    </tr>\n",
              "    <tr>\n",
              "      <th>CreditCard</th>\n",
              "      <td>0.017294</td>\n",
              "      <td>0.007496</td>\n",
              "      <td>0.008876</td>\n",
              "      <td>-0.004493</td>\n",
              "      <td>0.007355</td>\n",
              "      <td>0.012905</td>\n",
              "      <td>-0.007377</td>\n",
              "      <td>-0.012604</td>\n",
              "      <td>-0.006910</td>\n",
              "      <td>0.002776</td>\n",
              "      <td>-0.017030</td>\n",
              "      <td>0.280151</td>\n",
              "      <td>0.008457</td>\n",
              "      <td>1.000000</td>\n",
              "    </tr>\n",
              "  </tbody>\n",
              "</table>\n",
              "</div>\n",
              "      <button class=\"colab-df-convert\" onclick=\"convertToInteractive('df-05a0adb3-c7e5-4a7c-be09-bf7bccb43e0d')\"\n",
              "              title=\"Convert this dataframe to an interactive table.\"\n",
              "              style=\"display:none;\">\n",
              "        \n",
              "  <svg xmlns=\"http://www.w3.org/2000/svg\" height=\"24px\"viewBox=\"0 0 24 24\"\n",
              "       width=\"24px\">\n",
              "    <path d=\"M0 0h24v24H0V0z\" fill=\"none\"/>\n",
              "    <path d=\"M18.56 5.44l.94 2.06.94-2.06 2.06-.94-2.06-.94-.94-2.06-.94 2.06-2.06.94zm-11 1L8.5 8.5l.94-2.06 2.06-.94-2.06-.94L8.5 2.5l-.94 2.06-2.06.94zm10 10l.94 2.06.94-2.06 2.06-.94-2.06-.94-.94-2.06-.94 2.06-2.06.94z\"/><path d=\"M17.41 7.96l-1.37-1.37c-.4-.4-.92-.59-1.43-.59-.52 0-1.04.2-1.43.59L10.3 9.45l-7.72 7.72c-.78.78-.78 2.05 0 2.83L4 21.41c.39.39.9.59 1.41.59.51 0 1.02-.2 1.41-.59l7.78-7.78 2.81-2.81c.8-.78.8-2.07 0-2.86zM5.41 20L4 18.59l7.72-7.72 1.47 1.35L5.41 20z\"/>\n",
              "  </svg>\n",
              "      </button>\n",
              "      \n",
              "  <style>\n",
              "    .colab-df-container {\n",
              "      display:flex;\n",
              "      flex-wrap:wrap;\n",
              "      gap: 12px;\n",
              "    }\n",
              "\n",
              "    .colab-df-convert {\n",
              "      background-color: #E8F0FE;\n",
              "      border: none;\n",
              "      border-radius: 50%;\n",
              "      cursor: pointer;\n",
              "      display: none;\n",
              "      fill: #1967D2;\n",
              "      height: 32px;\n",
              "      padding: 0 0 0 0;\n",
              "      width: 32px;\n",
              "    }\n",
              "\n",
              "    .colab-df-convert:hover {\n",
              "      background-color: #E2EBFA;\n",
              "      box-shadow: 0px 1px 2px rgba(60, 64, 67, 0.3), 0px 1px 3px 1px rgba(60, 64, 67, 0.15);\n",
              "      fill: #174EA6;\n",
              "    }\n",
              "\n",
              "    [theme=dark] .colab-df-convert {\n",
              "      background-color: #3B4455;\n",
              "      fill: #D2E3FC;\n",
              "    }\n",
              "\n",
              "    [theme=dark] .colab-df-convert:hover {\n",
              "      background-color: #434B5C;\n",
              "      box-shadow: 0px 1px 3px 1px rgba(0, 0, 0, 0.15);\n",
              "      filter: drop-shadow(0px 1px 2px rgba(0, 0, 0, 0.3));\n",
              "      fill: #FFFFFF;\n",
              "    }\n",
              "  </style>\n",
              "\n",
              "      <script>\n",
              "        const buttonEl =\n",
              "          document.querySelector('#df-05a0adb3-c7e5-4a7c-be09-bf7bccb43e0d button.colab-df-convert');\n",
              "        buttonEl.style.display =\n",
              "          google.colab.kernel.accessAllowed ? 'block' : 'none';\n",
              "\n",
              "        async function convertToInteractive(key) {\n",
              "          const element = document.querySelector('#df-05a0adb3-c7e5-4a7c-be09-bf7bccb43e0d');\n",
              "          const dataTable =\n",
              "            await google.colab.kernel.invokeFunction('convertToInteractive',\n",
              "                                                     [key], {});\n",
              "          if (!dataTable) return;\n",
              "\n",
              "          const docLinkHtml = 'Like what you see? Visit the ' +\n",
              "            '<a target=\"_blank\" href=https://colab.research.google.com/notebooks/data_table.ipynb>data table notebook</a>'\n",
              "            + ' to learn more about interactive tables.';\n",
              "          element.innerHTML = '';\n",
              "          dataTable['output_type'] = 'display_data';\n",
              "          await google.colab.output.renderOutput(dataTable, element);\n",
              "          const docLink = document.createElement('div');\n",
              "          docLink.innerHTML = docLinkHtml;\n",
              "          element.appendChild(docLink);\n",
              "        }\n",
              "      </script>\n",
              "    </div>\n",
              "  </div>\n",
              "  "
            ]
          },
          "metadata": {},
          "execution_count": 10
        }
      ]
    },
    {
      "cell_type": "code",
      "source": [
        "#sns.pairplot(datos_df, hue='Personal Loan' )\n",
        "#plt.show()"
      ],
      "metadata": {
        "id": "KX3RFBwHjaJs"
      },
      "execution_count": 11,
      "outputs": []
    },
    {
      "cell_type": "code",
      "source": [
        "#Revisando la correlación entre variables para ver cual eliminar del cálculo\n",
        "datos_df.corr()['Personal Loan'].sort_values(ascending=False)"
      ],
      "metadata": {
        "colab": {
          "base_uri": "https://localhost:8080/"
        },
        "id": "8Iw3VRqSy78l",
        "outputId": "aaa38f8b-70fa-4aad-82ad-198e83de4abf"
      },
      "execution_count": 12,
      "outputs": [
        {
          "output_type": "execute_result",
          "data": {
            "text/plain": [
              "Personal Loan         1.000000\n",
              "Income                0.504228\n",
              "CCAvg                 0.369388\n",
              "CD Account            0.315769\n",
              "Mortgage              0.142322\n",
              "Education             0.138339\n",
              "Family                0.063088\n",
              "Securities Account    0.022216\n",
              "Online                0.006175\n",
              "CreditCard            0.002776\n",
              "ZIP Code              0.000251\n",
              "Experience           -0.014121\n",
              "Age                  -0.014204\n",
              "ID                   -0.025124\n",
              "Name: Personal Loan, dtype: float64"
            ]
          },
          "metadata": {},
          "execution_count": 12
        }
      ]
    },
    {
      "cell_type": "code",
      "source": [
        "datos_df.corr()['Personal Loan'].sort_values(ascending=True)"
      ],
      "metadata": {
        "colab": {
          "base_uri": "https://localhost:8080/"
        },
        "id": "3K_NmlguTYNA",
        "outputId": "4b26ae46-df6b-4698-d74d-63c6fa617e74"
      },
      "execution_count": 13,
      "outputs": [
        {
          "output_type": "execute_result",
          "data": {
            "text/plain": [
              "ID                   -0.025124\n",
              "Age                  -0.014204\n",
              "Experience           -0.014121\n",
              "ZIP Code              0.000251\n",
              "CreditCard            0.002776\n",
              "Online                0.006175\n",
              "Securities Account    0.022216\n",
              "Family                0.063088\n",
              "Education             0.138339\n",
              "Mortgage              0.142322\n",
              "CD Account            0.315769\n",
              "CCAvg                 0.369388\n",
              "Income                0.504228\n",
              "Personal Loan         1.000000\n",
              "Name: Personal Loan, dtype: float64"
            ]
          },
          "metadata": {},
          "execution_count": 13
        }
      ]
    },
    {
      "cell_type": "code",
      "source": [],
      "metadata": {
        "id": "NxNC6oqETwom"
      },
      "execution_count": 13,
      "outputs": []
    },
    {
      "cell_type": "code",
      "source": [
        "datos_df.corr()['Personal Loan'].sort_values(ascending=True)"
      ],
      "metadata": {
        "colab": {
          "base_uri": "https://localhost:8080/"
        },
        "id": "2NmjVTCRUyyu",
        "outputId": "bd65b171-be22-44fe-f56e-135adb047f50"
      },
      "execution_count": 14,
      "outputs": [
        {
          "output_type": "execute_result",
          "data": {
            "text/plain": [
              "ID                   -0.025124\n",
              "Age                  -0.014204\n",
              "Experience           -0.014121\n",
              "ZIP Code              0.000251\n",
              "CreditCard            0.002776\n",
              "Online                0.006175\n",
              "Securities Account    0.022216\n",
              "Family                0.063088\n",
              "Education             0.138339\n",
              "Mortgage              0.142322\n",
              "CD Account            0.315769\n",
              "CCAvg                 0.369388\n",
              "Income                0.504228\n",
              "Personal Loan         1.000000\n",
              "Name: Personal Loan, dtype: float64"
            ]
          },
          "metadata": {},
          "execution_count": 14
        }
      ]
    },
    {
      "cell_type": "code",
      "source": [
        "#Nos quedamos solo con las variables con correlación más baja\n",
        "#datos_df = datos_df.drop(columns=['Income'])\n",
        "#datos_df = datos_df.drop(columns=['CCAvg'])\n",
        "#datos_df = datos_df.drop(columns=['CD Account'])\n",
        "#datos_df = datos_df.drop(columns=['Mortgage'])\n",
        "\n",
        "#datos_df\n"
      ],
      "metadata": {
        "id": "foP2QkeeVA0n"
      },
      "execution_count": 15,
      "outputs": []
    },
    {
      "cell_type": "code",
      "source": [
        "#Sólo se mantienen las columnas con menor correlación\n",
        "#Age                  -0.014204\n",
        "#Experience           -0.014121\n",
        "#CreditCard            0.002776\n",
        "#Online                0.006175\n",
        "#Securities Account    0.022216\n",
        "#Family                0.063088\n",
        "#Education             0.138339"
      ],
      "metadata": {
        "id": "qNxcZm-CVeSI"
      },
      "execution_count": 16,
      "outputs": []
    },
    {
      "cell_type": "code",
      "source": [
        "plt.figure(figsize = (10,6))\n",
        "sns.countplot('Personal Loan',data=datos_df).set_title('Distribution of Target Variable')\n",
        "plt.show()"
      ],
      "metadata": {
        "colab": {
          "base_uri": "https://localhost:8080/",
          "height": 461
        },
        "id": "TIochTITuKjz",
        "outputId": "fb8eccc1-5109-407d-aa81-fffb86d40055"
      },
      "execution_count": 17,
      "outputs": [
        {
          "output_type": "stream",
          "name": "stderr",
          "text": [
            "/usr/local/lib/python3.7/dist-packages/seaborn/_decorators.py:43: FutureWarning: Pass the following variable as a keyword arg: x. From version 0.12, the only valid positional argument will be `data`, and passing other arguments without an explicit keyword will result in an error or misinterpretation.\n",
            "  FutureWarning\n"
          ]
        },
        {
          "output_type": "display_data",
          "data": {
            "text/plain": [
              "<Figure size 720x432 with 1 Axes>"
            ],
            "image/png": "[encoded data removed]"
          },
          "metadata": {
            "needs_background": "light"
          }
        }
      ]
    },
    {
      "cell_type": "code",
      "source": [
        "X_tmp = datos_df.drop('Personal Loan',axis=1)\n",
        "Y_tmp = datos_df['Personal Loan']\n",
        "\n",
        "X = np.array(X_tmp)\n",
        "Y = np.array(Y_tmp)\n"
      ],
      "metadata": {
        "id": "4wUacr6GvZtj"
      },
      "execution_count": 18,
      "outputs": []
    },
    {
      "cell_type": "markdown",
      "source": [
        "**Análisis de Chi cuadrada para saber con cuáles variables nos quedamos**"
      ],
      "metadata": {
        "id": "ZaO5_jHXvYO3"
      }
    },
    {
      "cell_type": "code",
      "source": [
        "from sklearn.feature_selection import SelectKBest\n",
        "from sklearn.feature_selection import chi2"
      ],
      "metadata": {
        "id": "Ok9ggtCZxRxz"
      },
      "execution_count": 19,
      "outputs": []
    },
    {
      "cell_type": "code",
      "source": [
        "X_new = SelectKBest(chi2, k=2).fit_transform(X, Y)\n",
        "X_new"
      ],
      "metadata": {
        "colab": {
          "base_uri": "https://localhost:8080/"
        },
        "id": "2kNfHsv-xOei",
        "outputId": "18d180dc-46ec-4aef-d9e6-7a862407d1d9"
      },
      "execution_count": 20,
      "outputs": [
        {
          "output_type": "execute_result",
          "data": {
            "text/plain": [
              "array([[49.,  0.],\n",
              "       [34.,  0.],\n",
              "       [11.,  0.],\n",
              "       ...,\n",
              "       [24.,  0.],\n",
              "       [49.,  0.],\n",
              "       [83.,  0.]])"
            ]
          },
          "metadata": {},
          "execution_count": 20
        }
      ]
    },
    {
      "cell_type": "code",
      "source": [
        "X_new[0,:]"
      ],
      "metadata": {
        "colab": {
          "base_uri": "https://localhost:8080/"
        },
        "id": "nrvj2QqjxXhJ",
        "outputId": "65ac752d-8933-4887-d281-ae350088f477"
      },
      "execution_count": 21,
      "outputs": [
        {
          "output_type": "execute_result",
          "data": {
            "text/plain": [
              "array([49.,  0.])"
            ]
          },
          "metadata": {},
          "execution_count": 21
        }
      ]
    },
    {
      "cell_type": "code",
      "source": [
        "X[0,:]"
      ],
      "metadata": {
        "colab": {
          "base_uri": "https://localhost:8080/"
        },
        "id": "dmZ__3cIxbTB",
        "outputId": "b69bbad4-79c4-47c1-81f5-acb6cd8bbc06"
      },
      "execution_count": 22,
      "outputs": [
        {
          "output_type": "execute_result",
          "data": {
            "text/plain": [
              "array([1.0000e+00, 2.5000e+01, 1.0000e+00, 4.9000e+01, 9.1107e+04,\n",
              "       4.0000e+00, 1.6000e+00, 1.0000e+00, 0.0000e+00, 1.0000e+00,\n",
              "       0.0000e+00, 0.0000e+00, 0.0000e+00])"
            ]
          },
          "metadata": {},
          "execution_count": 22
        }
      ]
    },
    {
      "cell_type": "code",
      "source": [
        "best =  SelectKBest(chi2, k=6).fit(X,Y)\n",
        "best.get_feature_names_out()\n",
        "\n",
        "#Seleccionamos las variables con más independencia para quedarnos con ellas"
      ],
      "metadata": {
        "colab": {
          "base_uri": "https://localhost:8080/"
        },
        "id": "MZkByTrRddVn",
        "outputId": "ef281964-0b86-4b38-88e6-30b3db7bf3e2"
      },
      "execution_count": 23,
      "outputs": [
        {
          "output_type": "execute_result",
          "data": {
            "text/plain": [
              "array(['x0', 'x3', 'x6', 'x7', 'x8', 'x10'], dtype=object)"
            ]
          },
          "metadata": {},
          "execution_count": 23
        }
      ]
    },
    {
      "cell_type": "code",
      "source": [
        "# X0 Age\t\n",
        "# X1 Experience\t\n",
        "# X2 Income\n",
        "# X3 Family\n",
        "# X4 CCAvg\n",
        "# X5 Education\n",
        "# X6 Mortgage\n",
        "# X7 Personal Loan\n",
        "# X8 Securities Account\n",
        "# X9 CD Account\n",
        "# X10 Online\n",
        "# X11 CreditCard"
      ],
      "metadata": {
        "id": "fRVs9MExZpOQ"
      },
      "execution_count": 24,
      "outputs": []
    },
    {
      "cell_type": "code",
      "source": [
        "#Eliminamos las columnas de acuerdo a chi cuadrada\n",
        "datos_df = datos_df.drop(columns=['Age'])\n",
        "datos_df = datos_df.drop(columns=['Experience'])\n",
        "datos_df = datos_df.drop(columns=['Securities Account'])\n",
        "datos_df = datos_df.drop(columns=['Online'])\n",
        "datos_df = datos_df.drop(columns=['CreditCard'])\n",
        "datos_df = datos_df.drop(columns=['ID'])\n",
        "datos_df = datos_df.drop(columns=['ZIP Code'])\n",
        "datos_df"
      ],
      "metadata": {
        "id": "yRJ7To7fo5PV",
        "colab": {
          "base_uri": "https://localhost:8080/",
          "height": 423
        },
        "outputId": "32044563-27c9-4e52-a05a-1e709b1769d6"
      },
      "execution_count": 25,
      "outputs": [
        {
          "output_type": "execute_result",
          "data": {
            "text/plain": [
              "      Income  Family  CCAvg  Education  Mortgage  Personal Loan  CD Account\n",
              "0         49       4    1.6          1         0              0           0\n",
              "1         34       3    1.5          1         0              0           0\n",
              "2         11       1    1.0          1         0              0           0\n",
              "3        100       1    2.7          2         0              0           0\n",
              "4         45       4    1.0          2         0              0           0\n",
              "...      ...     ...    ...        ...       ...            ...         ...\n",
              "4995      40       1    1.9          3         0              0           0\n",
              "4996      15       4    0.4          1        85              0           0\n",
              "4997      24       2    0.3          3         0              0           0\n",
              "4998      49       3    0.5          2         0              0           0\n",
              "4999      83       3    0.8          1         0              0           0\n",
              "\n",
              "[4948 rows x 7 columns]"
            ],
            "text/html": [
              "\n",
              "  <div id=\"df-3d7222d6-ab29-46f5-8114-984cde7d18e2\">\n",
              "    <div class=\"colab-df-container\">\n",
              "      <div>\n",
              "<style scoped>\n",
              "    .dataframe tbody tr th:only-of-type {\n",
              "        vertical-align: middle;\n",
              "    }\n",
              "\n",
              "    .dataframe tbody tr th {\n",
              "        vertical-align: top;\n",
              "    }\n",
              "\n",
              "    .dataframe thead th {\n",
              "        text-align: right;\n",
              "    }\n",
              "</style>\n",
              "<table border=\"1\" class=\"dataframe\">\n",
              "  <thead>\n",
              "    <tr style=\"text-align: right;\">\n",
              "      <th></th>\n",
              "      <th>Income</th>\n",
              "      <th>Family</th>\n",
              "      <th>CCAvg</th>\n",
              "      <th>Education</th>\n",
              "      <th>Mortgage</th>\n",
              "      <th>Personal Loan</th>\n",
              "      <th>CD Account</th>\n",
              "    </tr>\n",
              "  </thead>\n",
              "  <tbody>\n",
              "    <tr>\n",
              "      <th>0</th>\n",
              "      <td>49</td>\n",
              "      <td>4</td>\n",
              "      <td>1.6</td>\n",
              "      <td>1</td>\n",
              "      <td>0</td>\n",
              "      <td>0</td>\n",
              "      <td>0</td>\n",
              "    </tr>\n",
              "    <tr>\n",
              "      <th>1</th>\n",
              "      <td>34</td>\n",
              "      <td>3</td>\n",
              "      <td>1.5</td>\n",
              "      <td>1</td>\n",
              "      <td>0</td>\n",
              "      <td>0</td>\n",
              "      <td>0</td>\n",
              "    </tr>\n",
              "    <tr>\n",
              "      <th>2</th>\n",
              "      <td>11</td>\n",
              "      <td>1</td>\n",
              "      <td>1.0</td>\n",
              "      <td>1</td>\n",
              "      <td>0</td>\n",
              "      <td>0</td>\n",
              "      <td>0</td>\n",
              "    </tr>\n",
              "    <tr>\n",
              "      <th>3</th>\n",
              "      <td>100</td>\n",
              "      <td>1</td>\n",
              "      <td>2.7</td>\n",
              "      <td>2</td>\n",
              "      <td>0</td>\n",
              "      <td>0</td>\n",
              "      <td>0</td>\n",
              "    </tr>\n",
              "    <tr>\n",
              "      <th>4</th>\n",
              "      <td>45</td>\n",
              "      <td>4</td>\n",
              "      <td>1.0</td>\n",
              "      <td>2</td>\n",
              "      <td>0</td>\n",
              "      <td>0</td>\n",
              "      <td>0</td>\n",
              "    </tr>\n",
              "    <tr>\n",
              "      <th>...</th>\n",
              "      <td>...</td>\n",
              "      <td>...</td>\n",
              "      <td>...</td>\n",
              "      <td>...</td>\n",
              "      <td>...</td>\n",
              "      <td>...</td>\n",
              "      <td>...</td>\n",
              "    </tr>\n",
              "    <tr>\n",
              "      <th>4995</th>\n",
              "      <td>40</td>\n",
              "      <td>1</td>\n",
              "      <td>1.9</td>\n",
              "      <td>3</td>\n",
              "      <td>0</td>\n",
              "      <td>0</td>\n",
              "      <td>0</td>\n",
              "    </tr>\n",
              "    <tr>\n",
              "      <th>4996</th>\n",
              "      <td>15</td>\n",
              "      <td>4</td>\n",
              "      <td>0.4</td>\n",
              "      <td>1</td>\n",
              "      <td>85</td>\n",
              "      <td>0</td>\n",
              "      <td>0</td>\n",
              "    </tr>\n",
              "    <tr>\n",
              "      <th>4997</th>\n",
              "      <td>24</td>\n",
              "      <td>2</td>\n",
              "      <td>0.3</td>\n",
              "      <td>3</td>\n",
              "      <td>0</td>\n",
              "      <td>0</td>\n",
              "      <td>0</td>\n",
              "    </tr>\n",
              "    <tr>\n",
              "      <th>4998</th>\n",
              "      <td>49</td>\n",
              "      <td>3</td>\n",
              "      <td>0.5</td>\n",
              "      <td>2</td>\n",
              "      <td>0</td>\n",
              "      <td>0</td>\n",
              "      <td>0</td>\n",
              "    </tr>\n",
              "    <tr>\n",
              "      <th>4999</th>\n",
              "      <td>83</td>\n",
              "      <td>3</td>\n",
              "      <td>0.8</td>\n",
              "      <td>1</td>\n",
              "      <td>0</td>\n",
              "      <td>0</td>\n",
              "      <td>0</td>\n",
              "    </tr>\n",
              "  </tbody>\n",
              "</table>\n",
              "<p>4948 rows × 7 columns</p>\n",
              "</div>\n",
              "      <button class=\"colab-df-convert\" onclick=\"convertToInteractive('df-3d7222d6-ab29-46f5-8114-984cde7d18e2')\"\n",
              "              title=\"Convert this dataframe to an interactive table.\"\n",
              "              style=\"display:none;\">\n",
              "        \n",
              "  <svg xmlns=\"http://www.w3.org/2000/svg\" height=\"24px\"viewBox=\"0 0 24 24\"\n",
              "       width=\"24px\">\n",
              "    <path d=\"M0 0h24v24H0V0z\" fill=\"none\"/>\n",
              "    <path d=\"M18.56 5.44l.94 2.06.94-2.06 2.06-.94-2.06-.94-.94-2.06-.94 2.06-2.06.94zm-11 1L8.5 8.5l.94-2.06 2.06-.94-2.06-.94L8.5 2.5l-.94 2.06-2.06.94zm10 10l.94 2.06.94-2.06 2.06-.94-2.06-.94-.94-2.06-.94 2.06-2.06.94z\"/><path d=\"M17.41 7.96l-1.37-1.37c-.4-.4-.92-.59-1.43-.59-.52 0-1.04.2-1.43.59L10.3 9.45l-7.72 7.72c-.78.78-.78 2.05 0 2.83L4 21.41c.39.39.9.59 1.41.59.51 0 1.02-.2 1.41-.59l7.78-7.78 2.81-2.81c.8-.78.8-2.07 0-2.86zM5.41 20L4 18.59l7.72-7.72 1.47 1.35L5.41 20z\"/>\n",
              "  </svg>\n",
              "      </button>\n",
              "      \n",
              "  <style>\n",
              "    .colab-df-container {\n",
              "      display:flex;\n",
              "      flex-wrap:wrap;\n",
              "      gap: 12px;\n",
              "    }\n",
              "\n",
              "    .colab-df-convert {\n",
              "      background-color: #E8F0FE;\n",
              "      border: none;\n",
              "      border-radius: 50%;\n",
              "      cursor: pointer;\n",
              "      display: none;\n",
              "      fill: #1967D2;\n",
              "      height: 32px;\n",
              "      padding: 0 0 0 0;\n",
              "      width: 32px;\n",
              "    }\n",
              "\n",
              "    .colab-df-convert:hover {\n",
              "      background-color: #E2EBFA;\n",
              "      box-shadow: 0px 1px 2px rgba(60, 64, 67, 0.3), 0px 1px 3px 1px rgba(60, 64, 67, 0.15);\n",
              "      fill: #174EA6;\n",
              "    }\n",
              "\n",
              "    [theme=dark] .colab-df-convert {\n",
              "      background-color: #3B4455;\n",
              "      fill: #D2E3FC;\n",
              "    }\n",
              "\n",
              "    [theme=dark] .colab-df-convert:hover {\n",
              "      background-color: #434B5C;\n",
              "      box-shadow: 0px 1px 3px 1px rgba(0, 0, 0, 0.15);\n",
              "      filter: drop-shadow(0px 1px 2px rgba(0, 0, 0, 0.3));\n",
              "      fill: #FFFFFF;\n",
              "    }\n",
              "  </style>\n",
              "\n",
              "      <script>\n",
              "        const buttonEl =\n",
              "          document.querySelector('#df-3d7222d6-ab29-46f5-8114-984cde7d18e2 button.colab-df-convert');\n",
              "        buttonEl.style.display =\n",
              "          google.colab.kernel.accessAllowed ? 'block' : 'none';\n",
              "\n",
              "        async function convertToInteractive(key) {\n",
              "          const element = document.querySelector('#df-3d7222d6-ab29-46f5-8114-984cde7d18e2');\n",
              "          const dataTable =\n",
              "            await google.colab.kernel.invokeFunction('convertToInteractive',\n",
              "                                                     [key], {});\n",
              "          if (!dataTable) return;\n",
              "\n",
              "          const docLinkHtml = 'Like what you see? Visit the ' +\n",
              "            '<a target=\"_blank\" href=https://colab.research.google.com/notebooks/data_table.ipynb>data table notebook</a>'\n",
              "            + ' to learn more about interactive tables.';\n",
              "          element.innerHTML = '';\n",
              "          dataTable['output_type'] = 'display_data';\n",
              "          await google.colab.output.renderOutput(dataTable, element);\n",
              "          const docLink = document.createElement('div');\n",
              "          docLink.innerHTML = docLinkHtml;\n",
              "          element.appendChild(docLink);\n",
              "        }\n",
              "      </script>\n",
              "    </div>\n",
              "  </div>\n",
              "  "
            ]
          },
          "metadata": {},
          "execution_count": 25
        }
      ]
    },
    {
      "cell_type": "code",
      "source": [
        "datos_df"
      ],
      "metadata": {
        "colab": {
          "base_uri": "https://localhost:8080/",
          "height": 423
        },
        "id": "Rs0VQscSXemm",
        "outputId": "9702b5f5-557c-43dc-8e18-cdd2a3836897"
      },
      "execution_count": 26,
      "outputs": [
        {
          "output_type": "execute_result",
          "data": {
            "text/plain": [
              "      Income  Family  CCAvg  Education  Mortgage  Personal Loan  CD Account\n",
              "0         49       4    1.6          1         0              0           0\n",
              "1         34       3    1.5          1         0              0           0\n",
              "2         11       1    1.0          1         0              0           0\n",
              "3        100       1    2.7          2         0              0           0\n",
              "4         45       4    1.0          2         0              0           0\n",
              "...      ...     ...    ...        ...       ...            ...         ...\n",
              "4995      40       1    1.9          3         0              0           0\n",
              "4996      15       4    0.4          1        85              0           0\n",
              "4997      24       2    0.3          3         0              0           0\n",
              "4998      49       3    0.5          2         0              0           0\n",
              "4999      83       3    0.8          1         0              0           0\n",
              "\n",
              "[4948 rows x 7 columns]"
            ],
            "text/html": [
              "\n",
              "  <div id=\"df-807a3ba3-664c-4b16-a835-08f6ef7e2be4\">\n",
              "    <div class=\"colab-df-container\">\n",
              "      <div>\n",
              "<style scoped>\n",
              "    .dataframe tbody tr th:only-of-type {\n",
              "        vertical-align: middle;\n",
              "    }\n",
              "\n",
              "    .dataframe tbody tr th {\n",
              "        vertical-align: top;\n",
              "    }\n",
              "\n",
              "    .dataframe thead th {\n",
              "        text-align: right;\n",
              "    }\n",
              "</style>\n",
              "<table border=\"1\" class=\"dataframe\">\n",
              "  <thead>\n",
              "    <tr style=\"text-align: right;\">\n",
              "      <th></th>\n",
              "      <th>Income</th>\n",
              "      <th>Family</th>\n",
              "      <th>CCAvg</th>\n",
              "      <th>Education</th>\n",
              "      <th>Mortgage</th>\n",
              "      <th>Personal Loan</th>\n",
              "      <th>CD Account</th>\n",
              "    </tr>\n",
              "  </thead>\n",
              "  <tbody>\n",
              "    <tr>\n",
              "      <th>0</th>\n",
              "      <td>49</td>\n",
              "      <td>4</td>\n",
              "      <td>1.6</td>\n",
              "      <td>1</td>\n",
              "      <td>0</td>\n",
              "      <td>0</td>\n",
              "      <td>0</td>\n",
              "    </tr>\n",
              "    <tr>\n",
              "      <th>1</th>\n",
              "      <td>34</td>\n",
              "      <td>3</td>\n",
              "      <td>1.5</td>\n",
              "      <td>1</td>\n",
              "      <td>0</td>\n",
              "      <td>0</td>\n",
              "      <td>0</td>\n",
              "    </tr>\n",
              "    <tr>\n",
              "      <th>2</th>\n",
              "      <td>11</td>\n",
              "      <td>1</td>\n",
              "      <td>1.0</td>\n",
              "      <td>1</td>\n",
              "      <td>0</td>\n",
              "      <td>0</td>\n",
              "      <td>0</td>\n",
              "    </tr>\n",
              "    <tr>\n",
              "      <th>3</th>\n",
              "      <td>100</td>\n",
              "      <td>1</td>\n",
              "      <td>2.7</td>\n",
              "      <td>2</td>\n",
              "      <td>0</td>\n",
              "      <td>0</td>\n",
              "      <td>0</td>\n",
              "    </tr>\n",
              "    <tr>\n",
              "      <th>4</th>\n",
              "      <td>45</td>\n",
              "      <td>4</td>\n",
              "      <td>1.0</td>\n",
              "      <td>2</td>\n",
              "      <td>0</td>\n",
              "      <td>0</td>\n",
              "      <td>0</td>\n",
              "    </tr>\n",
              "    <tr>\n",
              "      <th>...</th>\n",
              "      <td>...</td>\n",
              "      <td>...</td>\n",
              "      <td>...</td>\n",
              "      <td>...</td>\n",
              "      <td>...</td>\n",
              "      <td>...</td>\n",
              "      <td>...</td>\n",
              "    </tr>\n",
              "    <tr>\n",
              "      <th>4995</th>\n",
              "      <td>40</td>\n",
              "      <td>1</td>\n",
              "      <td>1.9</td>\n",
              "      <td>3</td>\n",
              "      <td>0</td>\n",
              "      <td>0</td>\n",
              "      <td>0</td>\n",
              "    </tr>\n",
              "    <tr>\n",
              "      <th>4996</th>\n",
              "      <td>15</td>\n",
              "      <td>4</td>\n",
              "      <td>0.4</td>\n",
              "      <td>1</td>\n",
              "      <td>85</td>\n",
              "      <td>0</td>\n",
              "      <td>0</td>\n",
              "    </tr>\n",
              "    <tr>\n",
              "      <th>4997</th>\n",
              "      <td>24</td>\n",
              "      <td>2</td>\n",
              "      <td>0.3</td>\n",
              "      <td>3</td>\n",
              "      <td>0</td>\n",
              "      <td>0</td>\n",
              "      <td>0</td>\n",
              "    </tr>\n",
              "    <tr>\n",
              "      <th>4998</th>\n",
              "      <td>49</td>\n",
              "      <td>3</td>\n",
              "      <td>0.5</td>\n",
              "      <td>2</td>\n",
              "      <td>0</td>\n",
              "      <td>0</td>\n",
              "      <td>0</td>\n",
              "    </tr>\n",
              "    <tr>\n",
              "      <th>4999</th>\n",
              "      <td>83</td>\n",
              "      <td>3</td>\n",
              "      <td>0.8</td>\n",
              "      <td>1</td>\n",
              "      <td>0</td>\n",
              "      <td>0</td>\n",
              "      <td>0</td>\n",
              "    </tr>\n",
              "  </tbody>\n",
              "</table>\n",
              "<p>4948 rows × 7 columns</p>\n",
              "</div>\n",
              "      <button class=\"colab-df-convert\" onclick=\"convertToInteractive('df-807a3ba3-664c-4b16-a835-08f6ef7e2be4')\"\n",
              "              title=\"Convert this dataframe to an interactive table.\"\n",
              "              style=\"display:none;\">\n",
              "        \n",
              "  <svg xmlns=\"http://www.w3.org/2000/svg\" height=\"24px\"viewBox=\"0 0 24 24\"\n",
              "       width=\"24px\">\n",
              "    <path d=\"M0 0h24v24H0V0z\" fill=\"none\"/>\n",
              "    <path d=\"M18.56 5.44l.94 2.06.94-2.06 2.06-.94-2.06-.94-.94-2.06-.94 2.06-2.06.94zm-11 1L8.5 8.5l.94-2.06 2.06-.94-2.06-.94L8.5 2.5l-.94 2.06-2.06.94zm10 10l.94 2.06.94-2.06 2.06-.94-2.06-.94-.94-2.06-.94 2.06-2.06.94z\"/><path d=\"M17.41 7.96l-1.37-1.37c-.4-.4-.92-.59-1.43-.59-.52 0-1.04.2-1.43.59L10.3 9.45l-7.72 7.72c-.78.78-.78 2.05 0 2.83L4 21.41c.39.39.9.59 1.41.59.51 0 1.02-.2 1.41-.59l7.78-7.78 2.81-2.81c.8-.78.8-2.07 0-2.86zM5.41 20L4 18.59l7.72-7.72 1.47 1.35L5.41 20z\"/>\n",
              "  </svg>\n",
              "      </button>\n",
              "      \n",
              "  <style>\n",
              "    .colab-df-container {\n",
              "      display:flex;\n",
              "      flex-wrap:wrap;\n",
              "      gap: 12px;\n",
              "    }\n",
              "\n",
              "    .colab-df-convert {\n",
              "      background-color: #E8F0FE;\n",
              "      border: none;\n",
              "      border-radius: 50%;\n",
              "      cursor: pointer;\n",
              "      display: none;\n",
              "      fill: #1967D2;\n",
              "      height: 32px;\n",
              "      padding: 0 0 0 0;\n",
              "      width: 32px;\n",
              "    }\n",
              "\n",
              "    .colab-df-convert:hover {\n",
              "      background-color: #E2EBFA;\n",
              "      box-shadow: 0px 1px 2px rgba(60, 64, 67, 0.3), 0px 1px 3px 1px rgba(60, 64, 67, 0.15);\n",
              "      fill: #174EA6;\n",
              "    }\n",
              "\n",
              "    [theme=dark] .colab-df-convert {\n",
              "      background-color: #3B4455;\n",
              "      fill: #D2E3FC;\n",
              "    }\n",
              "\n",
              "    [theme=dark] .colab-df-convert:hover {\n",
              "      background-color: #434B5C;\n",
              "      box-shadow: 0px 1px 3px 1px rgba(0, 0, 0, 0.15);\n",
              "      filter: drop-shadow(0px 1px 2px rgba(0, 0, 0, 0.3));\n",
              "      fill: #FFFFFF;\n",
              "    }\n",
              "  </style>\n",
              "\n",
              "      <script>\n",
              "        const buttonEl =\n",
              "          document.querySelector('#df-807a3ba3-664c-4b16-a835-08f6ef7e2be4 button.colab-df-convert');\n",
              "        buttonEl.style.display =\n",
              "          google.colab.kernel.accessAllowed ? 'block' : 'none';\n",
              "\n",
              "        async function convertToInteractive(key) {\n",
              "          const element = document.querySelector('#df-807a3ba3-664c-4b16-a835-08f6ef7e2be4');\n",
              "          const dataTable =\n",
              "            await google.colab.kernel.invokeFunction('convertToInteractive',\n",
              "                                                     [key], {});\n",
              "          if (!dataTable) return;\n",
              "\n",
              "          const docLinkHtml = 'Like what you see? Visit the ' +\n",
              "            '<a target=\"_blank\" href=https://colab.research.google.com/notebooks/data_table.ipynb>data table notebook</a>'\n",
              "            + ' to learn more about interactive tables.';\n",
              "          element.innerHTML = '';\n",
              "          dataTable['output_type'] = 'display_data';\n",
              "          await google.colab.output.renderOutput(dataTable, element);\n",
              "          const docLink = document.createElement('div');\n",
              "          docLink.innerHTML = docLinkHtml;\n",
              "          element.appendChild(docLink);\n",
              "        }\n",
              "      </script>\n",
              "    </div>\n",
              "  </div>\n",
              "  "
            ]
          },
          "metadata": {},
          "execution_count": 26
        }
      ]
    },
    {
      "cell_type": "code",
      "source": [
        "X_tmp = datos_df.drop('Personal Loan',axis=1)\n",
        "Y_tmp = datos_df['Personal Loan']\n",
        "\n",
        "X = np.array(X_tmp)\n",
        "Y = np.array(Y_tmp)"
      ],
      "metadata": {
        "id": "cLapRCXzpq4g"
      },
      "execution_count": 27,
      "outputs": []
    },
    {
      "cell_type": "markdown",
      "source": [
        "**Dividimos la BD en entrenamiento y prueba**"
      ],
      "metadata": {
        "id": "kFedwFgbWY2y"
      }
    },
    {
      "cell_type": "code",
      "source": [
        "from sklearn.model_selection import train_test_split\n",
        "X = datos_df.drop('Personal Loan',axis=1)\n",
        "Y = datos_df['Personal Loan']\n",
        "X_train, X_test, y_train, y_test = train_test_split(X, Y, test_size=0.3, stratify = Y)\n",
        "X_train.shape, X_test.shape, y_train.shape, y_test.shape"
      ],
      "metadata": {
        "colab": {
          "base_uri": "https://localhost:8080/"
        },
        "id": "2XKRFcvkLJID",
        "outputId": "73e74594-7774-47e1-d0d6-9a268983d8dd"
      },
      "execution_count": 28,
      "outputs": [
        {
          "output_type": "execute_result",
          "data": {
            "text/plain": [
              "((3463, 6), (1485, 6), (3463,), (1485,))"
            ]
          },
          "metadata": {},
          "execution_count": 28
        }
      ]
    },
    {
      "cell_type": "markdown",
      "source": [
        "**Modelo Naive Bayes**"
      ],
      "metadata": {
        "id": "RQwPBxTO0lU2"
      }
    },
    {
      "cell_type": "code",
      "source": [
        "from sklearn.naive_bayes import GaussianNB\n",
        "NB = GaussianNB()"
      ],
      "metadata": {
        "id": "UVhcDSOk0mGt"
      },
      "execution_count": 29,
      "outputs": []
    },
    {
      "cell_type": "markdown",
      "source": [
        "**Entrenamiento**"
      ],
      "metadata": {
        "id": "g0W41xMvjEvG"
      }
    },
    {
      "cell_type": "code",
      "source": [
        "NB.fit(X_train,y_train)"
      ],
      "metadata": {
        "colab": {
          "base_uri": "https://localhost:8080/"
        },
        "id": "x2_yZIWVi-Ra",
        "outputId": "251c9fb6-a99a-4f5f-e500-72e75dd7b8cd"
      },
      "execution_count": 30,
      "outputs": [
        {
          "output_type": "execute_result",
          "data": {
            "text/plain": [
              "GaussianNB()"
            ]
          },
          "metadata": {},
          "execution_count": 30
        }
      ]
    },
    {
      "cell_type": "markdown",
      "source": [
        "**Predict**"
      ],
      "metadata": {
        "id": "790Sqpb8jQH_"
      }
    },
    {
      "cell_type": "code",
      "source": [
        "predic = NB.predict(X_test)"
      ],
      "metadata": {
        "id": "K62mi4ApjPrt"
      },
      "execution_count": 41,
      "outputs": []
    },
    {
      "cell_type": "code",
      "source": [
        "print('la probabilidad de acierto \\n')\n",
        "print((np.sum(predic == y_test)/len(predic))*100)\n",
        "print(predic.sum())"
      ],
      "metadata": {
        "colab": {
          "base_uri": "https://localhost:8080/"
        },
        "id": "vI8H-pF0oDy9",
        "outputId": "39073a49-9177-41b9-8c72-42b91d1e005f"
      },
      "execution_count": 42,
      "outputs": [
        {
          "output_type": "stream",
          "name": "stdout",
          "text": [
            "la probabilidad de acierto \n",
            "\n",
            "89.36026936026936\n",
            "176\n"
          ]
        }
      ]
    },
    {
      "cell_type": "markdown",
      "source": [
        "**Precisión (accuracy)**"
      ],
      "metadata": {
        "id": "VpBgB7gEqbdH"
      }
    },
    {
      "cell_type": "code",
      "source": [
        "accuracy_score(y_test, predic)"
      ],
      "metadata": {
        "colab": {
          "base_uri": "https://localhost:8080/"
        },
        "id": "1tgHPQhrqaOI",
        "outputId": "518366a6-ea2f-49d6-826b-07f6391e974d"
      },
      "execution_count": 48,
      "outputs": [
        {
          "output_type": "execute_result",
          "data": {
            "text/plain": [
              "0.8936026936026936"
            ]
          },
          "metadata": {},
          "execution_count": 48
        }
      ]
    },
    {
      "cell_type": "markdown",
      "source": [
        "**Matriz de Confusión**"
      ],
      "metadata": {
        "id": "VarZ9YVEk7Aw"
      }
    },
    {
      "cell_type": "code",
      "source": [
        "\n",
        "pd.crosstab(y_test, predic, rownames=['True'], colnames=['Predicted'], margins=True)"
      ],
      "metadata": {
        "id": "pXfZ9p2Q1GWM",
        "colab": {
          "base_uri": "https://localhost:8080/",
          "height": 175
        },
        "outputId": "e8aa676e-b028-458c-a561-97376c812ba5"
      },
      "execution_count": 43,
      "outputs": [
        {
          "output_type": "execute_result",
          "data": {
            "text/plain": [
              "Predicted     0    1   All\n",
              "True                      \n",
              "0          1246   95  1341\n",
              "1            63   81   144\n",
              "All        1309  176  1485"
            ],
            "text/html": [
              "\n",
              "  <div id=\"df-516cb39c-f019-4f4e-9c7f-3cef48d4e384\">\n",
              "    <div class=\"colab-df-container\">\n",
              "      <div>\n",
              "<style scoped>\n",
              "    .dataframe tbody tr th:only-of-type {\n",
              "        vertical-align: middle;\n",
              "    }\n",
              "\n",
              "    .dataframe tbody tr th {\n",
              "        vertical-align: top;\n",
              "    }\n",
              "\n",
              "    .dataframe thead th {\n",
              "        text-align: right;\n",
              "    }\n",
              "</style>\n",
              "<table border=\"1\" class=\"dataframe\">\n",
              "  <thead>\n",
              "    <tr style=\"text-align: right;\">\n",
              "      <th>Predicted</th>\n",
              "      <th>0</th>\n",
              "      <th>1</th>\n",
              "      <th>All</th>\n",
              "    </tr>\n",
              "    <tr>\n",
              "      <th>True</th>\n",
              "      <th></th>\n",
              "      <th></th>\n",
              "      <th></th>\n",
              "    </tr>\n",
              "  </thead>\n",
              "  <tbody>\n",
              "    <tr>\n",
              "      <th>0</th>\n",
              "      <td>1246</td>\n",
              "      <td>95</td>\n",
              "      <td>1341</td>\n",
              "    </tr>\n",
              "    <tr>\n",
              "      <th>1</th>\n",
              "      <td>63</td>\n",
              "      <td>81</td>\n",
              "      <td>144</td>\n",
              "    </tr>\n",
              "    <tr>\n",
              "      <th>All</th>\n",
              "      <td>1309</td>\n",
              "      <td>176</td>\n",
              "      <td>1485</td>\n",
              "    </tr>\n",
              "  </tbody>\n",
              "</table>\n",
              "</div>\n",
              "      <button class=\"colab-df-convert\" onclick=\"convertToInteractive('df-516cb39c-f019-4f4e-9c7f-3cef48d4e384')\"\n",
              "              title=\"Convert this dataframe to an interactive table.\"\n",
              "              style=\"display:none;\">\n",
              "        \n",
              "  <svg xmlns=\"http://www.w3.org/2000/svg\" height=\"24px\"viewBox=\"0 0 24 24\"\n",
              "       width=\"24px\">\n",
              "    <path d=\"M0 0h24v24H0V0z\" fill=\"none\"/>\n",
              "    <path d=\"M18.56 5.44l.94 2.06.94-2.06 2.06-.94-2.06-.94-.94-2.06-.94 2.06-2.06.94zm-11 1L8.5 8.5l.94-2.06 2.06-.94-2.06-.94L8.5 2.5l-.94 2.06-2.06.94zm10 10l.94 2.06.94-2.06 2.06-.94-2.06-.94-.94-2.06-.94 2.06-2.06.94z\"/><path d=\"M17.41 7.96l-1.37-1.37c-.4-.4-.92-.59-1.43-.59-.52 0-1.04.2-1.43.59L10.3 9.45l-7.72 7.72c-.78.78-.78 2.05 0 2.83L4 21.41c.39.39.9.59 1.41.59.51 0 1.02-.2 1.41-.59l7.78-7.78 2.81-2.81c.8-.78.8-2.07 0-2.86zM5.41 20L4 18.59l7.72-7.72 1.47 1.35L5.41 20z\"/>\n",
              "  </svg>\n",
              "      </button>\n",
              "      \n",
              "  <style>\n",
              "    .colab-df-container {\n",
              "      display:flex;\n",
              "      flex-wrap:wrap;\n",
              "      gap: 12px;\n",
              "    }\n",
              "\n",
              "    .colab-df-convert {\n",
              "      background-color: #E8F0FE;\n",
              "      border: none;\n",
              "      border-radius: 50%;\n",
              "      cursor: pointer;\n",
              "      display: none;\n",
              "      fill: #1967D2;\n",
              "      height: 32px;\n",
              "      padding: 0 0 0 0;\n",
              "      width: 32px;\n",
              "    }\n",
              "\n",
              "    .colab-df-convert:hover {\n",
              "      background-color: #E2EBFA;\n",
              "      box-shadow: 0px 1px 2px rgba(60, 64, 67, 0.3), 0px 1px 3px 1px rgba(60, 64, 67, 0.15);\n",
              "      fill: #174EA6;\n",
              "    }\n",
              "\n",
              "    [theme=dark] .colab-df-convert {\n",
              "      background-color: #3B4455;\n",
              "      fill: #D2E3FC;\n",
              "    }\n",
              "\n",
              "    [theme=dark] .colab-df-convert:hover {\n",
              "      background-color: #434B5C;\n",
              "      box-shadow: 0px 1px 3px 1px rgba(0, 0, 0, 0.15);\n",
              "      filter: drop-shadow(0px 1px 2px rgba(0, 0, 0, 0.3));\n",
              "      fill: #FFFFFF;\n",
              "    }\n",
              "  </style>\n",
              "\n",
              "      <script>\n",
              "        const buttonEl =\n",
              "          document.querySelector('#df-516cb39c-f019-4f4e-9c7f-3cef48d4e384 button.colab-df-convert');\n",
              "        buttonEl.style.display =\n",
              "          google.colab.kernel.accessAllowed ? 'block' : 'none';\n",
              "\n",
              "        async function convertToInteractive(key) {\n",
              "          const element = document.querySelector('#df-516cb39c-f019-4f4e-9c7f-3cef48d4e384');\n",
              "          const dataTable =\n",
              "            await google.colab.kernel.invokeFunction('convertToInteractive',\n",
              "                                                     [key], {});\n",
              "          if (!dataTable) return;\n",
              "\n",
              "          const docLinkHtml = 'Like what you see? Visit the ' +\n",
              "            '<a target=\"_blank\" href=https://colab.research.google.com/notebooks/data_table.ipynb>data table notebook</a>'\n",
              "            + ' to learn more about interactive tables.';\n",
              "          element.innerHTML = '';\n",
              "          dataTable['output_type'] = 'display_data';\n",
              "          await google.colab.output.renderOutput(dataTable, element);\n",
              "          const docLink = document.createElement('div');\n",
              "          docLink.innerHTML = docLinkHtml;\n",
              "          element.appendChild(docLink);\n",
              "        }\n",
              "      </script>\n",
              "    </div>\n",
              "  </div>\n",
              "  "
            ]
          },
          "metadata": {},
          "execution_count": 43
        }
      ]
    },
    {
      "cell_type": "code",
      "source": [
        "import matplotlib.pyplot as plt\n",
        "from sklearn.datasets import make_classification\n",
        "from sklearn.metrics import plot_confusion_matrix\n",
        "from sklearn.model_selection import train_test_split\n",
        "from sklearn.svm import SVC"
      ],
      "metadata": {
        "id": "5coP2f0I2gtG"
      },
      "execution_count": 36,
      "outputs": []
    },
    {
      "cell_type": "code",
      "source": [
        "fig = plot_confusion_matrix(NB, X_test, y_test, display_labels=NB.classes_)\n",
        "fig.figure_.suptitle(\"Confusion Matrix\")\n",
        "plt.show()"
      ],
      "metadata": {
        "id": "213sQxTl2ggU",
        "colab": {
          "base_uri": "https://localhost:8080/",
          "height": 365
        },
        "outputId": "63c7dd63-993c-490d-942a-da3c60a18727"
      },
      "execution_count": 44,
      "outputs": [
        {
          "output_type": "stream",
          "name": "stderr",
          "text": [
            "/usr/local/lib/python3.7/dist-packages/sklearn/utils/deprecation.py:87: FutureWarning: Function plot_confusion_matrix is deprecated; Function `plot_confusion_matrix` is deprecated in 1.0 and will be removed in 1.2. Use one of the class methods: ConfusionMatrixDisplay.from_predictions or ConfusionMatrixDisplay.from_estimator.\n",
            "  warnings.warn(msg, category=FutureWarning)\n"
          ]
        },
        {
          "output_type": "display_data",
          "data": {
            "text/plain": [
              "<Figure size 432x288 with 2 Axes>"
            ],
            "image/png": "[encoded data removed]"
          },
          "metadata": {
            "needs_background": "light"
          }
        }
      ]
    },
    {
      "cell_type": "markdown",
      "source": [
        "**Métricas**"
      ],
      "metadata": {
        "id": "cf65_QctmK0C"
      }
    },
    {
      "cell_type": "code",
      "source": [
        "print(classification_report(y_test, predic))"
      ],
      "metadata": {
        "id": "IBX1nFoj2uS7",
        "colab": {
          "base_uri": "https://localhost:8080/"
        },
        "outputId": "fcda01e7-ffee-44cc-9a0e-febabefbe16e"
      },
      "execution_count": 45,
      "outputs": [
        {
          "output_type": "stream",
          "name": "stdout",
          "text": [
            "              precision    recall  f1-score   support\n",
            "\n",
            "           0       0.95      0.93      0.94      1341\n",
            "           1       0.46      0.56      0.51       144\n",
            "\n",
            "    accuracy                           0.89      1485\n",
            "   macro avg       0.71      0.75      0.72      1485\n",
            "weighted avg       0.90      0.89      0.90      1485\n",
            "\n"
          ]
        }
      ]
    },
    {
      "cell_type": "markdown",
      "source": [
        "**Curva ROC**"
      ],
      "metadata": {
        "id": "wD8bAA45mVEr"
      }
    },
    {
      "cell_type": "code",
      "source": [
        "from sklearn.metrics import roc_curve\n",
        "FPR, TPR, Thresholds = roc_curve(y_test, predic)"
      ],
      "metadata": {
        "id": "WTBxCNQdlGXM"
      },
      "execution_count": 46,
      "outputs": []
    },
    {
      "cell_type": "code",
      "source": [
        "fig, ax = plt.subplots(figsize = (8, 8))\n",
        "plt.plot(FPR, TPR, linewidth = 2)\n",
        "plt.plot([0, 1], [0, 1], 'k--')\n",
        "ax.set_xlabel(\"Falso Positivo\", fontsize = 15)\n",
        "ax.set_ylabel(\"Verdadero Positivo\", fontsize = 15)\n",
        "ax.set_xticks(np.linspace(0, 1, 11));\n",
        "ax.set_yticks(np.linspace(0, 1, 11));"
      ],
      "metadata": {
        "colab": {
          "base_uri": "https://localhost:8080/",
          "height": 502
        },
        "id": "WqoNI_7UmZg6",
        "outputId": "9c66b6c4-bdac-4d8b-e673-4c28f91b7c62"
      },
      "execution_count": 47,
      "outputs": [
        {
          "output_type": "display_data",
          "data": {
            "text/plain": [
              "<Figure size 576x576 with 1 Axes>"
            ],
            "image/png": "[encoded data removed]"
          },
          "metadata": {
            "needs_background": "light"
          }
        }
      ]
    }
  ]
}