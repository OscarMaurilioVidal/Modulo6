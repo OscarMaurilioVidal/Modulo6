{
  "cells": [
    {
      "cell_type": "markdown",
      "source": [
        "**Ejercicio Final.\n",
        "Módulo 6.\n",
        "Oscar Maurilio Vidal Tores**"
      ],
      "metadata": {
        "id": "U50NVct2OnlX"
      }
    },
    {
      "cell_type": "code",
      "execution_count": null,
      "metadata": {
        "id": "MJeTg2KzrN2V"
      },
      "outputs": [],
      "source": [
        "import pandas as pd\n",
        "import numpy as np\n",
        "import matplotlib \n",
        "import matplotlib.pyplot as plt\n",
        "import seaborn as sns\n",
        "%matplotlib inline"
      ]
    },
    {
      "cell_type": "code",
      "execution_count": null,
      "metadata": {
        "colab": {
          "base_uri": "https://localhost:8080/"
        },
        "id": "vbZ9Xb8LZGUk",
        "outputId": "14738a56-5447-4653-f0cf-07829f3217b6"
      },
      "outputs": [
        {
          "name": "stdout",
          "output_type": "stream",
          "text": [
            "Drive already mounted at /content/drive; to attempt to forcibly remount, call drive.mount(\"/content/drive\", force_remount=True).\n"
          ]
        }
      ],
      "source": [
        "from google.colab import drive\n",
        "drive.mount('/content/drive')"
      ]
    },
    {
      "cell_type": "code",
      "execution_count": null,
      "metadata": {
        "colab": {
          "base_uri": "https://localhost:8080/"
        },
        "id": "tXSI2noPZVVU",
        "outputId": "f479ca3d-1492-4e7e-80f5-eb81ea396d15"
      },
      "outputs": [
        {
          "name": "stderr",
          "output_type": "stream",
          "text": [
            "/usr/local/lib/python3.7/dist-packages/IPython/core/interactiveshell.py:3326: DtypeWarning: Columns (26) have mixed types.Specify dtype option on import or set low_memory=False.\n",
            "  exec(code_obj, self.user_global_ns, self.user_ns)\n"
          ]
        }
      ],
      "source": [
        "credit_df = pd.read_csv('/content/drive/MyDrive/train.csv')"
      ]
    },
    {
      "cell_type": "code",
      "execution_count": null,
      "metadata": {
        "colab": {
          "base_uri": "https://localhost:8080/",
          "height": 341
        },
        "id": "ok2nRFLYa3QW",
        "outputId": "3efecd3e-8a28-495c-b449-6a00c692a6b4"
      },
      "outputs": [
        {
          "data": {
            "text/html": [
              "\n",
              "  <div id=\"df-6323039f-0445-48da-8017-0f32d2a81dec\">\n",
              "    <div class=\"colab-df-container\">\n",
              "      <div>\n",
              "<style scoped>\n",
              "    .dataframe tbody tr th:only-of-type {\n",
              "        vertical-align: middle;\n",
              "    }\n",
              "\n",
              "    .dataframe tbody tr th {\n",
              "        vertical-align: top;\n",
              "    }\n",
              "\n",
              "    .dataframe thead th {\n",
              "        text-align: right;\n",
              "    }\n",
              "</style>\n",
              "<table border=\"1\" class=\"dataframe\">\n",
              "  <thead>\n",
              "    <tr style=\"text-align: right;\">\n",
              "      <th></th>\n",
              "      <th>ID</th>\n",
              "      <th>Customer_ID</th>\n",
              "      <th>Month</th>\n",
              "      <th>Name</th>\n",
              "      <th>Age</th>\n",
              "      <th>SSN</th>\n",
              "      <th>Occupation</th>\n",
              "      <th>Annual_Income</th>\n",
              "      <th>Monthly_Inhand_Salary</th>\n",
              "      <th>Num_Bank_Accounts</th>\n",
              "      <th>...</th>\n",
              "      <th>Credit_Mix</th>\n",
              "      <th>Outstanding_Debt</th>\n",
              "      <th>Credit_Utilization_Ratio</th>\n",
              "      <th>Credit_History_Age</th>\n",
              "      <th>Payment_of_Min_Amount</th>\n",
              "      <th>Total_EMI_per_month</th>\n",
              "      <th>Amount_invested_monthly</th>\n",
              "      <th>Payment_Behaviour</th>\n",
              "      <th>Monthly_Balance</th>\n",
              "      <th>Credit_Score</th>\n",
              "    </tr>\n",
              "  </thead>\n",
              "  <tbody>\n",
              "    <tr>\n",
              "      <th>0</th>\n",
              "      <td>0x1602</td>\n",
              "      <td>CUS_0xd40</td>\n",
              "      <td>January</td>\n",
              "      <td>Aaron Maashoh</td>\n",
              "      <td>23</td>\n",
              "      <td>821-00-0265</td>\n",
              "      <td>Scientist</td>\n",
              "      <td>19114.12</td>\n",
              "      <td>1824.843333</td>\n",
              "      <td>3</td>\n",
              "      <td>...</td>\n",
              "      <td>_</td>\n",
              "      <td>809.98</td>\n",
              "      <td>26.822620</td>\n",
              "      <td>22 Years and 1 Months</td>\n",
              "      <td>No</td>\n",
              "      <td>49.574949</td>\n",
              "      <td>80.41529543900253</td>\n",
              "      <td>High_spent_Small_value_payments</td>\n",
              "      <td>312.49408867943663</td>\n",
              "      <td>Good</td>\n",
              "    </tr>\n",
              "    <tr>\n",
              "      <th>1</th>\n",
              "      <td>0x1603</td>\n",
              "      <td>CUS_0xd40</td>\n",
              "      <td>February</td>\n",
              "      <td>Aaron Maashoh</td>\n",
              "      <td>23</td>\n",
              "      <td>821-00-0265</td>\n",
              "      <td>Scientist</td>\n",
              "      <td>19114.12</td>\n",
              "      <td>NaN</td>\n",
              "      <td>3</td>\n",
              "      <td>...</td>\n",
              "      <td>Good</td>\n",
              "      <td>809.98</td>\n",
              "      <td>31.944960</td>\n",
              "      <td>NaN</td>\n",
              "      <td>No</td>\n",
              "      <td>49.574949</td>\n",
              "      <td>118.28022162236736</td>\n",
              "      <td>Low_spent_Large_value_payments</td>\n",
              "      <td>284.62916249607184</td>\n",
              "      <td>Good</td>\n",
              "    </tr>\n",
              "    <tr>\n",
              "      <th>2</th>\n",
              "      <td>0x1604</td>\n",
              "      <td>CUS_0xd40</td>\n",
              "      <td>March</td>\n",
              "      <td>Aaron Maashoh</td>\n",
              "      <td>-500</td>\n",
              "      <td>821-00-0265</td>\n",
              "      <td>Scientist</td>\n",
              "      <td>19114.12</td>\n",
              "      <td>NaN</td>\n",
              "      <td>3</td>\n",
              "      <td>...</td>\n",
              "      <td>Good</td>\n",
              "      <td>809.98</td>\n",
              "      <td>28.609352</td>\n",
              "      <td>22 Years and 3 Months</td>\n",
              "      <td>No</td>\n",
              "      <td>49.574949</td>\n",
              "      <td>81.699521264648</td>\n",
              "      <td>Low_spent_Medium_value_payments</td>\n",
              "      <td>331.2098628537912</td>\n",
              "      <td>Good</td>\n",
              "    </tr>\n",
              "  </tbody>\n",
              "</table>\n",
              "<p>3 rows × 28 columns</p>\n",
              "</div>\n",
              "      <button class=\"colab-df-convert\" onclick=\"convertToInteractive('df-6323039f-0445-48da-8017-0f32d2a81dec')\"\n",
              "              title=\"Convert this dataframe to an interactive table.\"\n",
              "              style=\"display:none;\">\n",
              "        \n",
              "  <svg xmlns=\"http://www.w3.org/2000/svg\" height=\"24px\"viewBox=\"0 0 24 24\"\n",
              "       width=\"24px\">\n",
              "    <path d=\"M0 0h24v24H0V0z\" fill=\"none\"/>\n",
              "    <path d=\"M18.56 5.44l.94 2.06.94-2.06 2.06-.94-2.06-.94-.94-2.06-.94 2.06-2.06.94zm-11 1L8.5 8.5l.94-2.06 2.06-.94-2.06-.94L8.5 2.5l-.94 2.06-2.06.94zm10 10l.94 2.06.94-2.06 2.06-.94-2.06-.94-.94-2.06-.94 2.06-2.06.94z\"/><path d=\"M17.41 7.96l-1.37-1.37c-.4-.4-.92-.59-1.43-.59-.52 0-1.04.2-1.43.59L10.3 9.45l-7.72 7.72c-.78.78-.78 2.05 0 2.83L4 21.41c.39.39.9.59 1.41.59.51 0 1.02-.2 1.41-.59l7.78-7.78 2.81-2.81c.8-.78.8-2.07 0-2.86zM5.41 20L4 18.59l7.72-7.72 1.47 1.35L5.41 20z\"/>\n",
              "  </svg>\n",
              "      </button>\n",
              "      \n",
              "  <style>\n",
              "    .colab-df-container {\n",
              "      display:flex;\n",
              "      flex-wrap:wrap;\n",
              "      gap: 12px;\n",
              "    }\n",
              "\n",
              "    .colab-df-convert {\n",
              "      background-color: #E8F0FE;\n",
              "      border: none;\n",
              "      border-radius: 50%;\n",
              "      cursor: pointer;\n",
              "      display: none;\n",
              "      fill: #1967D2;\n",
              "      height: 32px;\n",
              "      padding: 0 0 0 0;\n",
              "      width: 32px;\n",
              "    }\n",
              "\n",
              "    .colab-df-convert:hover {\n",
              "      background-color: #E2EBFA;\n",
              "      box-shadow: 0px 1px 2px rgba(60, 64, 67, 0.3), 0px 1px 3px 1px rgba(60, 64, 67, 0.15);\n",
              "      fill: #174EA6;\n",
              "    }\n",
              "\n",
              "    [theme=dark] .colab-df-convert {\n",
              "      background-color: #3B4455;\n",
              "      fill: #D2E3FC;\n",
              "    }\n",
              "\n",
              "    [theme=dark] .colab-df-convert:hover {\n",
              "      background-color: #434B5C;\n",
              "      box-shadow: 0px 1px 3px 1px rgba(0, 0, 0, 0.15);\n",
              "      filter: drop-shadow(0px 1px 2px rgba(0, 0, 0, 0.3));\n",
              "      fill: #FFFFFF;\n",
              "    }\n",
              "  </style>\n",
              "\n",
              "      <script>\n",
              "        const buttonEl =\n",
              "          document.querySelector('#df-6323039f-0445-48da-8017-0f32d2a81dec button.colab-df-convert');\n",
              "        buttonEl.style.display =\n",
              "          google.colab.kernel.accessAllowed ? 'block' : 'none';\n",
              "\n",
              "        async function convertToInteractive(key) {\n",
              "          const element = document.querySelector('#df-6323039f-0445-48da-8017-0f32d2a81dec');\n",
              "          const dataTable =\n",
              "            await google.colab.kernel.invokeFunction('convertToInteractive',\n",
              "                                                     [key], {});\n",
              "          if (!dataTable) return;\n",
              "\n",
              "          const docLinkHtml = 'Like what you see? Visit the ' +\n",
              "            '<a target=\"_blank\" href=https://colab.research.google.com/notebooks/data_table.ipynb>data table notebook</a>'\n",
              "            + ' to learn more about interactive tables.';\n",
              "          element.innerHTML = '';\n",
              "          dataTable['output_type'] = 'display_data';\n",
              "          await google.colab.output.renderOutput(dataTable, element);\n",
              "          const docLink = document.createElement('div');\n",
              "          docLink.innerHTML = docLinkHtml;\n",
              "          element.appendChild(docLink);\n",
              "        }\n",
              "      </script>\n",
              "    </div>\n",
              "  </div>\n",
              "  "
            ],
            "text/plain": [
              "       ID Customer_ID     Month           Name   Age          SSN Occupation  \\\n",
              "0  0x1602   CUS_0xd40   January  Aaron Maashoh    23  821-00-0265  Scientist   \n",
              "1  0x1603   CUS_0xd40  February  Aaron Maashoh    23  821-00-0265  Scientist   \n",
              "2  0x1604   CUS_0xd40     March  Aaron Maashoh  -500  821-00-0265  Scientist   \n",
              "\n",
              "  Annual_Income  Monthly_Inhand_Salary  Num_Bank_Accounts  ...  Credit_Mix  \\\n",
              "0      19114.12            1824.843333                  3  ...           _   \n",
              "1      19114.12                    NaN                  3  ...        Good   \n",
              "2      19114.12                    NaN                  3  ...        Good   \n",
              "\n",
              "   Outstanding_Debt Credit_Utilization_Ratio     Credit_History_Age  \\\n",
              "0            809.98                26.822620  22 Years and 1 Months   \n",
              "1            809.98                31.944960                    NaN   \n",
              "2            809.98                28.609352  22 Years and 3 Months   \n",
              "\n",
              "   Payment_of_Min_Amount Total_EMI_per_month Amount_invested_monthly  \\\n",
              "0                     No           49.574949       80.41529543900253   \n",
              "1                     No           49.574949      118.28022162236736   \n",
              "2                     No           49.574949         81.699521264648   \n",
              "\n",
              "                 Payment_Behaviour     Monthly_Balance Credit_Score  \n",
              "0  High_spent_Small_value_payments  312.49408867943663         Good  \n",
              "1   Low_spent_Large_value_payments  284.62916249607184         Good  \n",
              "2  Low_spent_Medium_value_payments   331.2098628537912         Good  \n",
              "\n",
              "[3 rows x 28 columns]"
            ]
          },
          "execution_count": 5,
          "metadata": {},
          "output_type": "execute_result"
        }
      ],
      "source": [
        "credit_df.head(3)"
      ]
    },
    {
      "cell_type": "code",
      "execution_count": null,
      "metadata": {
        "colab": {
          "base_uri": "https://localhost:8080/"
        },
        "id": "nSTwQ1WOj6QW",
        "outputId": "25039c59-76b4-4262-d5fb-9b07608cccbd"
      },
      "outputs": [
        {
          "data": {
            "text/plain": [
              "(100000, 28)"
            ]
          },
          "execution_count": 6,
          "metadata": {},
          "output_type": "execute_result"
        }
      ],
      "source": [
        "credit_df.shape"
      ]
    },
    {
      "cell_type": "code",
      "execution_count": null,
      "metadata": {
        "colab": {
          "base_uri": "https://localhost:8080/"
        },
        "id": "XL96KuZQkLZt",
        "outputId": "12c138cc-1356-452e-cbf9-8177d9791732"
      },
      "outputs": [
        {
          "data": {
            "text/plain": [
              "Index(['ID', 'Customer_ID', 'Month', 'Name', 'Age', 'SSN', 'Occupation',\n",
              "       'Annual_Income', 'Monthly_Inhand_Salary', 'Num_Bank_Accounts',\n",
              "       'Num_Credit_Card', 'Interest_Rate', 'Num_of_Loan', 'Type_of_Loan',\n",
              "       'Delay_from_due_date', 'Num_of_Delayed_Payment', 'Changed_Credit_Limit',\n",
              "       'Num_Credit_Inquiries', 'Credit_Mix', 'Outstanding_Debt',\n",
              "       'Credit_Utilization_Ratio', 'Credit_History_Age',\n",
              "       'Payment_of_Min_Amount', 'Total_EMI_per_month',\n",
              "       'Amount_invested_monthly', 'Payment_Behaviour', 'Monthly_Balance',\n",
              "       'Credit_Score'],\n",
              "      dtype='object')"
            ]
          },
          "execution_count": 7,
          "metadata": {},
          "output_type": "execute_result"
        }
      ],
      "source": [
        "credit_df.columns"
      ]
    },
    {
      "cell_type": "code",
      "execution_count": null,
      "metadata": {
        "colab": {
          "base_uri": "https://localhost:8080/"
        },
        "id": "OuLzGpZKlEGY",
        "outputId": "1e543082-f239-491b-eb14-928564e8383b"
      },
      "outputs": [
        {
          "name": "stdout",
          "output_type": "stream",
          "text": [
            "<class 'pandas.core.frame.DataFrame'>\n",
            "RangeIndex: 100000 entries, 0 to 99999\n",
            "Data columns (total 28 columns):\n",
            " #   Column                    Non-Null Count   Dtype  \n",
            "---  ------                    --------------   -----  \n",
            " 0   ID                        100000 non-null  object \n",
            " 1   Customer_ID               100000 non-null  object \n",
            " 2   Month                     100000 non-null  object \n",
            " 3   Name                      90015 non-null   object \n",
            " 4   Age                       100000 non-null  object \n",
            " 5   SSN                       100000 non-null  object \n",
            " 6   Occupation                100000 non-null  object \n",
            " 7   Annual_Income             100000 non-null  object \n",
            " 8   Monthly_Inhand_Salary     84998 non-null   float64\n",
            " 9   Num_Bank_Accounts         100000 non-null  int64  \n",
            " 10  Num_Credit_Card           100000 non-null  int64  \n",
            " 11  Interest_Rate             100000 non-null  int64  \n",
            " 12  Num_of_Loan               100000 non-null  object \n",
            " 13  Type_of_Loan              88592 non-null   object \n",
            " 14  Delay_from_due_date       100000 non-null  int64  \n",
            " 15  Num_of_Delayed_Payment    92998 non-null   object \n",
            " 16  Changed_Credit_Limit      100000 non-null  object \n",
            " 17  Num_Credit_Inquiries      98035 non-null   float64\n",
            " 18  Credit_Mix                100000 non-null  object \n",
            " 19  Outstanding_Debt          100000 non-null  object \n",
            " 20  Credit_Utilization_Ratio  100000 non-null  float64\n",
            " 21  Credit_History_Age        90970 non-null   object \n",
            " 22  Payment_of_Min_Amount     100000 non-null  object \n",
            " 23  Total_EMI_per_month       100000 non-null  float64\n",
            " 24  Amount_invested_monthly   95521 non-null   object \n",
            " 25  Payment_Behaviour         100000 non-null  object \n",
            " 26  Monthly_Balance           98800 non-null   object \n",
            " 27  Credit_Score              100000 non-null  object \n",
            "dtypes: float64(4), int64(4), object(20)\n",
            "memory usage: 21.4+ MB\n"
          ]
        }
      ],
      "source": [
        "credit_df.info()"
      ]
    },
    {
      "cell_type": "code",
      "execution_count": null,
      "metadata": {
        "colab": {
          "base_uri": "https://localhost:8080/",
          "height": 364
        },
        "id": "gjKuU5P2mqo3",
        "outputId": "62c0d802-7413-4555-e5e3-4535ab829d67"
      },
      "outputs": [
        {
          "data": {
            "text/html": [
              "\n",
              "  <div id=\"df-8d5db2a7-e781-4b3f-a47d-9bc20f30c268\">\n",
              "    <div class=\"colab-df-container\">\n",
              "      <div>\n",
              "<style scoped>\n",
              "    .dataframe tbody tr th:only-of-type {\n",
              "        vertical-align: middle;\n",
              "    }\n",
              "\n",
              "    .dataframe tbody tr th {\n",
              "        vertical-align: top;\n",
              "    }\n",
              "\n",
              "    .dataframe thead th {\n",
              "        text-align: right;\n",
              "    }\n",
              "</style>\n",
              "<table border=\"1\" class=\"dataframe\">\n",
              "  <thead>\n",
              "    <tr style=\"text-align: right;\">\n",
              "      <th></th>\n",
              "      <th>Monthly_Inhand_Salary</th>\n",
              "      <th>Num_Bank_Accounts</th>\n",
              "      <th>Num_Credit_Card</th>\n",
              "      <th>Interest_Rate</th>\n",
              "      <th>Delay_from_due_date</th>\n",
              "      <th>Num_Credit_Inquiries</th>\n",
              "      <th>Credit_Utilization_Ratio</th>\n",
              "      <th>Total_EMI_per_month</th>\n",
              "    </tr>\n",
              "  </thead>\n",
              "  <tbody>\n",
              "    <tr>\n",
              "      <th>count</th>\n",
              "      <td>84998.000000</td>\n",
              "      <td>100000.000000</td>\n",
              "      <td>100000.00000</td>\n",
              "      <td>100000.000000</td>\n",
              "      <td>100000.000000</td>\n",
              "      <td>98035.000000</td>\n",
              "      <td>100000.000000</td>\n",
              "      <td>100000.000000</td>\n",
              "    </tr>\n",
              "    <tr>\n",
              "      <th>mean</th>\n",
              "      <td>4194.170850</td>\n",
              "      <td>17.091280</td>\n",
              "      <td>22.47443</td>\n",
              "      <td>72.466040</td>\n",
              "      <td>21.068780</td>\n",
              "      <td>27.754251</td>\n",
              "      <td>32.285173</td>\n",
              "      <td>1403.118217</td>\n",
              "    </tr>\n",
              "    <tr>\n",
              "      <th>std</th>\n",
              "      <td>3183.686167</td>\n",
              "      <td>117.404834</td>\n",
              "      <td>129.05741</td>\n",
              "      <td>466.422621</td>\n",
              "      <td>14.860104</td>\n",
              "      <td>193.177339</td>\n",
              "      <td>5.116875</td>\n",
              "      <td>8306.041270</td>\n",
              "    </tr>\n",
              "    <tr>\n",
              "      <th>min</th>\n",
              "      <td>303.645417</td>\n",
              "      <td>-1.000000</td>\n",
              "      <td>0.00000</td>\n",
              "      <td>1.000000</td>\n",
              "      <td>-5.000000</td>\n",
              "      <td>0.000000</td>\n",
              "      <td>20.000000</td>\n",
              "      <td>0.000000</td>\n",
              "    </tr>\n",
              "    <tr>\n",
              "      <th>25%</th>\n",
              "      <td>1625.568229</td>\n",
              "      <td>3.000000</td>\n",
              "      <td>4.00000</td>\n",
              "      <td>8.000000</td>\n",
              "      <td>10.000000</td>\n",
              "      <td>3.000000</td>\n",
              "      <td>28.052567</td>\n",
              "      <td>30.306660</td>\n",
              "    </tr>\n",
              "    <tr>\n",
              "      <th>50%</th>\n",
              "      <td>3093.745000</td>\n",
              "      <td>6.000000</td>\n",
              "      <td>5.00000</td>\n",
              "      <td>13.000000</td>\n",
              "      <td>18.000000</td>\n",
              "      <td>6.000000</td>\n",
              "      <td>32.305784</td>\n",
              "      <td>69.249473</td>\n",
              "    </tr>\n",
              "    <tr>\n",
              "      <th>75%</th>\n",
              "      <td>5957.448333</td>\n",
              "      <td>7.000000</td>\n",
              "      <td>7.00000</td>\n",
              "      <td>20.000000</td>\n",
              "      <td>28.000000</td>\n",
              "      <td>9.000000</td>\n",
              "      <td>36.496663</td>\n",
              "      <td>161.224249</td>\n",
              "    </tr>\n",
              "    <tr>\n",
              "      <th>max</th>\n",
              "      <td>15204.633333</td>\n",
              "      <td>1798.000000</td>\n",
              "      <td>1499.00000</td>\n",
              "      <td>5797.000000</td>\n",
              "      <td>67.000000</td>\n",
              "      <td>2597.000000</td>\n",
              "      <td>50.000000</td>\n",
              "      <td>82331.000000</td>\n",
              "    </tr>\n",
              "  </tbody>\n",
              "</table>\n",
              "</div>\n",
              "      <button class=\"colab-df-convert\" onclick=\"convertToInteractive('df-8d5db2a7-e781-4b3f-a47d-9bc20f30c268')\"\n",
              "              title=\"Convert this dataframe to an interactive table.\"\n",
              "              style=\"display:none;\">\n",
              "        \n",
              "  <svg xmlns=\"http://www.w3.org/2000/svg\" height=\"24px\"viewBox=\"0 0 24 24\"\n",
              "       width=\"24px\">\n",
              "    <path d=\"M0 0h24v24H0V0z\" fill=\"none\"/>\n",
              "    <path d=\"M18.56 5.44l.94 2.06.94-2.06 2.06-.94-2.06-.94-.94-2.06-.94 2.06-2.06.94zm-11 1L8.5 8.5l.94-2.06 2.06-.94-2.06-.94L8.5 2.5l-.94 2.06-2.06.94zm10 10l.94 2.06.94-2.06 2.06-.94-2.06-.94-.94-2.06-.94 2.06-2.06.94z\"/><path d=\"M17.41 7.96l-1.37-1.37c-.4-.4-.92-.59-1.43-.59-.52 0-1.04.2-1.43.59L10.3 9.45l-7.72 7.72c-.78.78-.78 2.05 0 2.83L4 21.41c.39.39.9.59 1.41.59.51 0 1.02-.2 1.41-.59l7.78-7.78 2.81-2.81c.8-.78.8-2.07 0-2.86zM5.41 20L4 18.59l7.72-7.72 1.47 1.35L5.41 20z\"/>\n",
              "  </svg>\n",
              "      </button>\n",
              "      \n",
              "  <style>\n",
              "    .colab-df-container {\n",
              "      display:flex;\n",
              "      flex-wrap:wrap;\n",
              "      gap: 12px;\n",
              "    }\n",
              "\n",
              "    .colab-df-convert {\n",
              "      background-color: #E8F0FE;\n",
              "      border: none;\n",
              "      border-radius: 50%;\n",
              "      cursor: pointer;\n",
              "      display: none;\n",
              "      fill: #1967D2;\n",
              "      height: 32px;\n",
              "      padding: 0 0 0 0;\n",
              "      width: 32px;\n",
              "    }\n",
              "\n",
              "    .colab-df-convert:hover {\n",
              "      background-color: #E2EBFA;\n",
              "      box-shadow: 0px 1px 2px rgba(60, 64, 67, 0.3), 0px 1px 3px 1px rgba(60, 64, 67, 0.15);\n",
              "      fill: #174EA6;\n",
              "    }\n",
              "\n",
              "    [theme=dark] .colab-df-convert {\n",
              "      background-color: #3B4455;\n",
              "      fill: #D2E3FC;\n",
              "    }\n",
              "\n",
              "    [theme=dark] .colab-df-convert:hover {\n",
              "      background-color: #434B5C;\n",
              "      box-shadow: 0px 1px 3px 1px rgba(0, 0, 0, 0.15);\n",
              "      filter: drop-shadow(0px 1px 2px rgba(0, 0, 0, 0.3));\n",
              "      fill: #FFFFFF;\n",
              "    }\n",
              "  </style>\n",
              "\n",
              "      <script>\n",
              "        const buttonEl =\n",
              "          document.querySelector('#df-8d5db2a7-e781-4b3f-a47d-9bc20f30c268 button.colab-df-convert');\n",
              "        buttonEl.style.display =\n",
              "          google.colab.kernel.accessAllowed ? 'block' : 'none';\n",
              "\n",
              "        async function convertToInteractive(key) {\n",
              "          const element = document.querySelector('#df-8d5db2a7-e781-4b3f-a47d-9bc20f30c268');\n",
              "          const dataTable =\n",
              "            await google.colab.kernel.invokeFunction('convertToInteractive',\n",
              "                                                     [key], {});\n",
              "          if (!dataTable) return;\n",
              "\n",
              "          const docLinkHtml = 'Like what you see? Visit the ' +\n",
              "            '<a target=\"_blank\" href=https://colab.research.google.com/notebooks/data_table.ipynb>data table notebook</a>'\n",
              "            + ' to learn more about interactive tables.';\n",
              "          element.innerHTML = '';\n",
              "          dataTable['output_type'] = 'display_data';\n",
              "          await google.colab.output.renderOutput(dataTable, element);\n",
              "          const docLink = document.createElement('div');\n",
              "          docLink.innerHTML = docLinkHtml;\n",
              "          element.appendChild(docLink);\n",
              "        }\n",
              "      </script>\n",
              "    </div>\n",
              "  </div>\n",
              "  "
            ],
            "text/plain": [
              "       Monthly_Inhand_Salary  Num_Bank_Accounts  Num_Credit_Card  \\\n",
              "count           84998.000000      100000.000000     100000.00000   \n",
              "mean             4194.170850          17.091280         22.47443   \n",
              "std              3183.686167         117.404834        129.05741   \n",
              "min               303.645417          -1.000000          0.00000   \n",
              "25%              1625.568229           3.000000          4.00000   \n",
              "50%              3093.745000           6.000000          5.00000   \n",
              "75%              5957.448333           7.000000          7.00000   \n",
              "max             15204.633333        1798.000000       1499.00000   \n",
              "\n",
              "       Interest_Rate  Delay_from_due_date  Num_Credit_Inquiries  \\\n",
              "count  100000.000000        100000.000000          98035.000000   \n",
              "mean       72.466040            21.068780             27.754251   \n",
              "std       466.422621            14.860104            193.177339   \n",
              "min         1.000000            -5.000000              0.000000   \n",
              "25%         8.000000            10.000000              3.000000   \n",
              "50%        13.000000            18.000000              6.000000   \n",
              "75%        20.000000            28.000000              9.000000   \n",
              "max      5797.000000            67.000000           2597.000000   \n",
              "\n",
              "       Credit_Utilization_Ratio  Total_EMI_per_month  \n",
              "count             100000.000000        100000.000000  \n",
              "mean                  32.285173          1403.118217  \n",
              "std                    5.116875          8306.041270  \n",
              "min                   20.000000             0.000000  \n",
              "25%                   28.052567            30.306660  \n",
              "50%                   32.305784            69.249473  \n",
              "75%                   36.496663           161.224249  \n",
              "max                   50.000000         82331.000000  "
            ]
          },
          "execution_count": 9,
          "metadata": {},
          "output_type": "execute_result"
        }
      ],
      "source": [
        "credit_df.describe()"
      ]
    },
    {
      "cell_type": "code",
      "execution_count": null,
      "metadata": {
        "id": "Rex-knvao9BC"
      },
      "outputs": [],
      "source": [
        "# Se eliminan las columnas ID, Customer_ID, Month y SSN porque se consideran que no tienen efecto en este analisis\n",
        "\n",
        "credit_df.drop('Name',axis=1,inplace=True)\n",
        "credit_df.drop('ID',axis=1,inplace=True)\n",
        "credit_df.drop('Customer_ID',axis=1,inplace=True)\n",
        "credit_df.drop('Month',axis=1,inplace=True)\n",
        "credit_df.drop('SSN',axis=1,inplace=True)\n",
        "credit_df.drop('Type_of_Loan',axis=1,inplace=True)"
      ]
    },
    {
      "cell_type": "code",
      "execution_count": null,
      "metadata": {
        "id": "Svw1futzVK6z"
      },
      "outputs": [],
      "source": [
        "#Se eliminan las columnas ID  Y ZIP Code \n",
        "# datos_df = datos_df.drop(columns=['ID'])\n",
        "# datos_df = datos_df.drop(columns=['ZIP Code'])\n",
        "# datos_df"
      ]
    },
    {
      "cell_type": "code",
      "execution_count": null,
      "metadata": {
        "colab": {
          "base_uri": "https://localhost:8080/"
        },
        "id": "9yBc9oAbpFU3",
        "outputId": "27a62009-4660-4811-a1c5-5a3c377ade04"
      },
      "outputs": [
        {
          "data": {
            "text/plain": [
              "(100000, 22)"
            ]
          },
          "execution_count": 12,
          "metadata": {},
          "output_type": "execute_result"
        }
      ],
      "source": [
        "credit_df.shape"
      ]
    },
    {
      "cell_type": "code",
      "execution_count": null,
      "metadata": {
        "colab": {
          "base_uri": "https://localhost:8080/"
        },
        "id": "dGzjNCsopdmz",
        "outputId": "898d8164-cae4-4f4b-9876-71738a35fb4f"
      },
      "outputs": [
        {
          "name": "stdout",
          "output_type": "stream",
          "text": [
            "<class 'pandas.core.frame.DataFrame'>\n",
            "RangeIndex: 100000 entries, 0 to 99999\n",
            "Data columns (total 22 columns):\n",
            " #   Column                    Non-Null Count   Dtype  \n",
            "---  ------                    --------------   -----  \n",
            " 0   Age                       100000 non-null  object \n",
            " 1   Occupation                100000 non-null  object \n",
            " 2   Annual_Income             100000 non-null  object \n",
            " 3   Monthly_Inhand_Salary     84998 non-null   float64\n",
            " 4   Num_Bank_Accounts         100000 non-null  int64  \n",
            " 5   Num_Credit_Card           100000 non-null  int64  \n",
            " 6   Interest_Rate             100000 non-null  int64  \n",
            " 7   Num_of_Loan               100000 non-null  object \n",
            " 8   Delay_from_due_date       100000 non-null  int64  \n",
            " 9   Num_of_Delayed_Payment    92998 non-null   object \n",
            " 10  Changed_Credit_Limit      100000 non-null  object \n",
            " 11  Num_Credit_Inquiries      98035 non-null   float64\n",
            " 12  Credit_Mix                100000 non-null  object \n",
            " 13  Outstanding_Debt          100000 non-null  object \n",
            " 14  Credit_Utilization_Ratio  100000 non-null  float64\n",
            " 15  Credit_History_Age        90970 non-null   object \n",
            " 16  Payment_of_Min_Amount     100000 non-null  object \n",
            " 17  Total_EMI_per_month       100000 non-null  float64\n",
            " 18  Amount_invested_monthly   95521 non-null   object \n",
            " 19  Payment_Behaviour         100000 non-null  object \n",
            " 20  Monthly_Balance           98800 non-null   object \n",
            " 21  Credit_Score              100000 non-null  object \n",
            "dtypes: float64(4), int64(4), object(14)\n",
            "memory usage: 16.8+ MB\n"
          ]
        }
      ],
      "source": [
        "credit_df.info()"
      ]
    },
    {
      "cell_type": "code",
      "execution_count": null,
      "metadata": {
        "id": "pAOpfEVHp7JE"
      },
      "outputs": [],
      "source": [
        "#to fill NAN in empty value and\n",
        "def Reassign_Group_Object_NaN_Values(credit_df, groupby, column, inplace=True):      \n",
        "    import scipy.stats as stats\n",
        "    # Assigning Wrong values Make Simple Function\n",
        "    def make_NaN_and_fill_mode(crdit_df, groupby, column, inplace=True):\n",
        "        # Assign None to np.NaN\n",
        "        if credit_df[column].isin([None]).sum():\n",
        "            credit_df[column][credit_df[column].isin([None])] = np.NaN\n",
        "        # fill with local mode\n",
        "        result = credit_df.groupby(groupby)[column].transform(lambda x: x.fillna(stats.mode(x)[0][0]))\n",
        "        # inplace\n",
        "        if inplace:\n",
        "            credit_df[column]=result\n",
        "        else:\n",
        "            return result\n",
        "    # Run      \n",
        "    if inplace:  \n",
        "        # Before Assigning Wrong values      \n",
        "        x = credit_df[column].value_counts(dropna=False).head(1)\n",
        "        print(f'\\nBefore Assigning NaN {column}:', [x if x.index[0] is np.NaN or x.index[0] is None else 'No NaN Value'] , end='\\n')\n",
        "        a = credit_df.groupby(groupby)[column].apply(list) \n",
        "        print(f'\\nBefore Assigning Example {column}:\\n', *a.head().values, sep='\\n', end='\\n')\n",
        "\n",
        "        # Assigning\n",
        "        make_NaN_and_fill_mode(credit_df, groupby, column, inplace)\n",
        "\n",
        "        # After Assigning Wrong values\n",
        "        y = credit_df[column].value_counts(dropna=False).head(1)\n",
        "        print(f'\\nAfter Assigning NaN {column}:', [y if y.index[0] is np.NaN or x.index[0] is None else 'No NaN Value'] , end='\\n')\n",
        "        b = credit_df.groupby(groupby)[column].apply(list)\n",
        "        print(f'\\nAfter Assigning Example {column}:\\n', *b.head().values, sep='\\n', end='\\n')\n",
        "    else:   \n",
        "        # Show\n",
        "        return make_NaN_and_fill_mode(credit_df, groupby, column, inplace)\n"
      ]
    },
    {
      "cell_type": "code",
      "execution_count": null,
      "metadata": {
        "id": "iQ4DHCVTqEM_"
      },
      "outputs": [],
      "source": [
        "#to clear strange data\n",
        "credit_df = credit_df.applymap(lambda x: x if x is np.NaN or not isinstance(x, str) else str(x).strip('_ ,\"')).replace(['', 'nan', '!@9#%8', '#F%$D@*&8'], np.NaN)\n"
      ]
    },
    {
      "cell_type": "markdown",
      "metadata": {
        "id": "t1fsrCForSkQ"
      },
      "source": [
        "***Ahora para verificar el total de datos faltantes en las columnas***"
      ]
    },
    {
      "cell_type": "code",
      "execution_count": null,
      "metadata": {
        "colab": {
          "base_uri": "https://localhost:8080/"
        },
        "id": "c7ZalI3xrUGZ",
        "outputId": "741007a9-eac9-4725-da96-85708806cab5"
      },
      "outputs": [
        {
          "data": {
            "text/plain": [
              "Age                             0\n",
              "Occupation                   7062\n",
              "Annual_Income                   0\n",
              "Monthly_Inhand_Salary       15002\n",
              "Num_Bank_Accounts               0\n",
              "Num_Credit_Card                 0\n",
              "Interest_Rate                   0\n",
              "Num_of_Loan                     0\n",
              "Delay_from_due_date             0\n",
              "Num_of_Delayed_Payment       7002\n",
              "Changed_Credit_Limit         2091\n",
              "Num_Credit_Inquiries         1965\n",
              "Credit_Mix                  20195\n",
              "Outstanding_Debt                0\n",
              "Credit_Utilization_Ratio        0\n",
              "Credit_History_Age           9030\n",
              "Payment_of_Min_Amount           0\n",
              "Total_EMI_per_month             0\n",
              "Amount_invested_monthly      4479\n",
              "Payment_Behaviour            7600\n",
              "Monthly_Balance              1200\n",
              "Credit_Score                    0\n",
              "dtype: int64"
            ]
          },
          "execution_count": 16,
          "metadata": {},
          "output_type": "execute_result"
        }
      ],
      "source": [
        "empty_space_df = credit_df.isna().sum()\n",
        "empty_space_df"
      ]
    },
    {
      "cell_type": "markdown",
      "metadata": {
        "id": "jyAUQJCArt4-"
      },
      "source": [
        "**Ahora para corregir el tipo de datos**"
      ]
    },
    {
      "cell_type": "code",
      "execution_count": null,
      "metadata": {
        "id": "zNu5EknJrv3Y"
      },
      "outputs": [],
      "source": [
        "credit_df['Age'] = credit_df.Age.astype(int)"
      ]
    },
    {
      "cell_type": "code",
      "execution_count": null,
      "metadata": {
        "id": "2buHJvQ8rznY"
      },
      "outputs": [],
      "source": [
        "credit_df['Annual_Income'] = credit_df.Annual_Income.astype(float)"
      ]
    },
    {
      "cell_type": "code",
      "execution_count": null,
      "metadata": {
        "id": "Y9A19EZir3v7"
      },
      "outputs": [],
      "source": [
        "credit_df['Num_of_Loan'] = credit_df.Num_of_Loan.astype(int) "
      ]
    },
    {
      "cell_type": "code",
      "execution_count": null,
      "metadata": {
        "id": "gfX2pTaHr8ut"
      },
      "outputs": [],
      "source": [
        "credit_df['Num_of_Delayed_Payment'] = credit_df.Num_of_Delayed_Payment.astype(float)"
      ]
    },
    {
      "cell_type": "code",
      "execution_count": null,
      "metadata": {
        "id": "WElP0YvwsBc_"
      },
      "outputs": [],
      "source": [
        "credit_df['Changed_Credit_Limit'] = credit_df.Changed_Credit_Limit.astype(float)"
      ]
    },
    {
      "cell_type": "code",
      "execution_count": null,
      "metadata": {
        "id": "tUJ3ed0nsXHj"
      },
      "outputs": [],
      "source": [
        "credit_df['Outstanding_Debt'] = credit_df.Outstanding_Debt.astype(float)"
      ]
    },
    {
      "cell_type": "code",
      "execution_count": null,
      "metadata": {
        "id": "m2-skFDZsapU"
      },
      "outputs": [],
      "source": [
        "credit_df['Amount_invested_monthly'] = credit_df.Amount_invested_monthly.astype(float)"
      ]
    },
    {
      "cell_type": "code",
      "execution_count": null,
      "metadata": {
        "id": "h3LcFoTyse0I"
      },
      "outputs": [],
      "source": [
        "credit_df['Monthly_Balance'] = credit_df.Monthly_Balance.astype(float)"
      ]
    },
    {
      "cell_type": "code",
      "execution_count": null,
      "metadata": {
        "colab": {
          "base_uri": "https://localhost:8080/"
        },
        "id": "TfKZz3Ptsydb",
        "outputId": "3f49dc16-43ae-4fec-a02b-fb84b69c1f3e"
      },
      "outputs": [
        {
          "name": "stdout",
          "output_type": "stream",
          "text": [
            "<class 'pandas.core.frame.DataFrame'>\n",
            "RangeIndex: 100000 entries, 0 to 99999\n",
            "Data columns (total 22 columns):\n",
            " #   Column                    Non-Null Count   Dtype  \n",
            "---  ------                    --------------   -----  \n",
            " 0   Age                       100000 non-null  int64  \n",
            " 1   Occupation                92938 non-null   object \n",
            " 2   Annual_Income             100000 non-null  float64\n",
            " 3   Monthly_Inhand_Salary     84998 non-null   float64\n",
            " 4   Num_Bank_Accounts         100000 non-null  int64  \n",
            " 5   Num_Credit_Card           100000 non-null  int64  \n",
            " 6   Interest_Rate             100000 non-null  int64  \n",
            " 7   Num_of_Loan               100000 non-null  int64  \n",
            " 8   Delay_from_due_date       100000 non-null  int64  \n",
            " 9   Num_of_Delayed_Payment    92998 non-null   float64\n",
            " 10  Changed_Credit_Limit      97909 non-null   float64\n",
            " 11  Num_Credit_Inquiries      98035 non-null   float64\n",
            " 12  Credit_Mix                79805 non-null   object \n",
            " 13  Outstanding_Debt          100000 non-null  float64\n",
            " 14  Credit_Utilization_Ratio  100000 non-null  float64\n",
            " 15  Credit_History_Age        90970 non-null   object \n",
            " 16  Payment_of_Min_Amount     100000 non-null  object \n",
            " 17  Total_EMI_per_month       100000 non-null  float64\n",
            " 18  Amount_invested_monthly   95521 non-null   float64\n",
            " 19  Payment_Behaviour         92400 non-null   object \n",
            " 20  Monthly_Balance           98800 non-null   float64\n",
            " 21  Credit_Score              100000 non-null  object \n",
            "dtypes: float64(10), int64(6), object(6)\n",
            "memory usage: 16.8+ MB\n"
          ]
        }
      ],
      "source": [
        "credit_df.info()"
      ]
    },
    {
      "cell_type": "markdown",
      "metadata": {
        "id": "KEJ-DLawHdVk"
      },
      "source": [
        "**Asignando el tipo de datos**"
      ]
    },
    {
      "cell_type": "code",
      "execution_count": null,
      "metadata": {
        "id": "548qWHq_Hgm-"
      },
      "outputs": [],
      "source": [
        "missing_columns=(credit_df.isnull().sum())\n",
        "(missing_columns[missing_columns > 0]).index\n",
        "miss_num_columns = list(credit_df[(missing_columns[missing_columns > 0]).index].select_dtypes(include=[\"int64\",\"float64\"]).columns)\n",
        "miss_object_columns=list(credit_df[(missing_columns[missing_columns > 0]).index].select_dtypes(include='object').columns)"
      ]
    },
    {
      "cell_type": "markdown",
      "metadata": {
        "id": "beRhQaJFHyZu"
      },
      "source": [
        "Los datos de Credit_History_Age son de tipo mixto (ejemplo: 22 años y 5 meses). Para convertirlo en un valor de tipo entero, convertimos los valores completos en meses y para eso se define la función Months_converter."
      ]
    },
    {
      "cell_type": "code",
      "execution_count": null,
      "metadata": {
        "id": "Bd9f5IXyHzp_"
      },
      "outputs": [],
      "source": [
        "def Month_Converter(x):\n",
        "    if pd.notnull(x):\n",
        "        num1 = int(x.split(' ')[0])\n",
        "        num2 = int(x.split(' ')[3])\n",
        "      \n",
        "        return (num1*12)+num2\n",
        "    else:\n",
        "        return x"
      ]
    },
    {
      "cell_type": "code",
      "execution_count": null,
      "metadata": {
        "id": "WuNYpFeUH6Ba"
      },
      "outputs": [],
      "source": [
        "credit_df['Credit_History_Age'] = credit_df.Credit_History_Age.apply(lambda x: Month_Converter(x)).astype(float)"
      ]
    },
    {
      "cell_type": "code",
      "execution_count": null,
      "metadata": {
        "colab": {
          "base_uri": "https://localhost:8080/"
        },
        "id": "klWax0ZrH_QN",
        "outputId": "00f5f62e-3aab-4a7a-eb91-1de713a79b6a"
      },
      "outputs": [
        {
          "data": {
            "text/plain": [
              "array([265.,  nan, 267., 268., 269., 270., 271., 319., 320., 321., 322.,\n",
              "       323., 324., 325., 326., 213., 214., 215., 217., 218., 219., 220.,\n",
              "       207., 208., 209., 210., 211., 212., 368., 369., 370., 371., 372.,\n",
              "       373., 374., 375., 384., 386., 387., 389., 390., 367., 176., 177.,\n",
              "       178., 179., 180., 181., 182., 256., 257., 258., 259., 260., 261.,\n",
              "       262., 263., 318., 230., 231., 232., 233., 234., 235., 236., 305.,\n",
              "       306., 307., 308., 309., 310., 311., 312., 327., 328., 329., 107.,\n",
              "       108., 109., 110., 111., 112., 114., 221., 222., 224., 225., 202.,\n",
              "       203., 204., 205., 206., 350., 351., 352., 354., 356., 357.,  77.,\n",
              "        78.,  79.,  80.,  81.,  82.,  83.,  84., 330., 331., 332., 333.,\n",
              "       223., 237., 238., 121., 122., 123., 124., 125., 126., 127., 128.,\n",
              "       393., 394., 395., 396., 397., 400., 147., 148., 149., 150., 151.,\n",
              "       152., 154., 153., 164., 167., 168., 169., 170., 171., 363., 364.,\n",
              "       365., 366., 105., 106., 226., 227., 228., 229., 104., 157., 158.,\n",
              "       159., 161., 162., 163., 264., 313., 314., 160., 165., 335., 336.,\n",
              "       337., 338., 339., 340., 341., 342.,  94.,  95.,  96.,  97.,  98.,\n",
              "        99., 100., 101., 291., 292., 293., 294., 295., 296., 297.,  14.,\n",
              "        15.,  16.,  17.,  18.,  19.,  20., 131., 132., 133., 134., 135.,\n",
              "       136., 137., 138., 239., 240., 241., 129., 130., 172., 173., 174.,\n",
              "       248., 249., 250., 251., 252., 253., 254., 255.,   4.,   5.,   6.,\n",
              "         8.,   9.,  10., 379., 380., 381., 382., 383., 385., 155., 156.,\n",
              "       334., 139., 140., 141., 142., 298., 299., 300., 301., 302., 303.,\n",
              "       216., 376., 377., 378.,  62.,  63.,  64.,  65.,  66.,  67.,  68.,\n",
              "        69.,  35.,  36.,  37.,  38.,  39.,  40.,  41.,  42., 196., 197.,\n",
              "       198., 199., 200., 201., 275., 276., 278., 279., 280., 281., 282.,\n",
              "       102., 103.,  53.,  54.,  55.,  56.,  57.,  58.,  59.,  60., 392.,\n",
              "       398., 399., 146., 388., 359., 360., 362., 315., 316., 317.,  90.,\n",
              "        91.,  92.,  93., 343., 344., 345., 346., 353., 355., 242., 243.,\n",
              "       244., 245., 246., 247., 347., 348., 166.,  21.,  22.,  23., 401.,\n",
              "       402., 403., 404., 349.,  61.,  70.,  71.,  72.,  73.,  74.,  75.,\n",
              "       273., 274., 277., 266., 184., 185., 186., 187., 188., 189., 190.,\n",
              "       191.,  27.,  28.,  29.,  30.,  31.,  32.,  33.,  34.,  24., 194.,\n",
              "       195., 272., 113., 115., 116., 117., 143., 144., 145., 290., 192.,\n",
              "       193., 175., 304., 183.,  85.,  86.,  87.,  88.,  89., 283., 284.,\n",
              "       285., 361., 358., 118., 119., 120.,  26., 286., 287., 288., 289.,\n",
              "        76.,   1.,   2.,   3.,   7.,  44., 391.,  43.,  45.,  46.,  11.,\n",
              "        12.,  13.,  52.,  47.,  48.,  49.,  50.,  51.,  25.])"
            ]
          },
          "execution_count": 29,
          "metadata": {},
          "output_type": "execute_result"
        }
      ],
      "source": [
        "credit_df['Credit_History_Age'].unique()"
      ]
    },
    {
      "cell_type": "markdown",
      "metadata": {
        "id": "kMj0G-bxIJCR"
      },
      "source": [
        "Ahora, para corregir los datos no válidos, como la edad negativa y más de 1000 consultas de crédito. Se establecen diferentes condiciones para una columna en particular, de modo que los valores que satisfacen esta condición se eliminan de las columnas."
      ]
    },
    {
      "cell_type": "code",
      "execution_count": null,
      "metadata": {
        "id": "x-3x5ILPIJnj"
      },
      "outputs": [],
      "source": [
        "credit_df.drop(credit_df[credit_df.Age < 10].index, inplace=True)\n",
        "credit_df.drop(credit_df[credit_df.Age > 99].index, inplace=True)"
      ]
    },
    {
      "cell_type": "code",
      "execution_count": null,
      "metadata": {
        "id": "4Ntem3UJISZf"
      },
      "outputs": [],
      "source": [
        "# limitar el número de cuenta bancaria hasta 15\n",
        "credit_df.drop(credit_df[credit_df.Num_Bank_Accounts>15].index, inplace = True)\n",
        "\n",
        "# para eliminar las entradas que tienen un número de tarjeta de crédito superior a 15\n",
        "credit_df.drop(credit_df[credit_df.Num_Credit_Card > 15].index, inplace = True)\n",
        "\n",
        "# para eliminar las entradas que tienen ingresos anuales poco realistas, que es mayor 1000000.00\n",
        "credit_df.drop(credit_df[credit_df.Annual_Income > 1000000.00].index, inplace = True)\n",
        "\n",
        "# para eliminar el número negativo de préstamo\n",
        "credit_df.drop(credit_df[credit_df.Num_of_Loan < 0].index, inplace = True)\n",
        "\n",
        "# para eliminar las entradas que tienen un número de préstamo superior a 20\n",
        "credit_df.drop(credit_df[credit_df.Num_of_Loan > 20].index, inplace = True)\n",
        "\n",
        "# para dar de baja a las entidades que tienen una tasa de interés superior a 1000,0\n",
        "credit_df.drop(credit_df[credit_df.Interest_Rate >1000.0].index, inplace = True)\n",
        "\n",
        "# para descartar los valores negativos de retraso desde la fecha de vencimiento\n",
        "credit_df.drop(credit_df[credit_df.Delay_from_due_date < 0].index, inplace = True)\n",
        "\n",
        "# para eliminar los enteros que tienen un EMI total por mes superior a 10000\n",
        "credit_df.drop(credit_df[credit_df.Total_EMI_per_month > 10000.00].index, inplace = True)\n",
        "\n",
        "# para descartar entradas que tengan un número de consulta de crédito superior a 10\n",
        "credit_df.drop(credit_df[credit_df.Num_Credit_Inquiries >10].index, inplace = True)"
      ]
    },
    {
      "cell_type": "code",
      "execution_count": null,
      "metadata": {
        "colab": {
          "base_uri": "https://localhost:8080/"
        },
        "id": "rPMNq3jCKu3Y",
        "outputId": "ff1a4388-7ae7-4fa8-c07b-b37af7b04ac7"
      },
      "outputs": [
        {
          "data": {
            "text/plain": [
              "(71297, 22)"
            ]
          },
          "execution_count": 32,
          "metadata": {},
          "output_type": "execute_result"
        }
      ],
      "source": [
        "credit_df.shape"
      ]
    },
    {
      "cell_type": "markdown",
      "metadata": {
        "id": "4nvADmrVK148"
      },
      "source": [
        "Podemos ver que todos los datos no válidos se han eliminado. \n",
        "\n",
        "Ahora el conjunto de datos está limpio y listo para usarse en análisis posteriores."
      ]
    },
    {
      "cell_type": "code",
      "execution_count": null,
      "metadata": {
        "colab": {
          "base_uri": "https://localhost:8080/",
          "height": 237
        },
        "id": "0sa_oIZSK2ps",
        "outputId": "2557c2c0-5a92-4e31-8bda-637b69c850e0"
      },
      "outputs": [
        {
          "data": {
            "text/html": [
              "\n",
              "  <div id=\"df-f086791b-4456-47a7-b132-b521d13c5d22\">\n",
              "    <div class=\"colab-df-container\">\n",
              "      <div>\n",
              "<style scoped>\n",
              "    .dataframe tbody tr th:only-of-type {\n",
              "        vertical-align: middle;\n",
              "    }\n",
              "\n",
              "    .dataframe tbody tr th {\n",
              "        vertical-align: top;\n",
              "    }\n",
              "\n",
              "    .dataframe thead th {\n",
              "        text-align: right;\n",
              "    }\n",
              "</style>\n",
              "<table border=\"1\" class=\"dataframe\">\n",
              "  <thead>\n",
              "    <tr style=\"text-align: right;\">\n",
              "      <th></th>\n",
              "      <th>Age</th>\n",
              "      <th>Occupation</th>\n",
              "      <th>Annual_Income</th>\n",
              "      <th>Monthly_Inhand_Salary</th>\n",
              "      <th>Num_Bank_Accounts</th>\n",
              "      <th>Num_Credit_Card</th>\n",
              "      <th>Interest_Rate</th>\n",
              "      <th>Num_of_Loan</th>\n",
              "      <th>Delay_from_due_date</th>\n",
              "      <th>Num_of_Delayed_Payment</th>\n",
              "      <th>...</th>\n",
              "      <th>Credit_Mix</th>\n",
              "      <th>Outstanding_Debt</th>\n",
              "      <th>Credit_Utilization_Ratio</th>\n",
              "      <th>Credit_History_Age</th>\n",
              "      <th>Payment_of_Min_Amount</th>\n",
              "      <th>Total_EMI_per_month</th>\n",
              "      <th>Amount_invested_monthly</th>\n",
              "      <th>Payment_Behaviour</th>\n",
              "      <th>Monthly_Balance</th>\n",
              "      <th>Credit_Score</th>\n",
              "    </tr>\n",
              "  </thead>\n",
              "  <tbody>\n",
              "    <tr>\n",
              "      <th>30028</th>\n",
              "      <td>44</td>\n",
              "      <td>Writer</td>\n",
              "      <td>42811.36</td>\n",
              "      <td>3825.613333</td>\n",
              "      <td>5</td>\n",
              "      <td>3</td>\n",
              "      <td>18</td>\n",
              "      <td>4</td>\n",
              "      <td>22</td>\n",
              "      <td>11.0</td>\n",
              "      <td>...</td>\n",
              "      <td>Standard</td>\n",
              "      <td>742.29</td>\n",
              "      <td>32.376797</td>\n",
              "      <td>307.0</td>\n",
              "      <td>No</td>\n",
              "      <td>74.606950</td>\n",
              "      <td>93.503794</td>\n",
              "      <td>High_spent_Large_value_payments</td>\n",
              "      <td>454.450589</td>\n",
              "      <td>Standard</td>\n",
              "    </tr>\n",
              "    <tr>\n",
              "      <th>80750</th>\n",
              "      <td>26</td>\n",
              "      <td>Musician</td>\n",
              "      <td>15434.10</td>\n",
              "      <td>NaN</td>\n",
              "      <td>7</td>\n",
              "      <td>10</td>\n",
              "      <td>31</td>\n",
              "      <td>9</td>\n",
              "      <td>31</td>\n",
              "      <td>16.0</td>\n",
              "      <td>...</td>\n",
              "      <td>Bad</td>\n",
              "      <td>4378.25</td>\n",
              "      <td>40.255897</td>\n",
              "      <td>44.0</td>\n",
              "      <td>Yes</td>\n",
              "      <td>108.051505</td>\n",
              "      <td>60.708394</td>\n",
              "      <td>Low_spent_Small_value_payments</td>\n",
              "      <td>250.057601</td>\n",
              "      <td>Standard</td>\n",
              "    </tr>\n",
              "    <tr>\n",
              "      <th>89305</th>\n",
              "      <td>32</td>\n",
              "      <td>Developer</td>\n",
              "      <td>144469.36</td>\n",
              "      <td>11835.113333</td>\n",
              "      <td>0</td>\n",
              "      <td>4</td>\n",
              "      <td>5</td>\n",
              "      <td>1</td>\n",
              "      <td>19</td>\n",
              "      <td>0.0</td>\n",
              "      <td>...</td>\n",
              "      <td>Good</td>\n",
              "      <td>361.73</td>\n",
              "      <td>44.919729</td>\n",
              "      <td>390.0</td>\n",
              "      <td>No</td>\n",
              "      <td>95.048608</td>\n",
              "      <td>139.127322</td>\n",
              "      <td>High_spent_Medium_value_payments</td>\n",
              "      <td>1199.335404</td>\n",
              "      <td>Poor</td>\n",
              "    </tr>\n",
              "  </tbody>\n",
              "</table>\n",
              "<p>3 rows × 22 columns</p>\n",
              "</div>\n",
              "      <button class=\"colab-df-convert\" onclick=\"convertToInteractive('df-f086791b-4456-47a7-b132-b521d13c5d22')\"\n",
              "              title=\"Convert this dataframe to an interactive table.\"\n",
              "              style=\"display:none;\">\n",
              "        \n",
              "  <svg xmlns=\"http://www.w3.org/2000/svg\" height=\"24px\"viewBox=\"0 0 24 24\"\n",
              "       width=\"24px\">\n",
              "    <path d=\"M0 0h24v24H0V0z\" fill=\"none\"/>\n",
              "    <path d=\"M18.56 5.44l.94 2.06.94-2.06 2.06-.94-2.06-.94-.94-2.06-.94 2.06-2.06.94zm-11 1L8.5 8.5l.94-2.06 2.06-.94-2.06-.94L8.5 2.5l-.94 2.06-2.06.94zm10 10l.94 2.06.94-2.06 2.06-.94-2.06-.94-.94-2.06-.94 2.06-2.06.94z\"/><path d=\"M17.41 7.96l-1.37-1.37c-.4-.4-.92-.59-1.43-.59-.52 0-1.04.2-1.43.59L10.3 9.45l-7.72 7.72c-.78.78-.78 2.05 0 2.83L4 21.41c.39.39.9.59 1.41.59.51 0 1.02-.2 1.41-.59l7.78-7.78 2.81-2.81c.8-.78.8-2.07 0-2.86zM5.41 20L4 18.59l7.72-7.72 1.47 1.35L5.41 20z\"/>\n",
              "  </svg>\n",
              "      </button>\n",
              "      \n",
              "  <style>\n",
              "    .colab-df-container {\n",
              "      display:flex;\n",
              "      flex-wrap:wrap;\n",
              "      gap: 12px;\n",
              "    }\n",
              "\n",
              "    .colab-df-convert {\n",
              "      background-color: #E8F0FE;\n",
              "      border: none;\n",
              "      border-radius: 50%;\n",
              "      cursor: pointer;\n",
              "      display: none;\n",
              "      fill: #1967D2;\n",
              "      height: 32px;\n",
              "      padding: 0 0 0 0;\n",
              "      width: 32px;\n",
              "    }\n",
              "\n",
              "    .colab-df-convert:hover {\n",
              "      background-color: #E2EBFA;\n",
              "      box-shadow: 0px 1px 2px rgba(60, 64, 67, 0.3), 0px 1px 3px 1px rgba(60, 64, 67, 0.15);\n",
              "      fill: #174EA6;\n",
              "    }\n",
              "\n",
              "    [theme=dark] .colab-df-convert {\n",
              "      background-color: #3B4455;\n",
              "      fill: #D2E3FC;\n",
              "    }\n",
              "\n",
              "    [theme=dark] .colab-df-convert:hover {\n",
              "      background-color: #434B5C;\n",
              "      box-shadow: 0px 1px 3px 1px rgba(0, 0, 0, 0.15);\n",
              "      filter: drop-shadow(0px 1px 2px rgba(0, 0, 0, 0.3));\n",
              "      fill: #FFFFFF;\n",
              "    }\n",
              "  </style>\n",
              "\n",
              "      <script>\n",
              "        const buttonEl =\n",
              "          document.querySelector('#df-f086791b-4456-47a7-b132-b521d13c5d22 button.colab-df-convert');\n",
              "        buttonEl.style.display =\n",
              "          google.colab.kernel.accessAllowed ? 'block' : 'none';\n",
              "\n",
              "        async function convertToInteractive(key) {\n",
              "          const element = document.querySelector('#df-f086791b-4456-47a7-b132-b521d13c5d22');\n",
              "          const dataTable =\n",
              "            await google.colab.kernel.invokeFunction('convertToInteractive',\n",
              "                                                     [key], {});\n",
              "          if (!dataTable) return;\n",
              "\n",
              "          const docLinkHtml = 'Like what you see? Visit the ' +\n",
              "            '<a target=\"_blank\" href=https://colab.research.google.com/notebooks/data_table.ipynb>data table notebook</a>'\n",
              "            + ' to learn more about interactive tables.';\n",
              "          element.innerHTML = '';\n",
              "          dataTable['output_type'] = 'display_data';\n",
              "          await google.colab.output.renderOutput(dataTable, element);\n",
              "          const docLink = document.createElement('div');\n",
              "          docLink.innerHTML = docLinkHtml;\n",
              "          element.appendChild(docLink);\n",
              "        }\n",
              "      </script>\n",
              "    </div>\n",
              "  </div>\n",
              "  "
            ],
            "text/plain": [
              "       Age Occupation  Annual_Income  Monthly_Inhand_Salary  \\\n",
              "30028   44     Writer       42811.36            3825.613333   \n",
              "80750   26   Musician       15434.10                    NaN   \n",
              "89305   32  Developer      144469.36           11835.113333   \n",
              "\n",
              "       Num_Bank_Accounts  Num_Credit_Card  Interest_Rate  Num_of_Loan  \\\n",
              "30028                  5                3             18            4   \n",
              "80750                  7               10             31            9   \n",
              "89305                  0                4              5            1   \n",
              "\n",
              "       Delay_from_due_date  Num_of_Delayed_Payment  ...  Credit_Mix  \\\n",
              "30028                   22                    11.0  ...    Standard   \n",
              "80750                   31                    16.0  ...         Bad   \n",
              "89305                   19                     0.0  ...        Good   \n",
              "\n",
              "       Outstanding_Debt Credit_Utilization_Ratio  Credit_History_Age  \\\n",
              "30028            742.29                32.376797               307.0   \n",
              "80750           4378.25                40.255897                44.0   \n",
              "89305            361.73                44.919729               390.0   \n",
              "\n",
              "       Payment_of_Min_Amount  Total_EMI_per_month Amount_invested_monthly  \\\n",
              "30028                     No            74.606950               93.503794   \n",
              "80750                    Yes           108.051505               60.708394   \n",
              "89305                     No            95.048608              139.127322   \n",
              "\n",
              "                      Payment_Behaviour  Monthly_Balance Credit_Score  \n",
              "30028   High_spent_Large_value_payments       454.450589     Standard  \n",
              "80750    Low_spent_Small_value_payments       250.057601     Standard  \n",
              "89305  High_spent_Medium_value_payments      1199.335404         Poor  \n",
              "\n",
              "[3 rows x 22 columns]"
            ]
          },
          "execution_count": 33,
          "metadata": {},
          "output_type": "execute_result"
        }
      ],
      "source": [
        "credit_df.sample(3)"
      ]
    },
    {
      "cell_type": "code",
      "execution_count": null,
      "metadata": {
        "colab": {
          "base_uri": "https://localhost:8080/"
        },
        "id": "YA6dSK0wfEZA",
        "outputId": "f7eab058-ac3e-4e39-a7ec-625b0c55b2cd"
      },
      "outputs": [
        {
          "name": "stderr",
          "output_type": "stream",
          "text": [
            "/usr/local/lib/python3.7/dist-packages/ipykernel_launcher.py:2: FutureWarning: Dropping of nuisance columns in DataFrame reductions (with 'numeric_only=None') is deprecated; in a future version this will raise TypeError.  Select only valid columns before calling the reduction.\n",
            "  \n"
          ]
        },
        {
          "data": {
            "text/plain": [
              "Age                                                    14\n",
              "Annual_Income                                     7005.93\n",
              "Monthly_Inhand_Salary                           319.55625\n",
              "Num_Bank_Accounts                                      -1\n",
              "Num_Credit_Card                                         0\n",
              "Interest_Rate                                           1\n",
              "Num_of_Loan                                             0\n",
              "Delay_from_due_date                                     0\n",
              "Num_of_Delayed_Payment                               -3.0\n",
              "Changed_Credit_Limit                                -6.48\n",
              "Num_Credit_Inquiries                                  0.0\n",
              "Outstanding_Debt                                     0.23\n",
              "Credit_Utilization_Ratio                             20.0\n",
              "Credit_History_Age                                    1.0\n",
              "Payment_of_Min_Amount                                  NM\n",
              "Total_EMI_per_month                                   0.0\n",
              "Amount_invested_monthly                               0.0\n",
              "Monthly_Balance            -333333333333333314856026112.0\n",
              "Credit_Score                                         Good\n",
              "dtype: object"
            ]
          },
          "execution_count": 34,
          "metadata": {},
          "output_type": "execute_result"
        }
      ],
      "source": [
        "# Validando si la BD tiene valores negativos\n",
        "credit_df.min()"
      ]
    },
    {
      "cell_type": "code",
      "execution_count": null,
      "metadata": {
        "colab": {
          "base_uri": "https://localhost:8080/"
        },
        "id": "5JpxXNi-_ROQ",
        "outputId": "9a11af02-fe13-46f5-bc97-00f18c3038ce"
      },
      "outputs": [
        {
          "name": "stderr",
          "output_type": "stream",
          "text": [
            "/usr/local/lib/python3.7/dist-packages/ipykernel_launcher.py:6: FutureWarning: Dropping of nuisance columns in DataFrame reductions (with 'numeric_only=None') is deprecated; in a future version this will raise TypeError.  Select only valid columns before calling the reduction.\n",
            "  \n"
          ]
        },
        {
          "data": {
            "text/plain": [
              "Age                                14\n",
              "Annual_Income                 7005.93\n",
              "Monthly_Inhand_Salary       319.55625\n",
              "Num_Bank_Accounts                   0\n",
              "Num_Credit_Card                     0\n",
              "Interest_Rate                       1\n",
              "Num_of_Loan                         0\n",
              "Delay_from_due_date                 0\n",
              "Num_of_Delayed_Payment            0.0\n",
              "Changed_Credit_Limit              0.0\n",
              "Num_Credit_Inquiries              0.0\n",
              "Outstanding_Debt                 0.23\n",
              "Credit_Utilization_Ratio         20.0\n",
              "Credit_History_Age                1.0\n",
              "Payment_of_Min_Amount              NM\n",
              "Total_EMI_per_month               0.0\n",
              "Amount_invested_monthly           0.0\n",
              "Monthly_Balance               0.00776\n",
              "Credit_Score                     Good\n",
              "dtype: object"
            ]
          },
          "execution_count": 35,
          "metadata": {},
          "output_type": "execute_result"
        }
      ],
      "source": [
        "#Eliminando valores negativos de la columna Num_Bank_Accounts, Num_of_Delayed_Payment, Changed_Credit_Limit, Monthly_Balance\n",
        "credit_df = credit_df.drop(credit_df[credit_df['Num_Bank_Accounts']<0].index)\n",
        "credit_df = credit_df.drop(credit_df[credit_df['Num_of_Delayed_Payment']<0].index)\n",
        "credit_df = credit_df.drop(credit_df[credit_df['Changed_Credit_Limit']<0].index)\n",
        "credit_df = credit_df.drop(credit_df[credit_df['Monthly_Balance']<0].index)\n",
        "credit_df.min()"
      ]
    },
    {
      "cell_type": "code",
      "execution_count": null,
      "metadata": {
        "colab": {
          "base_uri": "https://localhost:8080/"
        },
        "id": "xQK38MYSBBZy",
        "outputId": "813cef8a-268b-4ecb-8f89-dac93e7042c5"
      },
      "outputs": [
        {
          "data": {
            "text/plain": [
              "(69568, 22)"
            ]
          },
          "execution_count": 36,
          "metadata": {},
          "output_type": "execute_result"
        }
      ],
      "source": [
        "credit_df.shape"
      ]
    },
    {
      "cell_type": "code",
      "execution_count": null,
      "metadata": {
        "colab": {
          "base_uri": "https://localhost:8080/"
        },
        "id": "9WXug_IbgLq0",
        "outputId": "2eba2888-5b55-4666-cd23-8712c2437685"
      },
      "outputs": [
        {
          "data": {
            "text/plain": [
              "Age                             0\n",
              "Occupation                   4874\n",
              "Annual_Income                   0\n",
              "Monthly_Inhand_Salary       10554\n",
              "Num_Bank_Accounts               0\n",
              "Num_Credit_Card                 0\n",
              "Interest_Rate                   0\n",
              "Num_of_Loan                     0\n",
              "Delay_from_due_date             0\n",
              "Num_of_Delayed_Payment       4906\n",
              "Changed_Credit_Limit         1488\n",
              "Num_Credit_Inquiries         1598\n",
              "Credit_Mix                  14139\n",
              "Outstanding_Debt                0\n",
              "Credit_Utilization_Ratio        0\n",
              "Credit_History_Age           6303\n",
              "Payment_of_Min_Amount           0\n",
              "Total_EMI_per_month             0\n",
              "Amount_invested_monthly      3134\n",
              "Payment_Behaviour            5261\n",
              "Monthly_Balance               831\n",
              "Credit_Score                    0\n",
              "dtype: int64"
            ]
          },
          "execution_count": 37,
          "metadata": {},
          "output_type": "execute_result"
        }
      ],
      "source": [
        "# Validando si la BD tiene valores nulos\n",
        "credit_df.isna().sum()"
      ]
    },
    {
      "cell_type": "code",
      "execution_count": null,
      "metadata": {
        "colab": {
          "base_uri": "https://localhost:8080/",
          "height": 421
        },
        "id": "VmvJWXldNJ6C",
        "outputId": "c717d3b0-62e6-40b3-a395-0f32453bf328"
      },
      "outputs": [
        {
          "data": {
            "text/plain": [
              "Text(0.5, 1.0, 'Valores faltantes en la base de datos')"
            ]
          },
          "execution_count": 38,
          "metadata": {},
          "output_type": "execute_result"
        },
        {
          "data": {
            "image/png": "[encoded data removed]",
            "text/plain": [
              "<Figure size 864x288 with 1 Axes>"
            ]
          },
          "metadata": {},
          "output_type": "display_data"
        }
      ],
      "source": [
        "plt.figure(figsize = (12,4))\n",
        "sns.heatmap(credit_df.isnull(), cbar=False, cmap='viridis', yticklabels=False)\n",
        "plt.title('Valores faltantes en la base de datos')"
      ]
    },
    {
      "cell_type": "code",
      "execution_count": null,
      "metadata": {
        "colab": {
          "base_uri": "https://localhost:8080/"
        },
        "id": "EtY4ZOBANxYd",
        "outputId": "93126432-eea5-4517-da51-7b62fdcdddcb"
      },
      "outputs": [
        {
          "name": "stderr",
          "output_type": "stream",
          "text": [
            "/usr/local/lib/python3.7/dist-packages/ipykernel_launcher.py:3: FutureWarning: Dropping of nuisance columns in DataFrame reductions (with 'numeric_only=None') is deprecated; in a future version this will raise TypeError.  Select only valid columns before calling the reduction.\n",
            "  This is separate from the ipykernel package so we can avoid doing imports until\n"
          ]
        }
      ],
      "source": [
        "# Sustituyendo los valores nulos con el valor promedio\n",
        "\n",
        "credit_df = credit_df.fillna(credit_df.mean())"
      ]
    },
    {
      "cell_type": "code",
      "execution_count": null,
      "metadata": {
        "colab": {
          "base_uri": "https://localhost:8080/",
          "height": 421
        },
        "id": "07eqzD1gOYAB",
        "outputId": "305a5a50-df75-4a25-c6d2-9dd67e3a9ccd"
      },
      "outputs": [
        {
          "data": {
            "text/plain": [
              "Text(0.5, 1.0, 'Valores faltantes en la base de datos')"
            ]
          },
          "execution_count": 40,
          "metadata": {},
          "output_type": "execute_result"
        },
        {
          "data": {
            "image/png": "[encoded data removed]",
            "text/plain": [
              "<Figure size 864x288 with 1 Axes>"
            ]
          },
          "metadata": {},
          "output_type": "display_data"
        }
      ],
      "source": [
        "# volviendo a validar la existencia de valores nulos\n",
        "plt.figure(figsize = (12,4))\n",
        "sns.heatmap(credit_df.isnull(), cbar=False, cmap='viridis', yticklabels=False)\n",
        "plt.title('Valores faltantes en la base de datos')"
      ]
    },
    {
      "cell_type": "code",
      "execution_count": null,
      "metadata": {
        "colab": {
          "base_uri": "https://localhost:8080/"
        },
        "id": "U1HsnGCeOys4",
        "outputId": "9f97d568-03a1-4c98-8009-6704ec9e34ba"
      },
      "outputs": [
        {
          "data": {
            "text/plain": [
              "Age                             0\n",
              "Occupation                   4874\n",
              "Annual_Income                   0\n",
              "Monthly_Inhand_Salary           0\n",
              "Num_Bank_Accounts               0\n",
              "Num_Credit_Card                 0\n",
              "Interest_Rate                   0\n",
              "Num_of_Loan                     0\n",
              "Delay_from_due_date             0\n",
              "Num_of_Delayed_Payment          0\n",
              "Changed_Credit_Limit            0\n",
              "Num_Credit_Inquiries            0\n",
              "Credit_Mix                  14139\n",
              "Outstanding_Debt                0\n",
              "Credit_Utilization_Ratio        0\n",
              "Credit_History_Age              0\n",
              "Payment_of_Min_Amount           0\n",
              "Total_EMI_per_month             0\n",
              "Amount_invested_monthly         0\n",
              "Payment_Behaviour            5261\n",
              "Monthly_Balance                 0\n",
              "Credit_Score                    0\n",
              "dtype: int64"
            ]
          },
          "execution_count": 41,
          "metadata": {},
          "output_type": "execute_result"
        }
      ],
      "source": [
        "credit_df.isna().sum()"
      ]
    },
    {
      "cell_type": "code",
      "execution_count": null,
      "metadata": {
        "id": "2JXs3VuRBbT4"
      },
      "outputs": [],
      "source": [
        "#Eliminando valores nulos de la columna Name, Occupation, Credit_Mix, Payment_Behaviour\n",
        "# credit_df = credit_df.drop(credit_df[credit_df['Name']==\" \"].index)\n",
        "credit_df = credit_df.drop(credit_df[credit_df['Occupation']==\" \"].index)\n",
        "# credit_df = credit_df.drop(credit_df[credit_df['Type_of_Loan']==\" \"].index)\n",
        "credit_df = credit_df.drop(credit_df[credit_df['Credit_Mix']==\" \"].index)\n",
        "credit_df = credit_df.drop(credit_df[credit_df['Payment_Behaviour']==\" \"].index)\n"
      ]
    },
    {
      "cell_type": "code",
      "execution_count": null,
      "metadata": {
        "colab": {
          "base_uri": "https://localhost:8080/",
          "height": 488
        },
        "id": "ajlGom7X-3GK",
        "outputId": "1df0c552-98b3-4273-f66b-ce816878bb0e"
      },
      "outputs": [
        {
          "data": {
            "text/html": [
              "\n",
              "  <div id=\"df-ce856c55-1230-4e63-a8d3-9657b24dbc37\">\n",
              "    <div class=\"colab-df-container\">\n",
              "      <div>\n",
              "<style scoped>\n",
              "    .dataframe tbody tr th:only-of-type {\n",
              "        vertical-align: middle;\n",
              "    }\n",
              "\n",
              "    .dataframe tbody tr th {\n",
              "        vertical-align: top;\n",
              "    }\n",
              "\n",
              "    .dataframe thead th {\n",
              "        text-align: right;\n",
              "    }\n",
              "</style>\n",
              "<table border=\"1\" class=\"dataframe\">\n",
              "  <thead>\n",
              "    <tr style=\"text-align: right;\">\n",
              "      <th></th>\n",
              "      <th>Age</th>\n",
              "      <th>Occupation</th>\n",
              "      <th>Annual_Income</th>\n",
              "      <th>Monthly_Inhand_Salary</th>\n",
              "      <th>Num_Bank_Accounts</th>\n",
              "      <th>Num_Credit_Card</th>\n",
              "      <th>Interest_Rate</th>\n",
              "      <th>Num_of_Loan</th>\n",
              "      <th>Delay_from_due_date</th>\n",
              "      <th>Num_of_Delayed_Payment</th>\n",
              "      <th>...</th>\n",
              "      <th>Credit_Mix</th>\n",
              "      <th>Outstanding_Debt</th>\n",
              "      <th>Credit_Utilization_Ratio</th>\n",
              "      <th>Credit_History_Age</th>\n",
              "      <th>Payment_of_Min_Amount</th>\n",
              "      <th>Total_EMI_per_month</th>\n",
              "      <th>Amount_invested_monthly</th>\n",
              "      <th>Payment_Behaviour</th>\n",
              "      <th>Monthly_Balance</th>\n",
              "      <th>Credit_Score</th>\n",
              "    </tr>\n",
              "  </thead>\n",
              "  <tbody>\n",
              "    <tr>\n",
              "      <th>0</th>\n",
              "      <td>23</td>\n",
              "      <td>Scientist</td>\n",
              "      <td>19114.12</td>\n",
              "      <td>1824.843333</td>\n",
              "      <td>3</td>\n",
              "      <td>4</td>\n",
              "      <td>3</td>\n",
              "      <td>4</td>\n",
              "      <td>3</td>\n",
              "      <td>7.000000</td>\n",
              "      <td>...</td>\n",
              "      <td>NaN</td>\n",
              "      <td>809.98</td>\n",
              "      <td>26.822620</td>\n",
              "      <td>265.0</td>\n",
              "      <td>No</td>\n",
              "      <td>49.574949</td>\n",
              "      <td>80.415295</td>\n",
              "      <td>High_spent_Small_value_payments</td>\n",
              "      <td>312.494089</td>\n",
              "      <td>Good</td>\n",
              "    </tr>\n",
              "    <tr>\n",
              "      <th>5</th>\n",
              "      <td>23</td>\n",
              "      <td>Scientist</td>\n",
              "      <td>19114.12</td>\n",
              "      <td>4397.643495</td>\n",
              "      <td>3</td>\n",
              "      <td>4</td>\n",
              "      <td>3</td>\n",
              "      <td>4</td>\n",
              "      <td>8</td>\n",
              "      <td>4.000000</td>\n",
              "      <td>...</td>\n",
              "      <td>Good</td>\n",
              "      <td>809.98</td>\n",
              "      <td>27.262259</td>\n",
              "      <td>270.0</td>\n",
              "      <td>No</td>\n",
              "      <td>49.574949</td>\n",
              "      <td>62.430172</td>\n",
              "      <td>NaN</td>\n",
              "      <td>340.479212</td>\n",
              "      <td>Good</td>\n",
              "    </tr>\n",
              "    <tr>\n",
              "      <th>8</th>\n",
              "      <td>28</td>\n",
              "      <td>NaN</td>\n",
              "      <td>34847.84</td>\n",
              "      <td>3037.986667</td>\n",
              "      <td>2</td>\n",
              "      <td>4</td>\n",
              "      <td>6</td>\n",
              "      <td>1</td>\n",
              "      <td>3</td>\n",
              "      <td>4.000000</td>\n",
              "      <td>...</td>\n",
              "      <td>Good</td>\n",
              "      <td>605.03</td>\n",
              "      <td>24.464031</td>\n",
              "      <td>319.0</td>\n",
              "      <td>No</td>\n",
              "      <td>18.816215</td>\n",
              "      <td>104.291825</td>\n",
              "      <td>Low_spent_Small_value_payments</td>\n",
              "      <td>470.690627</td>\n",
              "      <td>Standard</td>\n",
              "    </tr>\n",
              "    <tr>\n",
              "      <th>16</th>\n",
              "      <td>34</td>\n",
              "      <td>NaN</td>\n",
              "      <td>143162.64</td>\n",
              "      <td>12187.220000</td>\n",
              "      <td>1</td>\n",
              "      <td>5</td>\n",
              "      <td>8</td>\n",
              "      <td>3</td>\n",
              "      <td>5</td>\n",
              "      <td>8.000000</td>\n",
              "      <td>...</td>\n",
              "      <td>Good</td>\n",
              "      <td>1303.01</td>\n",
              "      <td>28.616735</td>\n",
              "      <td>213.0</td>\n",
              "      <td>No</td>\n",
              "      <td>246.992319</td>\n",
              "      <td>168.413703</td>\n",
              "      <td>NaN</td>\n",
              "      <td>1043.315978</td>\n",
              "      <td>Good</td>\n",
              "    </tr>\n",
              "    <tr>\n",
              "      <th>18</th>\n",
              "      <td>34</td>\n",
              "      <td>NaN</td>\n",
              "      <td>143162.64</td>\n",
              "      <td>4397.643495</td>\n",
              "      <td>1</td>\n",
              "      <td>5</td>\n",
              "      <td>8</td>\n",
              "      <td>3</td>\n",
              "      <td>8</td>\n",
              "      <td>7.000000</td>\n",
              "      <td>...</td>\n",
              "      <td>Good</td>\n",
              "      <td>1303.01</td>\n",
              "      <td>26.519815</td>\n",
              "      <td>215.0</td>\n",
              "      <td>No</td>\n",
              "      <td>246.992319</td>\n",
              "      <td>10000.000000</td>\n",
              "      <td>High_spent_Small_value_payments</td>\n",
              "      <td>715.741367</td>\n",
              "      <td>Good</td>\n",
              "    </tr>\n",
              "    <tr>\n",
              "      <th>...</th>\n",
              "      <td>...</td>\n",
              "      <td>...</td>\n",
              "      <td>...</td>\n",
              "      <td>...</td>\n",
              "      <td>...</td>\n",
              "      <td>...</td>\n",
              "      <td>...</td>\n",
              "      <td>...</td>\n",
              "      <td>...</td>\n",
              "      <td>...</td>\n",
              "      <td>...</td>\n",
              "      <td>...</td>\n",
              "      <td>...</td>\n",
              "      <td>...</td>\n",
              "      <td>...</td>\n",
              "      <td>...</td>\n",
              "      <td>...</td>\n",
              "      <td>...</td>\n",
              "      <td>...</td>\n",
              "      <td>...</td>\n",
              "      <td>...</td>\n",
              "    </tr>\n",
              "    <tr>\n",
              "      <th>99992</th>\n",
              "      <td>24</td>\n",
              "      <td>Mechanic</td>\n",
              "      <td>39628.99</td>\n",
              "      <td>3359.415833</td>\n",
              "      <td>4</td>\n",
              "      <td>6</td>\n",
              "      <td>7</td>\n",
              "      <td>2</td>\n",
              "      <td>23</td>\n",
              "      <td>30.761436</td>\n",
              "      <td>...</td>\n",
              "      <td>NaN</td>\n",
              "      <td>502.38</td>\n",
              "      <td>32.991333</td>\n",
              "      <td>375.0</td>\n",
              "      <td>No</td>\n",
              "      <td>35.104023</td>\n",
              "      <td>401.196481</td>\n",
              "      <td>Low_spent_Small_value_payments</td>\n",
              "      <td>189.641080</td>\n",
              "      <td>Poor</td>\n",
              "    </tr>\n",
              "    <tr>\n",
              "      <th>99994</th>\n",
              "      <td>25</td>\n",
              "      <td>Mechanic</td>\n",
              "      <td>39628.99</td>\n",
              "      <td>3359.415833</td>\n",
              "      <td>4</td>\n",
              "      <td>6</td>\n",
              "      <td>7</td>\n",
              "      <td>2</td>\n",
              "      <td>20</td>\n",
              "      <td>6.000000</td>\n",
              "      <td>...</td>\n",
              "      <td>NaN</td>\n",
              "      <td>502.38</td>\n",
              "      <td>39.323569</td>\n",
              "      <td>377.0</td>\n",
              "      <td>No</td>\n",
              "      <td>35.104023</td>\n",
              "      <td>140.581403</td>\n",
              "      <td>High_spent_Medium_value_payments</td>\n",
              "      <td>410.256158</td>\n",
              "      <td>Poor</td>\n",
              "    </tr>\n",
              "    <tr>\n",
              "      <th>99995</th>\n",
              "      <td>25</td>\n",
              "      <td>Mechanic</td>\n",
              "      <td>39628.99</td>\n",
              "      <td>3359.415833</td>\n",
              "      <td>4</td>\n",
              "      <td>6</td>\n",
              "      <td>7</td>\n",
              "      <td>2</td>\n",
              "      <td>23</td>\n",
              "      <td>7.000000</td>\n",
              "      <td>...</td>\n",
              "      <td>NaN</td>\n",
              "      <td>502.38</td>\n",
              "      <td>34.663572</td>\n",
              "      <td>378.0</td>\n",
              "      <td>No</td>\n",
              "      <td>35.104023</td>\n",
              "      <td>60.971333</td>\n",
              "      <td>High_spent_Large_value_payments</td>\n",
              "      <td>479.866228</td>\n",
              "      <td>Poor</td>\n",
              "    </tr>\n",
              "    <tr>\n",
              "      <th>99996</th>\n",
              "      <td>25</td>\n",
              "      <td>Mechanic</td>\n",
              "      <td>39628.99</td>\n",
              "      <td>3359.415833</td>\n",
              "      <td>4</td>\n",
              "      <td>6</td>\n",
              "      <td>7</td>\n",
              "      <td>2</td>\n",
              "      <td>18</td>\n",
              "      <td>7.000000</td>\n",
              "      <td>...</td>\n",
              "      <td>NaN</td>\n",
              "      <td>502.38</td>\n",
              "      <td>40.565631</td>\n",
              "      <td>379.0</td>\n",
              "      <td>No</td>\n",
              "      <td>35.104023</td>\n",
              "      <td>54.185950</td>\n",
              "      <td>High_spent_Medium_value_payments</td>\n",
              "      <td>496.651610</td>\n",
              "      <td>Poor</td>\n",
              "    </tr>\n",
              "    <tr>\n",
              "      <th>99999</th>\n",
              "      <td>25</td>\n",
              "      <td>Mechanic</td>\n",
              "      <td>39628.99</td>\n",
              "      <td>3359.415833</td>\n",
              "      <td>4</td>\n",
              "      <td>6</td>\n",
              "      <td>7</td>\n",
              "      <td>2</td>\n",
              "      <td>18</td>\n",
              "      <td>6.000000</td>\n",
              "      <td>...</td>\n",
              "      <td>Good</td>\n",
              "      <td>502.38</td>\n",
              "      <td>34.192463</td>\n",
              "      <td>382.0</td>\n",
              "      <td>No</td>\n",
              "      <td>35.104023</td>\n",
              "      <td>167.163865</td>\n",
              "      <td>NaN</td>\n",
              "      <td>393.673696</td>\n",
              "      <td>Poor</td>\n",
              "    </tr>\n",
              "  </tbody>\n",
              "</table>\n",
              "<p>21927 rows × 22 columns</p>\n",
              "</div>\n",
              "      <button class=\"colab-df-convert\" onclick=\"convertToInteractive('df-ce856c55-1230-4e63-a8d3-9657b24dbc37')\"\n",
              "              title=\"Convert this dataframe to an interactive table.\"\n",
              "              style=\"display:none;\">\n",
              "        \n",
              "  <svg xmlns=\"http://www.w3.org/2000/svg\" height=\"24px\"viewBox=\"0 0 24 24\"\n",
              "       width=\"24px\">\n",
              "    <path d=\"M0 0h24v24H0V0z\" fill=\"none\"/>\n",
              "    <path d=\"M18.56 5.44l.94 2.06.94-2.06 2.06-.94-2.06-.94-.94-2.06-.94 2.06-2.06.94zm-11 1L8.5 8.5l.94-2.06 2.06-.94-2.06-.94L8.5 2.5l-.94 2.06-2.06.94zm10 10l.94 2.06.94-2.06 2.06-.94-2.06-.94-.94-2.06-.94 2.06-2.06.94z\"/><path d=\"M17.41 7.96l-1.37-1.37c-.4-.4-.92-.59-1.43-.59-.52 0-1.04.2-1.43.59L10.3 9.45l-7.72 7.72c-.78.78-.78 2.05 0 2.83L4 21.41c.39.39.9.59 1.41.59.51 0 1.02-.2 1.41-.59l7.78-7.78 2.81-2.81c.8-.78.8-2.07 0-2.86zM5.41 20L4 18.59l7.72-7.72 1.47 1.35L5.41 20z\"/>\n",
              "  </svg>\n",
              "      </button>\n",
              "      \n",
              "  <style>\n",
              "    .colab-df-container {\n",
              "      display:flex;\n",
              "      flex-wrap:wrap;\n",
              "      gap: 12px;\n",
              "    }\n",
              "\n",
              "    .colab-df-convert {\n",
              "      background-color: #E8F0FE;\n",
              "      border: none;\n",
              "      border-radius: 50%;\n",
              "      cursor: pointer;\n",
              "      display: none;\n",
              "      fill: #1967D2;\n",
              "      height: 32px;\n",
              "      padding: 0 0 0 0;\n",
              "      width: 32px;\n",
              "    }\n",
              "\n",
              "    .colab-df-convert:hover {\n",
              "      background-color: #E2EBFA;\n",
              "      box-shadow: 0px 1px 2px rgba(60, 64, 67, 0.3), 0px 1px 3px 1px rgba(60, 64, 67, 0.15);\n",
              "      fill: #174EA6;\n",
              "    }\n",
              "\n",
              "    [theme=dark] .colab-df-convert {\n",
              "      background-color: #3B4455;\n",
              "      fill: #D2E3FC;\n",
              "    }\n",
              "\n",
              "    [theme=dark] .colab-df-convert:hover {\n",
              "      background-color: #434B5C;\n",
              "      box-shadow: 0px 1px 3px 1px rgba(0, 0, 0, 0.15);\n",
              "      filter: drop-shadow(0px 1px 2px rgba(0, 0, 0, 0.3));\n",
              "      fill: #FFFFFF;\n",
              "    }\n",
              "  </style>\n",
              "\n",
              "      <script>\n",
              "        const buttonEl =\n",
              "          document.querySelector('#df-ce856c55-1230-4e63-a8d3-9657b24dbc37 button.colab-df-convert');\n",
              "        buttonEl.style.display =\n",
              "          google.colab.kernel.accessAllowed ? 'block' : 'none';\n",
              "\n",
              "        async function convertToInteractive(key) {\n",
              "          const element = document.querySelector('#df-ce856c55-1230-4e63-a8d3-9657b24dbc37');\n",
              "          const dataTable =\n",
              "            await google.colab.kernel.invokeFunction('convertToInteractive',\n",
              "                                                     [key], {});\n",
              "          if (!dataTable) return;\n",
              "\n",
              "          const docLinkHtml = 'Like what you see? Visit the ' +\n",
              "            '<a target=\"_blank\" href=https://colab.research.google.com/notebooks/data_table.ipynb>data table notebook</a>'\n",
              "            + ' to learn more about interactive tables.';\n",
              "          element.innerHTML = '';\n",
              "          dataTable['output_type'] = 'display_data';\n",
              "          await google.colab.output.renderOutput(dataTable, element);\n",
              "          const docLink = document.createElement('div');\n",
              "          docLink.innerHTML = docLinkHtml;\n",
              "          element.appendChild(docLink);\n",
              "        }\n",
              "      </script>\n",
              "    </div>\n",
              "  </div>\n",
              "  "
            ],
            "text/plain": [
              "       Age Occupation  Annual_Income  Monthly_Inhand_Salary  \\\n",
              "0       23  Scientist       19114.12            1824.843333   \n",
              "5       23  Scientist       19114.12            4397.643495   \n",
              "8       28        NaN       34847.84            3037.986667   \n",
              "16      34        NaN      143162.64           12187.220000   \n",
              "18      34        NaN      143162.64            4397.643495   \n",
              "...    ...        ...            ...                    ...   \n",
              "99992   24   Mechanic       39628.99            3359.415833   \n",
              "99994   25   Mechanic       39628.99            3359.415833   \n",
              "99995   25   Mechanic       39628.99            3359.415833   \n",
              "99996   25   Mechanic       39628.99            3359.415833   \n",
              "99999   25   Mechanic       39628.99            3359.415833   \n",
              "\n",
              "       Num_Bank_Accounts  Num_Credit_Card  Interest_Rate  Num_of_Loan  \\\n",
              "0                      3                4              3            4   \n",
              "5                      3                4              3            4   \n",
              "8                      2                4              6            1   \n",
              "16                     1                5              8            3   \n",
              "18                     1                5              8            3   \n",
              "...                  ...              ...            ...          ...   \n",
              "99992                  4                6              7            2   \n",
              "99994                  4                6              7            2   \n",
              "99995                  4                6              7            2   \n",
              "99996                  4                6              7            2   \n",
              "99999                  4                6              7            2   \n",
              "\n",
              "       Delay_from_due_date  Num_of_Delayed_Payment  ...  Credit_Mix  \\\n",
              "0                        3                7.000000  ...         NaN   \n",
              "5                        8                4.000000  ...        Good   \n",
              "8                        3                4.000000  ...        Good   \n",
              "16                       5                8.000000  ...        Good   \n",
              "18                       8                7.000000  ...        Good   \n",
              "...                    ...                     ...  ...         ...   \n",
              "99992                   23               30.761436  ...         NaN   \n",
              "99994                   20                6.000000  ...         NaN   \n",
              "99995                   23                7.000000  ...         NaN   \n",
              "99996                   18                7.000000  ...         NaN   \n",
              "99999                   18                6.000000  ...        Good   \n",
              "\n",
              "       Outstanding_Debt Credit_Utilization_Ratio  Credit_History_Age  \\\n",
              "0                809.98                26.822620               265.0   \n",
              "5                809.98                27.262259               270.0   \n",
              "8                605.03                24.464031               319.0   \n",
              "16              1303.01                28.616735               213.0   \n",
              "18              1303.01                26.519815               215.0   \n",
              "...                 ...                      ...                 ...   \n",
              "99992            502.38                32.991333               375.0   \n",
              "99994            502.38                39.323569               377.0   \n",
              "99995            502.38                34.663572               378.0   \n",
              "99996            502.38                40.565631               379.0   \n",
              "99999            502.38                34.192463               382.0   \n",
              "\n",
              "       Payment_of_Min_Amount  Total_EMI_per_month Amount_invested_monthly  \\\n",
              "0                         No            49.574949               80.415295   \n",
              "5                         No            49.574949               62.430172   \n",
              "8                         No            18.816215              104.291825   \n",
              "16                        No           246.992319              168.413703   \n",
              "18                        No           246.992319            10000.000000   \n",
              "...                      ...                  ...                     ...   \n",
              "99992                     No            35.104023              401.196481   \n",
              "99994                     No            35.104023              140.581403   \n",
              "99995                     No            35.104023               60.971333   \n",
              "99996                     No            35.104023               54.185950   \n",
              "99999                     No            35.104023              167.163865   \n",
              "\n",
              "                      Payment_Behaviour  Monthly_Balance Credit_Score  \n",
              "0       High_spent_Small_value_payments       312.494089         Good  \n",
              "5                                   NaN       340.479212         Good  \n",
              "8        Low_spent_Small_value_payments       470.690627     Standard  \n",
              "16                                  NaN      1043.315978         Good  \n",
              "18      High_spent_Small_value_payments       715.741367         Good  \n",
              "...                                 ...              ...          ...  \n",
              "99992    Low_spent_Small_value_payments       189.641080         Poor  \n",
              "99994  High_spent_Medium_value_payments       410.256158         Poor  \n",
              "99995   High_spent_Large_value_payments       479.866228         Poor  \n",
              "99996  High_spent_Medium_value_payments       496.651610         Poor  \n",
              "99999                               NaN       393.673696         Poor  \n",
              "\n",
              "[21927 rows x 22 columns]"
            ]
          },
          "execution_count": 43,
          "metadata": {},
          "output_type": "execute_result"
        }
      ],
      "source": [
        "credit_df = credit_df.drop(credit_df[credit_df['Occupation']==\"\"].index)\n",
        "nan_rows = credit_df[credit_df.isnull().any(1)]\n",
        "nan_rows"
      ]
    },
    {
      "cell_type": "code",
      "execution_count": null,
      "metadata": {
        "id": "vr-eTPxYBHrj"
      },
      "outputs": [],
      "source": [
        "#Eliminando filas con valores nulos\n",
        "credit_df = credit_df.dropna()\n"
      ]
    },
    {
      "cell_type": "code",
      "execution_count": null,
      "metadata": {
        "colab": {
          "base_uri": "https://localhost:8080/"
        },
        "id": "cPN9fIICDKf4",
        "outputId": "81ebe1e8-b377-4d79-bf5d-5742abe8ce3d"
      },
      "outputs": [
        {
          "data": {
            "text/plain": [
              "Age                         0\n",
              "Occupation                  0\n",
              "Annual_Income               0\n",
              "Monthly_Inhand_Salary       0\n",
              "Num_Bank_Accounts           0\n",
              "Num_Credit_Card             0\n",
              "Interest_Rate               0\n",
              "Num_of_Loan                 0\n",
              "Delay_from_due_date         0\n",
              "Num_of_Delayed_Payment      0\n",
              "Changed_Credit_Limit        0\n",
              "Num_Credit_Inquiries        0\n",
              "Credit_Mix                  0\n",
              "Outstanding_Debt            0\n",
              "Credit_Utilization_Ratio    0\n",
              "Credit_History_Age          0\n",
              "Payment_of_Min_Amount       0\n",
              "Total_EMI_per_month         0\n",
              "Amount_invested_monthly     0\n",
              "Payment_Behaviour           0\n",
              "Monthly_Balance             0\n",
              "Credit_Score                0\n",
              "dtype: int64"
            ]
          },
          "execution_count": 45,
          "metadata": {},
          "output_type": "execute_result"
        }
      ],
      "source": [
        "credit_df.isna().sum()"
      ]
    },
    {
      "cell_type": "code",
      "execution_count": null,
      "metadata": {
        "colab": {
          "base_uri": "https://localhost:8080/",
          "height": 237
        },
        "id": "5IniSqYRO-b9",
        "outputId": "3f9d73ea-9d84-4530-95d7-5bb00f070f6d"
      },
      "outputs": [
        {
          "data": {
            "text/html": [
              "\n",
              "  <div id=\"df-f67a0897-c9f1-40d9-ae55-0e5a579db86e\">\n",
              "    <div class=\"colab-df-container\">\n",
              "      <div>\n",
              "<style scoped>\n",
              "    .dataframe tbody tr th:only-of-type {\n",
              "        vertical-align: middle;\n",
              "    }\n",
              "\n",
              "    .dataframe tbody tr th {\n",
              "        vertical-align: top;\n",
              "    }\n",
              "\n",
              "    .dataframe thead th {\n",
              "        text-align: right;\n",
              "    }\n",
              "</style>\n",
              "<table border=\"1\" class=\"dataframe\">\n",
              "  <thead>\n",
              "    <tr style=\"text-align: right;\">\n",
              "      <th></th>\n",
              "      <th>Age</th>\n",
              "      <th>Occupation</th>\n",
              "      <th>Annual_Income</th>\n",
              "      <th>Monthly_Inhand_Salary</th>\n",
              "      <th>Num_Bank_Accounts</th>\n",
              "      <th>Num_Credit_Card</th>\n",
              "      <th>Interest_Rate</th>\n",
              "      <th>Num_of_Loan</th>\n",
              "      <th>Delay_from_due_date</th>\n",
              "      <th>Num_of_Delayed_Payment</th>\n",
              "      <th>...</th>\n",
              "      <th>Credit_Mix</th>\n",
              "      <th>Outstanding_Debt</th>\n",
              "      <th>Credit_Utilization_Ratio</th>\n",
              "      <th>Credit_History_Age</th>\n",
              "      <th>Payment_of_Min_Amount</th>\n",
              "      <th>Total_EMI_per_month</th>\n",
              "      <th>Amount_invested_monthly</th>\n",
              "      <th>Payment_Behaviour</th>\n",
              "      <th>Monthly_Balance</th>\n",
              "      <th>Credit_Score</th>\n",
              "    </tr>\n",
              "  </thead>\n",
              "  <tbody>\n",
              "    <tr>\n",
              "      <th>3</th>\n",
              "      <td>23</td>\n",
              "      <td>Scientist</td>\n",
              "      <td>19114.12</td>\n",
              "      <td>4397.643495</td>\n",
              "      <td>3</td>\n",
              "      <td>4</td>\n",
              "      <td>3</td>\n",
              "      <td>4</td>\n",
              "      <td>5</td>\n",
              "      <td>4.000000</td>\n",
              "      <td>...</td>\n",
              "      <td>Good</td>\n",
              "      <td>809.98</td>\n",
              "      <td>31.377862</td>\n",
              "      <td>268.0</td>\n",
              "      <td>No</td>\n",
              "      <td>49.574949</td>\n",
              "      <td>199.458074</td>\n",
              "      <td>Low_spent_Small_value_payments</td>\n",
              "      <td>223.451310</td>\n",
              "      <td>Good</td>\n",
              "    </tr>\n",
              "    <tr>\n",
              "      <th>4</th>\n",
              "      <td>23</td>\n",
              "      <td>Scientist</td>\n",
              "      <td>19114.12</td>\n",
              "      <td>1824.843333</td>\n",
              "      <td>3</td>\n",
              "      <td>4</td>\n",
              "      <td>3</td>\n",
              "      <td>4</td>\n",
              "      <td>6</td>\n",
              "      <td>30.761436</td>\n",
              "      <td>...</td>\n",
              "      <td>Good</td>\n",
              "      <td>809.98</td>\n",
              "      <td>24.797347</td>\n",
              "      <td>269.0</td>\n",
              "      <td>No</td>\n",
              "      <td>49.574949</td>\n",
              "      <td>41.420153</td>\n",
              "      <td>High_spent_Medium_value_payments</td>\n",
              "      <td>341.489231</td>\n",
              "      <td>Good</td>\n",
              "    </tr>\n",
              "    <tr>\n",
              "      <th>6</th>\n",
              "      <td>23</td>\n",
              "      <td>Scientist</td>\n",
              "      <td>19114.12</td>\n",
              "      <td>1824.843333</td>\n",
              "      <td>3</td>\n",
              "      <td>4</td>\n",
              "      <td>3</td>\n",
              "      <td>4</td>\n",
              "      <td>3</td>\n",
              "      <td>8.000000</td>\n",
              "      <td>...</td>\n",
              "      <td>Good</td>\n",
              "      <td>809.98</td>\n",
              "      <td>22.537593</td>\n",
              "      <td>271.0</td>\n",
              "      <td>No</td>\n",
              "      <td>49.574949</td>\n",
              "      <td>178.344067</td>\n",
              "      <td>Low_spent_Small_value_payments</td>\n",
              "      <td>244.565317</td>\n",
              "      <td>Good</td>\n",
              "    </tr>\n",
              "  </tbody>\n",
              "</table>\n",
              "<p>3 rows × 22 columns</p>\n",
              "</div>\n",
              "      <button class=\"colab-df-convert\" onclick=\"convertToInteractive('df-f67a0897-c9f1-40d9-ae55-0e5a579db86e')\"\n",
              "              title=\"Convert this dataframe to an interactive table.\"\n",
              "              style=\"display:none;\">\n",
              "        \n",
              "  <svg xmlns=\"http://www.w3.org/2000/svg\" height=\"24px\"viewBox=\"0 0 24 24\"\n",
              "       width=\"24px\">\n",
              "    <path d=\"M0 0h24v24H0V0z\" fill=\"none\"/>\n",
              "    <path d=\"M18.56 5.44l.94 2.06.94-2.06 2.06-.94-2.06-.94-.94-2.06-.94 2.06-2.06.94zm-11 1L8.5 8.5l.94-2.06 2.06-.94-2.06-.94L8.5 2.5l-.94 2.06-2.06.94zm10 10l.94 2.06.94-2.06 2.06-.94-2.06-.94-.94-2.06-.94 2.06-2.06.94z\"/><path d=\"M17.41 7.96l-1.37-1.37c-.4-.4-.92-.59-1.43-.59-.52 0-1.04.2-1.43.59L10.3 9.45l-7.72 7.72c-.78.78-.78 2.05 0 2.83L4 21.41c.39.39.9.59 1.41.59.51 0 1.02-.2 1.41-.59l7.78-7.78 2.81-2.81c.8-.78.8-2.07 0-2.86zM5.41 20L4 18.59l7.72-7.72 1.47 1.35L5.41 20z\"/>\n",
              "  </svg>\n",
              "      </button>\n",
              "      \n",
              "  <style>\n",
              "    .colab-df-container {\n",
              "      display:flex;\n",
              "      flex-wrap:wrap;\n",
              "      gap: 12px;\n",
              "    }\n",
              "\n",
              "    .colab-df-convert {\n",
              "      background-color: #E8F0FE;\n",
              "      border: none;\n",
              "      border-radius: 50%;\n",
              "      cursor: pointer;\n",
              "      display: none;\n",
              "      fill: #1967D2;\n",
              "      height: 32px;\n",
              "      padding: 0 0 0 0;\n",
              "      width: 32px;\n",
              "    }\n",
              "\n",
              "    .colab-df-convert:hover {\n",
              "      background-color: #E2EBFA;\n",
              "      box-shadow: 0px 1px 2px rgba(60, 64, 67, 0.3), 0px 1px 3px 1px rgba(60, 64, 67, 0.15);\n",
              "      fill: #174EA6;\n",
              "    }\n",
              "\n",
              "    [theme=dark] .colab-df-convert {\n",
              "      background-color: #3B4455;\n",
              "      fill: #D2E3FC;\n",
              "    }\n",
              "\n",
              "    [theme=dark] .colab-df-convert:hover {\n",
              "      background-color: #434B5C;\n",
              "      box-shadow: 0px 1px 3px 1px rgba(0, 0, 0, 0.15);\n",
              "      filter: drop-shadow(0px 1px 2px rgba(0, 0, 0, 0.3));\n",
              "      fill: #FFFFFF;\n",
              "    }\n",
              "  </style>\n",
              "\n",
              "      <script>\n",
              "        const buttonEl =\n",
              "          document.querySelector('#df-f67a0897-c9f1-40d9-ae55-0e5a579db86e button.colab-df-convert');\n",
              "        buttonEl.style.display =\n",
              "          google.colab.kernel.accessAllowed ? 'block' : 'none';\n",
              "\n",
              "        async function convertToInteractive(key) {\n",
              "          const element = document.querySelector('#df-f67a0897-c9f1-40d9-ae55-0e5a579db86e');\n",
              "          const dataTable =\n",
              "            await google.colab.kernel.invokeFunction('convertToInteractive',\n",
              "                                                     [key], {});\n",
              "          if (!dataTable) return;\n",
              "\n",
              "          const docLinkHtml = 'Like what you see? Visit the ' +\n",
              "            '<a target=\"_blank\" href=https://colab.research.google.com/notebooks/data_table.ipynb>data table notebook</a>'\n",
              "            + ' to learn more about interactive tables.';\n",
              "          element.innerHTML = '';\n",
              "          dataTable['output_type'] = 'display_data';\n",
              "          await google.colab.output.renderOutput(dataTable, element);\n",
              "          const docLink = document.createElement('div');\n",
              "          docLink.innerHTML = docLinkHtml;\n",
              "          element.appendChild(docLink);\n",
              "        }\n",
              "      </script>\n",
              "    </div>\n",
              "  </div>\n",
              "  "
            ],
            "text/plain": [
              "   Age Occupation  Annual_Income  Monthly_Inhand_Salary  Num_Bank_Accounts  \\\n",
              "3   23  Scientist       19114.12            4397.643495                  3   \n",
              "4   23  Scientist       19114.12            1824.843333                  3   \n",
              "6   23  Scientist       19114.12            1824.843333                  3   \n",
              "\n",
              "   Num_Credit_Card  Interest_Rate  Num_of_Loan  Delay_from_due_date  \\\n",
              "3                4              3            4                    5   \n",
              "4                4              3            4                    6   \n",
              "6                4              3            4                    3   \n",
              "\n",
              "   Num_of_Delayed_Payment  ...  Credit_Mix  Outstanding_Debt  \\\n",
              "3                4.000000  ...        Good            809.98   \n",
              "4               30.761436  ...        Good            809.98   \n",
              "6                8.000000  ...        Good            809.98   \n",
              "\n",
              "  Credit_Utilization_Ratio  Credit_History_Age  Payment_of_Min_Amount  \\\n",
              "3                31.377862               268.0                     No   \n",
              "4                24.797347               269.0                     No   \n",
              "6                22.537593               271.0                     No   \n",
              "\n",
              "   Total_EMI_per_month Amount_invested_monthly  \\\n",
              "3            49.574949              199.458074   \n",
              "4            49.574949               41.420153   \n",
              "6            49.574949              178.344067   \n",
              "\n",
              "                  Payment_Behaviour  Monthly_Balance Credit_Score  \n",
              "3    Low_spent_Small_value_payments       223.451310         Good  \n",
              "4  High_spent_Medium_value_payments       341.489231         Good  \n",
              "6    Low_spent_Small_value_payments       244.565317         Good  \n",
              "\n",
              "[3 rows x 22 columns]"
            ]
          },
          "execution_count": 46,
          "metadata": {},
          "output_type": "execute_result"
        }
      ],
      "source": [
        "credit_df.head(3)"
      ]
    },
    {
      "cell_type": "code",
      "execution_count": null,
      "metadata": {
        "colab": {
          "base_uri": "https://localhost:8080/"
        },
        "id": "cRUs3oWob84v",
        "outputId": "f61e0f58-8256-4cab-e634-4debc4d71b54"
      },
      "outputs": [
        {
          "data": {
            "text/plain": [
              "array(['Good', 'Standard', 'Poor'], dtype=object)"
            ]
          },
          "execution_count": 47,
          "metadata": {},
          "output_type": "execute_result"
        }
      ],
      "source": [
        "# Analizando los posibles valores de la variable categorica Credit Score\n",
        "puntaje_crediticio = pd.unique(credit_df['Credit_Score'])\n",
        "puntaje_crediticio"
      ]
    },
    {
      "cell_type": "code",
      "execution_count": null,
      "metadata": {
        "id": "bhUZ-TyXdAui"
      },
      "outputs": [],
      "source": [
        "# Transformando la variable categorica Credit Score\n",
        "len(puntaje_crediticio)\n",
        "puntaje_crediticio_num = np.arange(len(puntaje_crediticio))\n",
        "credit_df['Credit_Score'] = credit_df['Credit_Score'].replace(puntaje_crediticio,puntaje_crediticio_num)"
      ]
    },
    {
      "cell_type": "code",
      "execution_count": null,
      "metadata": {
        "colab": {
          "base_uri": "https://localhost:8080/"
        },
        "id": "m71CEsVkduMc",
        "outputId": "8912ed4e-a0c9-485c-e3f4-98c677aad4df"
      },
      "outputs": [
        {
          "data": {
            "text/plain": [
              "3"
            ]
          },
          "execution_count": 49,
          "metadata": {},
          "output_type": "execute_result"
        }
      ],
      "source": [
        "len(puntaje_crediticio)"
      ]
    },
    {
      "cell_type": "code",
      "execution_count": null,
      "metadata": {
        "colab": {
          "base_uri": "https://localhost:8080/"
        },
        "id": "nfaCK8UudzJ3",
        "outputId": "7d2a8ac8-15ec-4bea-8619-0dc95046c11b"
      },
      "outputs": [
        {
          "data": {
            "text/plain": [
              "array([0, 1, 2])"
            ]
          },
          "execution_count": 50,
          "metadata": {},
          "output_type": "execute_result"
        }
      ],
      "source": [
        "puntaje_crediticio_num = np.arange(len(puntaje_crediticio))\n",
        "puntaje_crediticio_num"
      ]
    },
    {
      "cell_type": "code",
      "execution_count": null,
      "metadata": {
        "colab": {
          "base_uri": "https://localhost:8080/"
        },
        "id": "loDgJreheYcz",
        "outputId": "32d9350e-0f53-47da-fb6b-4e4fa84e858f"
      },
      "outputs": [
        {
          "data": {
            "text/plain": [
              "3        0\n",
              "4        0\n",
              "6        0\n",
              "7        1\n",
              "9        0\n",
              "        ..\n",
              "99984    2\n",
              "99986    2\n",
              "99990    1\n",
              "99991    1\n",
              "99998    1\n",
              "Name: Credit_Score, Length: 47641, dtype: int64"
            ]
          },
          "execution_count": 51,
          "metadata": {},
          "output_type": "execute_result"
        }
      ],
      "source": [
        "credit_df.Credit_Score"
      ]
    },
    {
      "cell_type": "code",
      "execution_count": null,
      "metadata": {
        "colab": {
          "base_uri": "https://localhost:8080/"
        },
        "id": "Kosqt423aw1j",
        "outputId": "23711f15-dcbe-478e-cbb1-dec7dfa7dd4e"
      },
      "outputs": [
        {
          "data": {
            "text/plain": [
              "array(['Scientist', 'Teacher', 'Engineer', 'Entrepreneur', 'Developer',\n",
              "       'Lawyer', 'Media_Manager', 'Doctor', 'Journalist', 'Manager',\n",
              "       'Accountant', 'Musician', 'Writer', 'Architect', 'Mechanic'],\n",
              "      dtype=object)"
            ]
          },
          "execution_count": 52,
          "metadata": {},
          "output_type": "execute_result"
        }
      ],
      "source": [
        "# Analizando los posibles valores de la variable categorica Occupation\n",
        "ocupacion = pd.unique(credit_df['Occupation'])\n",
        "ocupacion"
      ]
    },
    {
      "cell_type": "code",
      "execution_count": null,
      "metadata": {
        "id": "d_uznR_ValHm"
      },
      "outputs": [],
      "source": [
        "# Transformando la variable categorica Occupation\n",
        "len(ocupacion)\n",
        "ocupacion_num = np.arange(len(ocupacion))\n",
        "credit_df['Occupation'] = credit_df['Occupation'].replace(ocupacion,ocupacion_num)"
      ]
    },
    {
      "cell_type": "code",
      "execution_count": null,
      "metadata": {
        "colab": {
          "base_uri": "https://localhost:8080/"
        },
        "id": "QzcAZ7s5bvJ0",
        "outputId": "6a7e37b9-c212-48c4-8070-6d860a98b46d"
      },
      "outputs": [
        {
          "data": {
            "text/plain": [
              "3         0\n",
              "4         0\n",
              "6         0\n",
              "7         0\n",
              "9         1\n",
              "         ..\n",
              "99984    13\n",
              "99986    13\n",
              "99990    13\n",
              "99991    13\n",
              "99998    14\n",
              "Name: Occupation, Length: 47641, dtype: int64"
            ]
          },
          "execution_count": 54,
          "metadata": {},
          "output_type": "execute_result"
        }
      ],
      "source": [
        "credit_df.Occupation"
      ]
    },
    {
      "cell_type": "code",
      "execution_count": null,
      "metadata": {
        "colab": {
          "base_uri": "https://localhost:8080/"
        },
        "id": "KVhbLe86b5VP",
        "outputId": "18c4835d-7edb-4a13-9154-389d8eaf6fa8"
      },
      "outputs": [
        {
          "data": {
            "text/plain": [
              "array(['Good', 'Standard', 'Bad'], dtype=object)"
            ]
          },
          "execution_count": 55,
          "metadata": {},
          "output_type": "execute_result"
        }
      ],
      "source": [
        "# Analizando los posibles valores de la variable categorica Credit_Mix\n",
        "credito_mixto = pd.unique(credit_df['Credit_Mix'])\n",
        "credito_mixto"
      ]
    },
    {
      "cell_type": "code",
      "execution_count": null,
      "metadata": {
        "id": "wlKO8U6vcQyj"
      },
      "outputs": [],
      "source": [
        "# Transformando la variable categorica Credit_Mix\n",
        "len(credito_mixto)\n",
        "credito_mixto_num = np.arange(len(credito_mixto))\n",
        "credit_df['Credit_Mix'] = credit_df['Credit_Mix'].replace(credito_mixto,credito_mixto_num)"
      ]
    },
    {
      "cell_type": "code",
      "execution_count": null,
      "metadata": {
        "colab": {
          "base_uri": "https://localhost:8080/"
        },
        "id": "Ep3Llq3jcuSE",
        "outputId": "2138a74f-b021-418b-85f2-d9e59000d5fd"
      },
      "outputs": [
        {
          "data": {
            "text/plain": [
              "3        0\n",
              "4        0\n",
              "6        0\n",
              "7        0\n",
              "9        0\n",
              "        ..\n",
              "99984    2\n",
              "99986    2\n",
              "99990    2\n",
              "99991    2\n",
              "99998    0\n",
              "Name: Credit_Mix, Length: 47641, dtype: int64"
            ]
          },
          "execution_count": 57,
          "metadata": {},
          "output_type": "execute_result"
        }
      ],
      "source": [
        "credit_df.Credit_Mix"
      ]
    },
    {
      "cell_type": "code",
      "execution_count": null,
      "metadata": {
        "colab": {
          "base_uri": "https://localhost:8080/"
        },
        "id": "KrhU2HX1c2g3",
        "outputId": "df4d361c-2ff7-46ce-ccb3-6f4f39a0bacd"
      },
      "outputs": [
        {
          "data": {
            "text/plain": [
              "3        268.000000\n",
              "4        269.000000\n",
              "6        271.000000\n",
              "7        234.019205\n",
              "9        320.000000\n",
              "            ...    \n",
              "99984     68.000000\n",
              "99986     70.000000\n",
              "99990    234.019205\n",
              "99991     75.000000\n",
              "99998    381.000000\n",
              "Name: Credit_History_Age, Length: 47641, dtype: float64"
            ]
          },
          "execution_count": 58,
          "metadata": {},
          "output_type": "execute_result"
        }
      ],
      "source": [
        "credit_df.Credit_History_Age"
      ]
    },
    {
      "cell_type": "code",
      "execution_count": null,
      "metadata": {
        "colab": {
          "base_uri": "https://localhost:8080/"
        },
        "id": "g2BuxEI5c9gm",
        "outputId": "ec437dc2-bbe8-402a-8831-4037bd293b1f"
      },
      "outputs": [
        {
          "data": {
            "text/plain": [
              "array(['No', 'NM', 'Yes'], dtype=object)"
            ]
          },
          "execution_count": 59,
          "metadata": {},
          "output_type": "execute_result"
        }
      ],
      "source": [
        "# Analizando los posibles valores de la variable categorica Payment_of_Min_Amount\n",
        "pago_minimo = pd.unique(credit_df['Payment_of_Min_Amount'])\n",
        "pago_minimo"
      ]
    },
    {
      "cell_type": "code",
      "execution_count": null,
      "metadata": {
        "id": "k03ZkhkSdfXM"
      },
      "outputs": [],
      "source": [
        "# Transformando la variable categorica Payment_of_Min_Amount\n",
        "len(pago_minimo)\n",
        "pago_minimo_num = np.arange(len(pago_minimo))\n",
        "credit_df['Payment_of_Min_Amount'] = credit_df['Payment_of_Min_Amount'].replace(pago_minimo,pago_minimo_num)"
      ]
    },
    {
      "cell_type": "code",
      "execution_count": null,
      "metadata": {
        "colab": {
          "base_uri": "https://localhost:8080/"
        },
        "id": "5nNkrStSdzKO",
        "outputId": "fbc26adc-24c7-49a2-8f53-0c4e5bf22bbe"
      },
      "outputs": [
        {
          "data": {
            "text/plain": [
              "3        0\n",
              "4        0\n",
              "6        0\n",
              "7        0\n",
              "9        0\n",
              "        ..\n",
              "99984    2\n",
              "99986    2\n",
              "99990    2\n",
              "99991    2\n",
              "99998    0\n",
              "Name: Payment_of_Min_Amount, Length: 47641, dtype: int64"
            ]
          },
          "execution_count": 61,
          "metadata": {},
          "output_type": "execute_result"
        }
      ],
      "source": [
        "credit_df.Payment_of_Min_Amount"
      ]
    },
    {
      "cell_type": "code",
      "execution_count": null,
      "metadata": {
        "colab": {
          "base_uri": "https://localhost:8080/"
        },
        "id": "JwfBxN47hQUC",
        "outputId": "c656c342-1387-48d6-e5cd-3d4dfc0e496e"
      },
      "outputs": [
        {
          "data": {
            "text/plain": [
              "array(['Low_spent_Small_value_payments',\n",
              "       'High_spent_Medium_value_payments',\n",
              "       'High_spent_Large_value_payments',\n",
              "       'Low_spent_Medium_value_payments',\n",
              "       'High_spent_Small_value_payments',\n",
              "       'Low_spent_Large_value_payments'], dtype=object)"
            ]
          },
          "execution_count": 62,
          "metadata": {},
          "output_type": "execute_result"
        }
      ],
      "source": [
        "# Analizando los posibles valores de la variable categorica Payment_Behaviour\n",
        "comportamiento_pago = pd.unique(credit_df['Payment_Behaviour'])\n",
        "comportamiento_pago"
      ]
    },
    {
      "cell_type": "code",
      "execution_count": null,
      "metadata": {
        "id": "JVdopgiGh2tp"
      },
      "outputs": [],
      "source": [
        "# Transformando la variable categorica Payment_Behaviour\n",
        "len(comportamiento_pago)\n",
        "comportamiento_pago_num = np.arange(len(comportamiento_pago))\n",
        "credit_df['Payment_Behaviour'] = credit_df['Payment_Behaviour'].replace(comportamiento_pago,comportamiento_pago_num)"
      ]
    },
    {
      "cell_type": "code",
      "execution_count": null,
      "metadata": {
        "colab": {
          "base_uri": "https://localhost:8080/"
        },
        "id": "WeRVN9tliPnq",
        "outputId": "849b1717-d1c3-40c4-ef8e-a316e101dbf1"
      },
      "outputs": [
        {
          "data": {
            "text/plain": [
              "3        0\n",
              "4        1\n",
              "6        0\n",
              "7        1\n",
              "9        2\n",
              "        ..\n",
              "99984    2\n",
              "99986    0\n",
              "99990    5\n",
              "99991    2\n",
              "99998    5\n",
              "Name: Payment_Behaviour, Length: 47641, dtype: int64"
            ]
          },
          "execution_count": 64,
          "metadata": {},
          "output_type": "execute_result"
        }
      ],
      "source": [
        "credit_df.Payment_Behaviour"
      ]
    },
    {
      "cell_type": "markdown",
      "metadata": {
        "id": "KFmlmHTHWRk0"
      },
      "source": [
        "**Se obtiene la correlación en dataframe y de manera grafica** "
      ]
    },
    {
      "cell_type": "code",
      "execution_count": null,
      "metadata": {
        "colab": {
          "base_uri": "https://localhost:8080/",
          "height": 833
        },
        "id": "XiWZb0wwWXlv",
        "outputId": "8fca1e57-5c78-4b1c-b3b6-b4aae96f036f"
      },
      "outputs": [
        {
          "data": {
            "text/html": [
              "\n",
              "  <div id=\"df-e678047c-805d-4bb4-95a4-beb97d5c210a\">\n",
              "    <div class=\"colab-df-container\">\n",
              "      <div>\n",
              "<style scoped>\n",
              "    .dataframe tbody tr th:only-of-type {\n",
              "        vertical-align: middle;\n",
              "    }\n",
              "\n",
              "    .dataframe tbody tr th {\n",
              "        vertical-align: top;\n",
              "    }\n",
              "\n",
              "    .dataframe thead th {\n",
              "        text-align: right;\n",
              "    }\n",
              "</style>\n",
              "<table border=\"1\" class=\"dataframe\">\n",
              "  <thead>\n",
              "    <tr style=\"text-align: right;\">\n",
              "      <th></th>\n",
              "      <th>Age</th>\n",
              "      <th>Occupation</th>\n",
              "      <th>Annual_Income</th>\n",
              "      <th>Monthly_Inhand_Salary</th>\n",
              "      <th>Num_Bank_Accounts</th>\n",
              "      <th>Num_Credit_Card</th>\n",
              "      <th>Interest_Rate</th>\n",
              "      <th>Num_of_Loan</th>\n",
              "      <th>Delay_from_due_date</th>\n",
              "      <th>Num_of_Delayed_Payment</th>\n",
              "      <th>...</th>\n",
              "      <th>Credit_Mix</th>\n",
              "      <th>Outstanding_Debt</th>\n",
              "      <th>Credit_Utilization_Ratio</th>\n",
              "      <th>Credit_History_Age</th>\n",
              "      <th>Payment_of_Min_Amount</th>\n",
              "      <th>Total_EMI_per_month</th>\n",
              "      <th>Amount_invested_monthly</th>\n",
              "      <th>Payment_Behaviour</th>\n",
              "      <th>Monthly_Balance</th>\n",
              "      <th>Credit_Score</th>\n",
              "    </tr>\n",
              "  </thead>\n",
              "  <tbody>\n",
              "    <tr>\n",
              "      <th>Age</th>\n",
              "      <td>1.000000</td>\n",
              "      <td>0.017472</td>\n",
              "      <td>0.077421</td>\n",
              "      <td>0.070689</td>\n",
              "      <td>-0.174633</td>\n",
              "      <td>-0.128380</td>\n",
              "      <td>-0.048609</td>\n",
              "      <td>-0.199572</td>\n",
              "      <td>-0.161001</td>\n",
              "      <td>0.001430</td>\n",
              "      <td>...</td>\n",
              "      <td>-0.227914</td>\n",
              "      <td>-0.186554</td>\n",
              "      <td>0.022017</td>\n",
              "      <td>0.212469</td>\n",
              "      <td>-0.237032</td>\n",
              "      <td>-0.012536</td>\n",
              "      <td>0.000302</td>\n",
              "      <td>0.016842</td>\n",
              "      <td>0.098990</td>\n",
              "      <td>-0.143859</td>\n",
              "    </tr>\n",
              "    <tr>\n",
              "      <th>Occupation</th>\n",
              "      <td>0.017472</td>\n",
              "      <td>1.000000</td>\n",
              "      <td>0.008395</td>\n",
              "      <td>0.009021</td>\n",
              "      <td>0.003832</td>\n",
              "      <td>-0.019452</td>\n",
              "      <td>-0.005524</td>\n",
              "      <td>-0.014099</td>\n",
              "      <td>-0.016897</td>\n",
              "      <td>0.002627</td>\n",
              "      <td>...</td>\n",
              "      <td>-0.002870</td>\n",
              "      <td>-0.011665</td>\n",
              "      <td>-0.000178</td>\n",
              "      <td>0.022075</td>\n",
              "      <td>-0.007420</td>\n",
              "      <td>-0.003027</td>\n",
              "      <td>-0.003046</td>\n",
              "      <td>-0.000565</td>\n",
              "      <td>0.009570</td>\n",
              "      <td>-0.000725</td>\n",
              "    </tr>\n",
              "    <tr>\n",
              "      <th>Annual_Income</th>\n",
              "      <td>0.077421</td>\n",
              "      <td>0.008395</td>\n",
              "      <td>1.000000</td>\n",
              "      <td>0.889777</td>\n",
              "      <td>-0.243772</td>\n",
              "      <td>-0.178814</td>\n",
              "      <td>-0.051385</td>\n",
              "      <td>-0.222313</td>\n",
              "      <td>-0.221270</td>\n",
              "      <td>0.000266</td>\n",
              "      <td>...</td>\n",
              "      <td>-0.307185</td>\n",
              "      <td>-0.236038</td>\n",
              "      <td>0.172793</td>\n",
              "      <td>0.225046</td>\n",
              "      <td>-0.252509</td>\n",
              "      <td>0.143283</td>\n",
              "      <td>0.065022</td>\n",
              "      <td>0.104462</td>\n",
              "      <td>0.673648</td>\n",
              "      <td>-0.175294</td>\n",
              "    </tr>\n",
              "    <tr>\n",
              "      <th>Monthly_Inhand_Salary</th>\n",
              "      <td>0.070689</td>\n",
              "      <td>0.009021</td>\n",
              "      <td>0.889777</td>\n",
              "      <td>1.000000</td>\n",
              "      <td>-0.227892</td>\n",
              "      <td>-0.168774</td>\n",
              "      <td>-0.050698</td>\n",
              "      <td>-0.210635</td>\n",
              "      <td>-0.208615</td>\n",
              "      <td>0.000543</td>\n",
              "      <td>...</td>\n",
              "      <td>-0.288129</td>\n",
              "      <td>-0.224655</td>\n",
              "      <td>0.161488</td>\n",
              "      <td>0.212462</td>\n",
              "      <td>-0.237101</td>\n",
              "      <td>0.132695</td>\n",
              "      <td>0.060971</td>\n",
              "      <td>0.098123</td>\n",
              "      <td>0.639053</td>\n",
              "      <td>-0.161099</td>\n",
              "    </tr>\n",
              "    <tr>\n",
              "      <th>Num_Bank_Accounts</th>\n",
              "      <td>-0.174633</td>\n",
              "      <td>0.003832</td>\n",
              "      <td>-0.243772</td>\n",
              "      <td>-0.227892</td>\n",
              "      <td>1.000000</td>\n",
              "      <td>0.399006</td>\n",
              "      <td>0.119975</td>\n",
              "      <td>0.423321</td>\n",
              "      <td>0.523607</td>\n",
              "      <td>0.015812</td>\n",
              "      <td>...</td>\n",
              "      <td>0.700847</td>\n",
              "      <td>0.459810</td>\n",
              "      <td>-0.067901</td>\n",
              "      <td>-0.410633</td>\n",
              "      <td>0.511648</td>\n",
              "      <td>0.024746</td>\n",
              "      <td>-0.020053</td>\n",
              "      <td>-0.032467</td>\n",
              "      <td>-0.255965</td>\n",
              "      <td>0.341630</td>\n",
              "    </tr>\n",
              "    <tr>\n",
              "      <th>Num_Credit_Card</th>\n",
              "      <td>-0.128380</td>\n",
              "      <td>-0.019452</td>\n",
              "      <td>-0.178814</td>\n",
              "      <td>-0.168774</td>\n",
              "      <td>0.399006</td>\n",
              "      <td>1.000000</td>\n",
              "      <td>0.100967</td>\n",
              "      <td>0.375819</td>\n",
              "      <td>0.443875</td>\n",
              "      <td>0.008211</td>\n",
              "      <td>...</td>\n",
              "      <td>0.502133</td>\n",
              "      <td>0.449126</td>\n",
              "      <td>-0.056716</td>\n",
              "      <td>-0.349722</td>\n",
              "      <td>0.339123</td>\n",
              "      <td>0.024525</td>\n",
              "      <td>-0.013306</td>\n",
              "      <td>-0.023744</td>\n",
              "      <td>-0.194760</td>\n",
              "      <td>0.373759</td>\n",
              "    </tr>\n",
              "    <tr>\n",
              "      <th>Interest_Rate</th>\n",
              "      <td>-0.048609</td>\n",
              "      <td>-0.005524</td>\n",
              "      <td>-0.051385</td>\n",
              "      <td>-0.050698</td>\n",
              "      <td>0.119975</td>\n",
              "      <td>0.100967</td>\n",
              "      <td>1.000000</td>\n",
              "      <td>0.120907</td>\n",
              "      <td>0.126331</td>\n",
              "      <td>0.003134</td>\n",
              "      <td>...</td>\n",
              "      <td>0.163464</td>\n",
              "      <td>0.138848</td>\n",
              "      <td>-0.022309</td>\n",
              "      <td>-0.116121</td>\n",
              "      <td>0.127645</td>\n",
              "      <td>0.010751</td>\n",
              "      <td>-0.001528</td>\n",
              "      <td>-0.012359</td>\n",
              "      <td>-0.067503</td>\n",
              "      <td>0.102213</td>\n",
              "    </tr>\n",
              "    <tr>\n",
              "      <th>Num_of_Loan</th>\n",
              "      <td>-0.199572</td>\n",
              "      <td>-0.014099</td>\n",
              "      <td>-0.222313</td>\n",
              "      <td>-0.210635</td>\n",
              "      <td>0.423321</td>\n",
              "      <td>0.375819</td>\n",
              "      <td>0.120907</td>\n",
              "      <td>1.000000</td>\n",
              "      <td>0.471990</td>\n",
              "      <td>0.009039</td>\n",
              "      <td>...</td>\n",
              "      <td>0.592271</td>\n",
              "      <td>0.602622</td>\n",
              "      <td>-0.100460</td>\n",
              "      <td>-0.547739</td>\n",
              "      <td>0.451913</td>\n",
              "      <td>0.124444</td>\n",
              "      <td>-0.012664</td>\n",
              "      <td>-0.026157</td>\n",
              "      <td>-0.405199</td>\n",
              "      <td>0.324623</td>\n",
              "    </tr>\n",
              "    <tr>\n",
              "      <th>Delay_from_due_date</th>\n",
              "      <td>-0.161001</td>\n",
              "      <td>-0.016897</td>\n",
              "      <td>-0.221270</td>\n",
              "      <td>-0.208615</td>\n",
              "      <td>0.523607</td>\n",
              "      <td>0.443875</td>\n",
              "      <td>0.126331</td>\n",
              "      <td>0.471990</td>\n",
              "      <td>1.000000</td>\n",
              "      <td>0.014053</td>\n",
              "      <td>...</td>\n",
              "      <td>0.666657</td>\n",
              "      <td>0.552161</td>\n",
              "      <td>-0.066897</td>\n",
              "      <td>-0.430699</td>\n",
              "      <td>0.445705</td>\n",
              "      <td>0.028047</td>\n",
              "      <td>-0.008417</td>\n",
              "      <td>-0.036184</td>\n",
              "      <td>-0.246085</td>\n",
              "      <td>0.411231</td>\n",
              "    </tr>\n",
              "    <tr>\n",
              "      <th>Num_of_Delayed_Payment</th>\n",
              "      <td>0.001430</td>\n",
              "      <td>0.002627</td>\n",
              "      <td>0.000266</td>\n",
              "      <td>0.000543</td>\n",
              "      <td>0.015812</td>\n",
              "      <td>0.008211</td>\n",
              "      <td>0.003134</td>\n",
              "      <td>0.009039</td>\n",
              "      <td>0.014053</td>\n",
              "      <td>1.000000</td>\n",
              "      <td>...</td>\n",
              "      <td>0.018123</td>\n",
              "      <td>0.008326</td>\n",
              "      <td>0.000739</td>\n",
              "      <td>-0.008983</td>\n",
              "      <td>0.013667</td>\n",
              "      <td>0.002644</td>\n",
              "      <td>-0.000756</td>\n",
              "      <td>-0.002638</td>\n",
              "      <td>-0.003286</td>\n",
              "      <td>0.015527</td>\n",
              "    </tr>\n",
              "    <tr>\n",
              "      <th>Changed_Credit_Limit</th>\n",
              "      <td>-0.160607</td>\n",
              "      <td>-0.011080</td>\n",
              "      <td>-0.164600</td>\n",
              "      <td>-0.156129</td>\n",
              "      <td>0.337943</td>\n",
              "      <td>0.238576</td>\n",
              "      <td>0.083519</td>\n",
              "      <td>0.371999</td>\n",
              "      <td>0.306186</td>\n",
              "      <td>0.005083</td>\n",
              "      <td>...</td>\n",
              "      <td>0.454087</td>\n",
              "      <td>0.440900</td>\n",
              "      <td>-0.051202</td>\n",
              "      <td>-0.396956</td>\n",
              "      <td>0.498601</td>\n",
              "      <td>0.018199</td>\n",
              "      <td>-0.011560</td>\n",
              "      <td>-0.025593</td>\n",
              "      <td>-0.196439</td>\n",
              "      <td>0.182772</td>\n",
              "    </tr>\n",
              "    <tr>\n",
              "      <th>Num_Credit_Inquiries</th>\n",
              "      <td>-0.234963</td>\n",
              "      <td>-0.020475</td>\n",
              "      <td>-0.227035</td>\n",
              "      <td>-0.211660</td>\n",
              "      <td>0.437724</td>\n",
              "      <td>0.362332</td>\n",
              "      <td>0.120967</td>\n",
              "      <td>0.505972</td>\n",
              "      <td>0.457156</td>\n",
              "      <td>0.003679</td>\n",
              "      <td>...</td>\n",
              "      <td>0.588846</td>\n",
              "      <td>0.516044</td>\n",
              "      <td>-0.070599</td>\n",
              "      <td>-0.527981</td>\n",
              "      <td>0.553389</td>\n",
              "      <td>0.040484</td>\n",
              "      <td>-0.015467</td>\n",
              "      <td>-0.030171</td>\n",
              "      <td>-0.265321</td>\n",
              "      <td>0.361610</td>\n",
              "    </tr>\n",
              "    <tr>\n",
              "      <th>Credit_Mix</th>\n",
              "      <td>-0.227914</td>\n",
              "      <td>-0.002870</td>\n",
              "      <td>-0.307185</td>\n",
              "      <td>-0.288129</td>\n",
              "      <td>0.700847</td>\n",
              "      <td>0.502133</td>\n",
              "      <td>0.163464</td>\n",
              "      <td>0.592271</td>\n",
              "      <td>0.666657</td>\n",
              "      <td>0.018123</td>\n",
              "      <td>...</td>\n",
              "      <td>1.000000</td>\n",
              "      <td>0.646882</td>\n",
              "      <td>-0.091219</td>\n",
              "      <td>-0.570163</td>\n",
              "      <td>0.709503</td>\n",
              "      <td>0.030013</td>\n",
              "      <td>-0.020560</td>\n",
              "      <td>-0.041332</td>\n",
              "      <td>-0.335495</td>\n",
              "      <td>0.471040</td>\n",
              "    </tr>\n",
              "    <tr>\n",
              "      <th>Outstanding_Debt</th>\n",
              "      <td>-0.186554</td>\n",
              "      <td>-0.011665</td>\n",
              "      <td>-0.236038</td>\n",
              "      <td>-0.224655</td>\n",
              "      <td>0.459810</td>\n",
              "      <td>0.449126</td>\n",
              "      <td>0.138848</td>\n",
              "      <td>0.602622</td>\n",
              "      <td>0.552161</td>\n",
              "      <td>0.008326</td>\n",
              "      <td>...</td>\n",
              "      <td>0.646882</td>\n",
              "      <td>1.000000</td>\n",
              "      <td>-0.067531</td>\n",
              "      <td>-0.562606</td>\n",
              "      <td>0.424881</td>\n",
              "      <td>0.039178</td>\n",
              "      <td>-0.016150</td>\n",
              "      <td>-0.036121</td>\n",
              "      <td>-0.278674</td>\n",
              "      <td>0.364987</td>\n",
              "    </tr>\n",
              "    <tr>\n",
              "      <th>Credit_Utilization_Ratio</th>\n",
              "      <td>0.022017</td>\n",
              "      <td>-0.000178</td>\n",
              "      <td>0.172793</td>\n",
              "      <td>0.161488</td>\n",
              "      <td>-0.067901</td>\n",
              "      <td>-0.056716</td>\n",
              "      <td>-0.022309</td>\n",
              "      <td>-0.100460</td>\n",
              "      <td>-0.066897</td>\n",
              "      <td>0.000739</td>\n",
              "      <td>...</td>\n",
              "      <td>-0.091219</td>\n",
              "      <td>-0.067531</td>\n",
              "      <td>1.000000</td>\n",
              "      <td>0.061129</td>\n",
              "      <td>-0.072791</td>\n",
              "      <td>0.013610</td>\n",
              "      <td>0.003870</td>\n",
              "      <td>0.007679</td>\n",
              "      <td>0.254864</td>\n",
              "      <td>-0.043984</td>\n",
              "    </tr>\n",
              "    <tr>\n",
              "      <th>Credit_History_Age</th>\n",
              "      <td>0.212469</td>\n",
              "      <td>0.022075</td>\n",
              "      <td>0.225046</td>\n",
              "      <td>0.212462</td>\n",
              "      <td>-0.410633</td>\n",
              "      <td>-0.349722</td>\n",
              "      <td>-0.116121</td>\n",
              "      <td>-0.547739</td>\n",
              "      <td>-0.430699</td>\n",
              "      <td>-0.008983</td>\n",
              "      <td>...</td>\n",
              "      <td>-0.570163</td>\n",
              "      <td>-0.562606</td>\n",
              "      <td>0.061129</td>\n",
              "      <td>1.000000</td>\n",
              "      <td>-0.494832</td>\n",
              "      <td>-0.042440</td>\n",
              "      <td>0.013600</td>\n",
              "      <td>0.030869</td>\n",
              "      <td>0.272987</td>\n",
              "      <td>-0.337940</td>\n",
              "    </tr>\n",
              "    <tr>\n",
              "      <th>Payment_of_Min_Amount</th>\n",
              "      <td>-0.237032</td>\n",
              "      <td>-0.007420</td>\n",
              "      <td>-0.252509</td>\n",
              "      <td>-0.237101</td>\n",
              "      <td>0.511648</td>\n",
              "      <td>0.339123</td>\n",
              "      <td>0.127645</td>\n",
              "      <td>0.451913</td>\n",
              "      <td>0.445705</td>\n",
              "      <td>0.013667</td>\n",
              "      <td>...</td>\n",
              "      <td>0.709503</td>\n",
              "      <td>0.424881</td>\n",
              "      <td>-0.072791</td>\n",
              "      <td>-0.494832</td>\n",
              "      <td>1.000000</td>\n",
              "      <td>0.019117</td>\n",
              "      <td>-0.015265</td>\n",
              "      <td>-0.034546</td>\n",
              "      <td>-0.277827</td>\n",
              "      <td>0.374105</td>\n",
              "    </tr>\n",
              "    <tr>\n",
              "      <th>Total_EMI_per_month</th>\n",
              "      <td>-0.012536</td>\n",
              "      <td>-0.003027</td>\n",
              "      <td>0.143283</td>\n",
              "      <td>0.132695</td>\n",
              "      <td>0.024746</td>\n",
              "      <td>0.024525</td>\n",
              "      <td>0.010751</td>\n",
              "      <td>0.124444</td>\n",
              "      <td>0.028047</td>\n",
              "      <td>0.002644</td>\n",
              "      <td>...</td>\n",
              "      <td>0.030013</td>\n",
              "      <td>0.039178</td>\n",
              "      <td>0.013610</td>\n",
              "      <td>-0.042440</td>\n",
              "      <td>0.019117</td>\n",
              "      <td>1.000000</td>\n",
              "      <td>0.010583</td>\n",
              "      <td>0.012247</td>\n",
              "      <td>0.030368</td>\n",
              "      <td>-0.003539</td>\n",
              "    </tr>\n",
              "    <tr>\n",
              "      <th>Amount_invested_monthly</th>\n",
              "      <td>0.000302</td>\n",
              "      <td>-0.003046</td>\n",
              "      <td>0.065022</td>\n",
              "      <td>0.060971</td>\n",
              "      <td>-0.020053</td>\n",
              "      <td>-0.013306</td>\n",
              "      <td>-0.001528</td>\n",
              "      <td>-0.012664</td>\n",
              "      <td>-0.008417</td>\n",
              "      <td>-0.000756</td>\n",
              "      <td>...</td>\n",
              "      <td>-0.020560</td>\n",
              "      <td>-0.016150</td>\n",
              "      <td>0.003870</td>\n",
              "      <td>0.013600</td>\n",
              "      <td>-0.015265</td>\n",
              "      <td>0.010583</td>\n",
              "      <td>1.000000</td>\n",
              "      <td>0.005333</td>\n",
              "      <td>0.001182</td>\n",
              "      <td>-0.011108</td>\n",
              "    </tr>\n",
              "    <tr>\n",
              "      <th>Payment_Behaviour</th>\n",
              "      <td>0.016842</td>\n",
              "      <td>-0.000565</td>\n",
              "      <td>0.104462</td>\n",
              "      <td>0.098123</td>\n",
              "      <td>-0.032467</td>\n",
              "      <td>-0.023744</td>\n",
              "      <td>-0.012359</td>\n",
              "      <td>-0.026157</td>\n",
              "      <td>-0.036184</td>\n",
              "      <td>-0.002638</td>\n",
              "      <td>...</td>\n",
              "      <td>-0.041332</td>\n",
              "      <td>-0.036121</td>\n",
              "      <td>0.007679</td>\n",
              "      <td>0.030869</td>\n",
              "      <td>-0.034546</td>\n",
              "      <td>0.012247</td>\n",
              "      <td>0.005333</td>\n",
              "      <td>1.000000</td>\n",
              "      <td>0.050781</td>\n",
              "      <td>-0.044260</td>\n",
              "    </tr>\n",
              "    <tr>\n",
              "      <th>Monthly_Balance</th>\n",
              "      <td>0.098990</td>\n",
              "      <td>0.009570</td>\n",
              "      <td>0.673648</td>\n",
              "      <td>0.639053</td>\n",
              "      <td>-0.255965</td>\n",
              "      <td>-0.194760</td>\n",
              "      <td>-0.067503</td>\n",
              "      <td>-0.405199</td>\n",
              "      <td>-0.246085</td>\n",
              "      <td>-0.003286</td>\n",
              "      <td>...</td>\n",
              "      <td>-0.335495</td>\n",
              "      <td>-0.278674</td>\n",
              "      <td>0.254864</td>\n",
              "      <td>0.272987</td>\n",
              "      <td>-0.277827</td>\n",
              "      <td>0.030368</td>\n",
              "      <td>0.001182</td>\n",
              "      <td>0.050781</td>\n",
              "      <td>1.000000</td>\n",
              "      <td>-0.162789</td>\n",
              "    </tr>\n",
              "    <tr>\n",
              "      <th>Credit_Score</th>\n",
              "      <td>-0.143859</td>\n",
              "      <td>-0.000725</td>\n",
              "      <td>-0.175294</td>\n",
              "      <td>-0.161099</td>\n",
              "      <td>0.341630</td>\n",
              "      <td>0.373759</td>\n",
              "      <td>0.102213</td>\n",
              "      <td>0.324623</td>\n",
              "      <td>0.411231</td>\n",
              "      <td>0.015527</td>\n",
              "      <td>...</td>\n",
              "      <td>0.471040</td>\n",
              "      <td>0.364987</td>\n",
              "      <td>-0.043984</td>\n",
              "      <td>-0.337940</td>\n",
              "      <td>0.374105</td>\n",
              "      <td>-0.003539</td>\n",
              "      <td>-0.011108</td>\n",
              "      <td>-0.044260</td>\n",
              "      <td>-0.162789</td>\n",
              "      <td>1.000000</td>\n",
              "    </tr>\n",
              "  </tbody>\n",
              "</table>\n",
              "<p>22 rows × 22 columns</p>\n",
              "</div>\n",
              "      <button class=\"colab-df-convert\" onclick=\"convertToInteractive('df-e678047c-805d-4bb4-95a4-beb97d5c210a')\"\n",
              "              title=\"Convert this dataframe to an interactive table.\"\n",
              "              style=\"display:none;\">\n",
              "        \n",
              "  <svg xmlns=\"http://www.w3.org/2000/svg\" height=\"24px\"viewBox=\"0 0 24 24\"\n",
              "       width=\"24px\">\n",
              "    <path d=\"M0 0h24v24H0V0z\" fill=\"none\"/>\n",
              "    <path d=\"M18.56 5.44l.94 2.06.94-2.06 2.06-.94-2.06-.94-.94-2.06-.94 2.06-2.06.94zm-11 1L8.5 8.5l.94-2.06 2.06-.94-2.06-.94L8.5 2.5l-.94 2.06-2.06.94zm10 10l.94 2.06.94-2.06 2.06-.94-2.06-.94-.94-2.06-.94 2.06-2.06.94z\"/><path d=\"M17.41 7.96l-1.37-1.37c-.4-.4-.92-.59-1.43-.59-.52 0-1.04.2-1.43.59L10.3 9.45l-7.72 7.72c-.78.78-.78 2.05 0 2.83L4 21.41c.39.39.9.59 1.41.59.51 0 1.02-.2 1.41-.59l7.78-7.78 2.81-2.81c.8-.78.8-2.07 0-2.86zM5.41 20L4 18.59l7.72-7.72 1.47 1.35L5.41 20z\"/>\n",
              "  </svg>\n",
              "      </button>\n",
              "      \n",
              "  <style>\n",
              "    .colab-df-container {\n",
              "      display:flex;\n",
              "      flex-wrap:wrap;\n",
              "      gap: 12px;\n",
              "    }\n",
              "\n",
              "    .colab-df-convert {\n",
              "      background-color: #E8F0FE;\n",
              "      border: none;\n",
              "      border-radius: 50%;\n",
              "      cursor: pointer;\n",
              "      display: none;\n",
              "      fill: #1967D2;\n",
              "      height: 32px;\n",
              "      padding: 0 0 0 0;\n",
              "      width: 32px;\n",
              "    }\n",
              "\n",
              "    .colab-df-convert:hover {\n",
              "      background-color: #E2EBFA;\n",
              "      box-shadow: 0px 1px 2px rgba(60, 64, 67, 0.3), 0px 1px 3px 1px rgba(60, 64, 67, 0.15);\n",
              "      fill: #174EA6;\n",
              "    }\n",
              "\n",
              "    [theme=dark] .colab-df-convert {\n",
              "      background-color: #3B4455;\n",
              "      fill: #D2E3FC;\n",
              "    }\n",
              "\n",
              "    [theme=dark] .colab-df-convert:hover {\n",
              "      background-color: #434B5C;\n",
              "      box-shadow: 0px 1px 3px 1px rgba(0, 0, 0, 0.15);\n",
              "      filter: drop-shadow(0px 1px 2px rgba(0, 0, 0, 0.3));\n",
              "      fill: #FFFFFF;\n",
              "    }\n",
              "  </style>\n",
              "\n",
              "      <script>\n",
              "        const buttonEl =\n",
              "          document.querySelector('#df-e678047c-805d-4bb4-95a4-beb97d5c210a button.colab-df-convert');\n",
              "        buttonEl.style.display =\n",
              "          google.colab.kernel.accessAllowed ? 'block' : 'none';\n",
              "\n",
              "        async function convertToInteractive(key) {\n",
              "          const element = document.querySelector('#df-e678047c-805d-4bb4-95a4-beb97d5c210a');\n",
              "          const dataTable =\n",
              "            await google.colab.kernel.invokeFunction('convertToInteractive',\n",
              "                                                     [key], {});\n",
              "          if (!dataTable) return;\n",
              "\n",
              "          const docLinkHtml = 'Like what you see? Visit the ' +\n",
              "            '<a target=\"_blank\" href=https://colab.research.google.com/notebooks/data_table.ipynb>data table notebook</a>'\n",
              "            + ' to learn more about interactive tables.';\n",
              "          element.innerHTML = '';\n",
              "          dataTable['output_type'] = 'display_data';\n",
              "          await google.colab.output.renderOutput(dataTable, element);\n",
              "          const docLink = document.createElement('div');\n",
              "          docLink.innerHTML = docLinkHtml;\n",
              "          element.appendChild(docLink);\n",
              "        }\n",
              "      </script>\n",
              "    </div>\n",
              "  </div>\n",
              "  "
            ],
            "text/plain": [
              "                               Age  Occupation  Annual_Income  \\\n",
              "Age                       1.000000    0.017472       0.077421   \n",
              "Occupation                0.017472    1.000000       0.008395   \n",
              "Annual_Income             0.077421    0.008395       1.000000   \n",
              "Monthly_Inhand_Salary     0.070689    0.009021       0.889777   \n",
              "Num_Bank_Accounts        -0.174633    0.003832      -0.243772   \n",
              "Num_Credit_Card          -0.128380   -0.019452      -0.178814   \n",
              "Interest_Rate            -0.048609   -0.005524      -0.051385   \n",
              "Num_of_Loan              -0.199572   -0.014099      -0.222313   \n",
              "Delay_from_due_date      -0.161001   -0.016897      -0.221270   \n",
              "Num_of_Delayed_Payment    0.001430    0.002627       0.000266   \n",
              "Changed_Credit_Limit     -0.160607   -0.011080      -0.164600   \n",
              "Num_Credit_Inquiries     -0.234963   -0.020475      -0.227035   \n",
              "Credit_Mix               -0.227914   -0.002870      -0.307185   \n",
              "Outstanding_Debt         -0.186554   -0.011665      -0.236038   \n",
              "Credit_Utilization_Ratio  0.022017   -0.000178       0.172793   \n",
              "Credit_History_Age        0.212469    0.022075       0.225046   \n",
              "Payment_of_Min_Amount    -0.237032   -0.007420      -0.252509   \n",
              "Total_EMI_per_month      -0.012536   -0.003027       0.143283   \n",
              "Amount_invested_monthly   0.000302   -0.003046       0.065022   \n",
              "Payment_Behaviour         0.016842   -0.000565       0.104462   \n",
              "Monthly_Balance           0.098990    0.009570       0.673648   \n",
              "Credit_Score             -0.143859   -0.000725      -0.175294   \n",
              "\n",
              "                          Monthly_Inhand_Salary  Num_Bank_Accounts  \\\n",
              "Age                                    0.070689          -0.174633   \n",
              "Occupation                             0.009021           0.003832   \n",
              "Annual_Income                          0.889777          -0.243772   \n",
              "Monthly_Inhand_Salary                  1.000000          -0.227892   \n",
              "Num_Bank_Accounts                     -0.227892           1.000000   \n",
              "Num_Credit_Card                       -0.168774           0.399006   \n",
              "Interest_Rate                         -0.050698           0.119975   \n",
              "Num_of_Loan                           -0.210635           0.423321   \n",
              "Delay_from_due_date                   -0.208615           0.523607   \n",
              "Num_of_Delayed_Payment                 0.000543           0.015812   \n",
              "Changed_Credit_Limit                  -0.156129           0.337943   \n",
              "Num_Credit_Inquiries                  -0.211660           0.437724   \n",
              "Credit_Mix                            -0.288129           0.700847   \n",
              "Outstanding_Debt                      -0.224655           0.459810   \n",
              "Credit_Utilization_Ratio               0.161488          -0.067901   \n",
              "Credit_History_Age                     0.212462          -0.410633   \n",
              "Payment_of_Min_Amount                 -0.237101           0.511648   \n",
              "Total_EMI_per_month                    0.132695           0.024746   \n",
              "Amount_invested_monthly                0.060971          -0.020053   \n",
              "Payment_Behaviour                      0.098123          -0.032467   \n",
              "Monthly_Balance                        0.639053          -0.255965   \n",
              "Credit_Score                          -0.161099           0.341630   \n",
              "\n",
              "                          Num_Credit_Card  Interest_Rate  Num_of_Loan  \\\n",
              "Age                             -0.128380      -0.048609    -0.199572   \n",
              "Occupation                      -0.019452      -0.005524    -0.014099   \n",
              "Annual_Income                   -0.178814      -0.051385    -0.222313   \n",
              "Monthly_Inhand_Salary           -0.168774      -0.050698    -0.210635   \n",
              "Num_Bank_Accounts                0.399006       0.119975     0.423321   \n",
              "Num_Credit_Card                  1.000000       0.100967     0.375819   \n",
              "Interest_Rate                    0.100967       1.000000     0.120907   \n",
              "Num_of_Loan                      0.375819       0.120907     1.000000   \n",
              "Delay_from_due_date              0.443875       0.126331     0.471990   \n",
              "Num_of_Delayed_Payment           0.008211       0.003134     0.009039   \n",
              "Changed_Credit_Limit             0.238576       0.083519     0.371999   \n",
              "Num_Credit_Inquiries             0.362332       0.120967     0.505972   \n",
              "Credit_Mix                       0.502133       0.163464     0.592271   \n",
              "Outstanding_Debt                 0.449126       0.138848     0.602622   \n",
              "Credit_Utilization_Ratio        -0.056716      -0.022309    -0.100460   \n",
              "Credit_History_Age              -0.349722      -0.116121    -0.547739   \n",
              "Payment_of_Min_Amount            0.339123       0.127645     0.451913   \n",
              "Total_EMI_per_month              0.024525       0.010751     0.124444   \n",
              "Amount_invested_monthly         -0.013306      -0.001528    -0.012664   \n",
              "Payment_Behaviour               -0.023744      -0.012359    -0.026157   \n",
              "Monthly_Balance                 -0.194760      -0.067503    -0.405199   \n",
              "Credit_Score                     0.373759       0.102213     0.324623   \n",
              "\n",
              "                          Delay_from_due_date  Num_of_Delayed_Payment  ...  \\\n",
              "Age                                 -0.161001                0.001430  ...   \n",
              "Occupation                          -0.016897                0.002627  ...   \n",
              "Annual_Income                       -0.221270                0.000266  ...   \n",
              "Monthly_Inhand_Salary               -0.208615                0.000543  ...   \n",
              "Num_Bank_Accounts                    0.523607                0.015812  ...   \n",
              "Num_Credit_Card                      0.443875                0.008211  ...   \n",
              "Interest_Rate                        0.126331                0.003134  ...   \n",
              "Num_of_Loan                          0.471990                0.009039  ...   \n",
              "Delay_from_due_date                  1.000000                0.014053  ...   \n",
              "Num_of_Delayed_Payment               0.014053                1.000000  ...   \n",
              "Changed_Credit_Limit                 0.306186                0.005083  ...   \n",
              "Num_Credit_Inquiries                 0.457156                0.003679  ...   \n",
              "Credit_Mix                           0.666657                0.018123  ...   \n",
              "Outstanding_Debt                     0.552161                0.008326  ...   \n",
              "Credit_Utilization_Ratio            -0.066897                0.000739  ...   \n",
              "Credit_History_Age                  -0.430699               -0.008983  ...   \n",
              "Payment_of_Min_Amount                0.445705                0.013667  ...   \n",
              "Total_EMI_per_month                  0.028047                0.002644  ...   \n",
              "Amount_invested_monthly             -0.008417               -0.000756  ...   \n",
              "Payment_Behaviour                   -0.036184               -0.002638  ...   \n",
              "Monthly_Balance                     -0.246085               -0.003286  ...   \n",
              "Credit_Score                         0.411231                0.015527  ...   \n",
              "\n",
              "                          Credit_Mix  Outstanding_Debt  \\\n",
              "Age                        -0.227914         -0.186554   \n",
              "Occupation                 -0.002870         -0.011665   \n",
              "Annual_Income              -0.307185         -0.236038   \n",
              "Monthly_Inhand_Salary      -0.288129         -0.224655   \n",
              "Num_Bank_Accounts           0.700847          0.459810   \n",
              "Num_Credit_Card             0.502133          0.449126   \n",
              "Interest_Rate               0.163464          0.138848   \n",
              "Num_of_Loan                 0.592271          0.602622   \n",
              "Delay_from_due_date         0.666657          0.552161   \n",
              "Num_of_Delayed_Payment      0.018123          0.008326   \n",
              "Changed_Credit_Limit        0.454087          0.440900   \n",
              "Num_Credit_Inquiries        0.588846          0.516044   \n",
              "Credit_Mix                  1.000000          0.646882   \n",
              "Outstanding_Debt            0.646882          1.000000   \n",
              "Credit_Utilization_Ratio   -0.091219         -0.067531   \n",
              "Credit_History_Age         -0.570163         -0.562606   \n",
              "Payment_of_Min_Amount       0.709503          0.424881   \n",
              "Total_EMI_per_month         0.030013          0.039178   \n",
              "Amount_invested_monthly    -0.020560         -0.016150   \n",
              "Payment_Behaviour          -0.041332         -0.036121   \n",
              "Monthly_Balance            -0.335495         -0.278674   \n",
              "Credit_Score                0.471040          0.364987   \n",
              "\n",
              "                          Credit_Utilization_Ratio  Credit_History_Age  \\\n",
              "Age                                       0.022017            0.212469   \n",
              "Occupation                               -0.000178            0.022075   \n",
              "Annual_Income                             0.172793            0.225046   \n",
              "Monthly_Inhand_Salary                     0.161488            0.212462   \n",
              "Num_Bank_Accounts                        -0.067901           -0.410633   \n",
              "Num_Credit_Card                          -0.056716           -0.349722   \n",
              "Interest_Rate                            -0.022309           -0.116121   \n",
              "Num_of_Loan                              -0.100460           -0.547739   \n",
              "Delay_from_due_date                      -0.066897           -0.430699   \n",
              "Num_of_Delayed_Payment                    0.000739           -0.008983   \n",
              "Changed_Credit_Limit                     -0.051202           -0.396956   \n",
              "Num_Credit_Inquiries                     -0.070599           -0.527981   \n",
              "Credit_Mix                               -0.091219           -0.570163   \n",
              "Outstanding_Debt                         -0.067531           -0.562606   \n",
              "Credit_Utilization_Ratio                  1.000000            0.061129   \n",
              "Credit_History_Age                        0.061129            1.000000   \n",
              "Payment_of_Min_Amount                    -0.072791           -0.494832   \n",
              "Total_EMI_per_month                       0.013610           -0.042440   \n",
              "Amount_invested_monthly                   0.003870            0.013600   \n",
              "Payment_Behaviour                         0.007679            0.030869   \n",
              "Monthly_Balance                           0.254864            0.272987   \n",
              "Credit_Score                             -0.043984           -0.337940   \n",
              "\n",
              "                          Payment_of_Min_Amount  Total_EMI_per_month  \\\n",
              "Age                                   -0.237032            -0.012536   \n",
              "Occupation                            -0.007420            -0.003027   \n",
              "Annual_Income                         -0.252509             0.143283   \n",
              "Monthly_Inhand_Salary                 -0.237101             0.132695   \n",
              "Num_Bank_Accounts                      0.511648             0.024746   \n",
              "Num_Credit_Card                        0.339123             0.024525   \n",
              "Interest_Rate                          0.127645             0.010751   \n",
              "Num_of_Loan                            0.451913             0.124444   \n",
              "Delay_from_due_date                    0.445705             0.028047   \n",
              "Num_of_Delayed_Payment                 0.013667             0.002644   \n",
              "Changed_Credit_Limit                   0.498601             0.018199   \n",
              "Num_Credit_Inquiries                   0.553389             0.040484   \n",
              "Credit_Mix                             0.709503             0.030013   \n",
              "Outstanding_Debt                       0.424881             0.039178   \n",
              "Credit_Utilization_Ratio              -0.072791             0.013610   \n",
              "Credit_History_Age                    -0.494832            -0.042440   \n",
              "Payment_of_Min_Amount                  1.000000             0.019117   \n",
              "Total_EMI_per_month                    0.019117             1.000000   \n",
              "Amount_invested_monthly               -0.015265             0.010583   \n",
              "Payment_Behaviour                     -0.034546             0.012247   \n",
              "Monthly_Balance                       -0.277827             0.030368   \n",
              "Credit_Score                           0.374105            -0.003539   \n",
              "\n",
              "                          Amount_invested_monthly  Payment_Behaviour  \\\n",
              "Age                                      0.000302           0.016842   \n",
              "Occupation                              -0.003046          -0.000565   \n",
              "Annual_Income                            0.065022           0.104462   \n",
              "Monthly_Inhand_Salary                    0.060971           0.098123   \n",
              "Num_Bank_Accounts                       -0.020053          -0.032467   \n",
              "Num_Credit_Card                         -0.013306          -0.023744   \n",
              "Interest_Rate                           -0.001528          -0.012359   \n",
              "Num_of_Loan                             -0.012664          -0.026157   \n",
              "Delay_from_due_date                     -0.008417          -0.036184   \n",
              "Num_of_Delayed_Payment                  -0.000756          -0.002638   \n",
              "Changed_Credit_Limit                    -0.011560          -0.025593   \n",
              "Num_Credit_Inquiries                    -0.015467          -0.030171   \n",
              "Credit_Mix                              -0.020560          -0.041332   \n",
              "Outstanding_Debt                        -0.016150          -0.036121   \n",
              "Credit_Utilization_Ratio                 0.003870           0.007679   \n",
              "Credit_History_Age                       0.013600           0.030869   \n",
              "Payment_of_Min_Amount                   -0.015265          -0.034546   \n",
              "Total_EMI_per_month                      0.010583           0.012247   \n",
              "Amount_invested_monthly                  1.000000           0.005333   \n",
              "Payment_Behaviour                        0.005333           1.000000   \n",
              "Monthly_Balance                          0.001182           0.050781   \n",
              "Credit_Score                            -0.011108          -0.044260   \n",
              "\n",
              "                          Monthly_Balance  Credit_Score  \n",
              "Age                              0.098990     -0.143859  \n",
              "Occupation                       0.009570     -0.000725  \n",
              "Annual_Income                    0.673648     -0.175294  \n",
              "Monthly_Inhand_Salary            0.639053     -0.161099  \n",
              "Num_Bank_Accounts               -0.255965      0.341630  \n",
              "Num_Credit_Card                 -0.194760      0.373759  \n",
              "Interest_Rate                   -0.067503      0.102213  \n",
              "Num_of_Loan                     -0.405199      0.324623  \n",
              "Delay_from_due_date             -0.246085      0.411231  \n",
              "Num_of_Delayed_Payment          -0.003286      0.015527  \n",
              "Changed_Credit_Limit            -0.196439      0.182772  \n",
              "Num_Credit_Inquiries            -0.265321      0.361610  \n",
              "Credit_Mix                      -0.335495      0.471040  \n",
              "Outstanding_Debt                -0.278674      0.364987  \n",
              "Credit_Utilization_Ratio         0.254864     -0.043984  \n",
              "Credit_History_Age               0.272987     -0.337940  \n",
              "Payment_of_Min_Amount           -0.277827      0.374105  \n",
              "Total_EMI_per_month              0.030368     -0.003539  \n",
              "Amount_invested_monthly          0.001182     -0.011108  \n",
              "Payment_Behaviour                0.050781     -0.044260  \n",
              "Monthly_Balance                  1.000000     -0.162789  \n",
              "Credit_Score                    -0.162789      1.000000  \n",
              "\n",
              "[22 rows x 22 columns]"
            ]
          },
          "execution_count": 65,
          "metadata": {},
          "output_type": "execute_result"
        }
      ],
      "source": [
        "credit_df.corr()"
      ]
    },
    {
      "cell_type": "code",
      "execution_count": null,
      "metadata": {
        "colab": {
          "base_uri": "https://localhost:8080/",
          "height": 392
        },
        "id": "6nRH-x9fXSNt",
        "outputId": "f5a11b97-0e90-4209-cffb-4e6a29bd0b5b"
      },
      "outputs": [
        {
          "data": {
            "image/png": "[encoded data removed]",
            "text/plain": [
              "<Figure size 432x288 with 2 Axes>"
            ]
          },
          "metadata": {},
          "output_type": "display_data"
        }
      ],
      "source": [
        "# Grafica de correlacion\n",
        "sns.heatmap(credit_df.corr().abs())\n",
        "plt.show()"
      ]
    },
    {
      "cell_type": "code",
      "execution_count": null,
      "metadata": {
        "colab": {
          "base_uri": "https://localhost:8080/",
          "height": 664
        },
        "id": "BK29bzHWgi6x",
        "outputId": "542f2158-9777-4f5d-c12d-17f903b84868"
      },
      "outputs": [
        {
          "data": {
            "image/png": "[encoded data removed]",
            "text/plain": [
              "<Figure size 864x648 with 2 Axes>"
            ]
          },
          "metadata": {},
          "output_type": "display_data"
        }
      ],
      "source": [
        "corrmat = credit_df.corr()\n",
        "f, ax = plt.subplots(figsize=(12, 9))\n",
        "sns.heatmap(corrmat, vmax=.8, square=True);"
      ]
    },
    {
      "cell_type": "code",
      "execution_count": null,
      "metadata": {
        "colab": {
          "background_save": true,
          "base_uri": "https://localhost:8080/"
        },
        "id": "6Q8bCxRnXd2r",
        "outputId": "d7fc34b5-c0af-4a21-9f37-a89ffc44d27e"
      },
      "outputs": [
        {
          "data": {
            "text/plain": [
              "Credit_History_Age         -0.337940\n",
              "Annual_Income              -0.175294\n",
              "Monthly_Balance            -0.162789\n",
              "Monthly_Inhand_Salary      -0.161099\n",
              "Age                        -0.143859\n",
              "Payment_Behaviour          -0.044260\n",
              "Credit_Utilization_Ratio   -0.043984\n",
              "Amount_invested_monthly    -0.011108\n",
              "Total_EMI_per_month        -0.003539\n",
              "Occupation                 -0.000725\n",
              "Num_of_Delayed_Payment      0.015527\n",
              "Interest_Rate               0.102213\n",
              "Changed_Credit_Limit        0.182772\n",
              "Num_of_Loan                 0.324623\n",
              "Num_Bank_Accounts           0.341630\n",
              "Num_Credit_Inquiries        0.361610\n",
              "Outstanding_Debt            0.364987\n",
              "Num_Credit_Card             0.373759\n",
              "Payment_of_Min_Amount       0.374105\n",
              "Delay_from_due_date         0.411231\n",
              "Credit_Mix                  0.471040\n",
              "Credit_Score                1.000000\n",
              "Name: Credit_Score, dtype: float64"
            ]
          },
          "execution_count": 68,
          "metadata": {},
          "output_type": "execute_result"
        }
      ],
      "source": [
        "credit_df.corr()['Credit_Score'].sort_values(ascending=True)"
      ]
    },
    {
      "cell_type": "code",
      "execution_count": null,
      "metadata": {
        "colab": {
          "background_save": true,
          "base_uri": "https://localhost:8080/",
          "height": 460
        },
        "id": "ySwcbwqEGRIx",
        "outputId": "2096e028-2c4c-4c64-8a8a-d5ba2299d67d"
      },
      "outputs": [
        {
          "name": "stderr",
          "output_type": "stream",
          "text": [
            "/usr/local/lib/python3.7/dist-packages/seaborn/_decorators.py:43: FutureWarning: Pass the following variable as a keyword arg: x. From version 0.12, the only valid positional argument will be `data`, and passing other arguments without an explicit keyword will result in an error or misinterpretation.\n",
            "  FutureWarning\n"
          ]
        },
        {
          "data": {
            "image/png": "[encoded data removed]",
            "text/plain": [
              "<Figure size 720x432 with 1 Axes>"
            ]
          },
          "metadata": {},
          "output_type": "display_data"
        }
      ],
      "source": [
        "plt.figure(figsize = (10,6))\n",
        "sns.countplot('Credit_Score',data=credit_df).set_title('Distribution of Target Variable')\n",
        "plt.show()"
      ]
    },
    {
      "cell_type": "markdown",
      "metadata": {
        "id": "MMgrLKoIHdpU"
      },
      "source": [
        "# Selección de caracteristicas con Chi cuadrada"
      ]
    },
    {
      "cell_type": "code",
      "execution_count": null,
      "metadata": {
        "colab": {
          "background_save": true
        },
        "id": "So1avsai2XeG"
      },
      "outputs": [],
      "source": [
        "X_tmp = credit_df.drop('Credit_Score',axis=1)\n",
        "Y_tmp = credit_df['Credit_Score']\n",
        "\n",
        "X = np.array(X_tmp)\n",
        "Y = np.array(Y_tmp)"
      ]
    },
    {
      "cell_type": "code",
      "execution_count": null,
      "metadata": {
        "colab": {
          "background_save": true
        },
        "id": "Mn3NQ3dZHhhZ"
      },
      "outputs": [],
      "source": [
        "from sklearn.feature_selection import SelectKBest\n",
        "from sklearn.feature_selection import chi2"
      ]
    },
    {
      "cell_type": "code",
      "execution_count": null,
      "metadata": {
        "colab": {
          "background_save": true,
          "base_uri": "https://localhost:8080/"
        },
        "id": "4FgFS-wdHkzc",
        "outputId": "5f7e31c7-cba0-48ef-d747-9f984ef01d55"
      },
      "outputs": [
        {
          "data": {
            "text/plain": [
              "array([[19114.12,   809.98],\n",
              "       [19114.12,   809.98],\n",
              "       [19114.12,   809.98],\n",
              "       ...,\n",
              "       [20002.88,  3571.7 ],\n",
              "       [20002.88,  3571.7 ],\n",
              "       [39628.99,   502.38]])"
            ]
          },
          "execution_count": 72,
          "metadata": {},
          "output_type": "execute_result"
        }
      ],
      "source": [
        "X_new = SelectKBest(chi2, k=2).fit_transform(X,Y)\n",
        "X_new"
      ]
    },
    {
      "cell_type": "code",
      "execution_count": null,
      "metadata": {
        "colab": {
          "background_save": true,
          "base_uri": "https://localhost:8080/"
        },
        "id": "IMJ_YldLL1MP",
        "outputId": "9d4daa91-b64d-4378-f557-d60c8f81fc6a"
      },
      "outputs": [
        {
          "data": {
            "text/plain": [
              "array([19114.12,   809.98])"
            ]
          },
          "execution_count": 73,
          "metadata": {},
          "output_type": "execute_result"
        }
      ],
      "source": [
        "X_new[0,:]"
      ]
    },
    {
      "cell_type": "code",
      "execution_count": null,
      "metadata": {
        "colab": {
          "background_save": true,
          "base_uri": "https://localhost:8080/"
        },
        "id": "kQUB__l8L5Ep",
        "outputId": "ad8feca1-4023-4ff4-d6b0-a88705531f58"
      },
      "outputs": [
        {
          "data": {
            "text/plain": [
              "array([2.30000000e+01, 0.00000000e+00, 1.91141200e+04, 4.39764349e+03,\n",
              "       3.00000000e+00, 4.00000000e+00, 3.00000000e+00, 4.00000000e+00,\n",
              "       5.00000000e+00, 4.00000000e+00, 6.27000000e+00, 4.00000000e+00,\n",
              "       0.00000000e+00, 8.09980000e+02, 3.13778619e+01, 2.68000000e+02,\n",
              "       0.00000000e+00, 4.95749492e+01, 1.99458074e+02, 0.00000000e+00,\n",
              "       2.23451310e+02])"
            ]
          },
          "execution_count": 74,
          "metadata": {},
          "output_type": "execute_result"
        }
      ],
      "source": [
        "X[0,:]"
      ]
    },
    {
      "cell_type": "code",
      "execution_count": null,
      "metadata": {
        "colab": {
          "background_save": true,
          "base_uri": "https://localhost:8080/"
        },
        "id": "LgQ7JWmdL84l",
        "outputId": "a72dc54e-0f6c-498f-9243-ae872450a29f"
      },
      "outputs": [
        {
          "data": {
            "text/plain": [
              "array(['x2', 'x3', 'x8', 'x13', 'x15', 'x20'], dtype=object)"
            ]
          },
          "execution_count": 75,
          "metadata": {},
          "output_type": "execute_result"
        }
      ],
      "source": [
        "#Seleccionamos las variables con más independencia para quedarnos con ellas\n",
        "best =  SelectKBest(chi2, k=6).fit(X,Y)\n",
        "best.get_feature_names_out()"
      ]
    },
    {
      "cell_type": "code",
      "execution_count": null,
      "metadata": {
        "colab": {
          "background_save": true
        },
        "id": "cToPsh8ONNxk"
      },
      "outputs": [],
      "source": [
        "# x2 = Annual_Income\n",
        "# x3 = Monthly_Inhand_Salary\n",
        "# x8 = Delay_from_due_date\n",
        "# x13 = Outstanding_Debt\n",
        "# x15 = Credit_History_Age\n",
        "# x20 = Monthly_Balance"
      ]
    },
    {
      "cell_type": "code",
      "execution_count": null,
      "metadata": {
        "colab": {
          "background_save": true,
          "base_uri": "https://localhost:8080/",
          "height": 488
        },
        "id": "Nnf_GJgLQS8g",
        "outputId": "4dcdacfb-266c-4da9-b8ca-dcd1e8f5708c"
      },
      "outputs": [
        {
          "data": {
            "text/html": [
              "\n",
              "  <div id=\"df-f2dd84fa-d6b3-4c18-bfe4-246a4965412e\">\n",
              "    <div class=\"colab-df-container\">\n",
              "      <div>\n",
              "<style scoped>\n",
              "    .dataframe tbody tr th:only-of-type {\n",
              "        vertical-align: middle;\n",
              "    }\n",
              "\n",
              "    .dataframe tbody tr th {\n",
              "        vertical-align: top;\n",
              "    }\n",
              "\n",
              "    .dataframe thead th {\n",
              "        text-align: right;\n",
              "    }\n",
              "</style>\n",
              "<table border=\"1\" class=\"dataframe\">\n",
              "  <thead>\n",
              "    <tr style=\"text-align: right;\">\n",
              "      <th></th>\n",
              "      <th>Age</th>\n",
              "      <th>Occupation</th>\n",
              "      <th>Annual_Income</th>\n",
              "      <th>Monthly_Inhand_Salary</th>\n",
              "      <th>Num_Bank_Accounts</th>\n",
              "      <th>Num_Credit_Card</th>\n",
              "      <th>Interest_Rate</th>\n",
              "      <th>Num_of_Loan</th>\n",
              "      <th>Delay_from_due_date</th>\n",
              "      <th>Num_of_Delayed_Payment</th>\n",
              "      <th>...</th>\n",
              "      <th>Credit_Mix</th>\n",
              "      <th>Outstanding_Debt</th>\n",
              "      <th>Credit_Utilization_Ratio</th>\n",
              "      <th>Credit_History_Age</th>\n",
              "      <th>Payment_of_Min_Amount</th>\n",
              "      <th>Total_EMI_per_month</th>\n",
              "      <th>Amount_invested_monthly</th>\n",
              "      <th>Payment_Behaviour</th>\n",
              "      <th>Monthly_Balance</th>\n",
              "      <th>Credit_Score</th>\n",
              "    </tr>\n",
              "  </thead>\n",
              "  <tbody>\n",
              "    <tr>\n",
              "      <th>3</th>\n",
              "      <td>23</td>\n",
              "      <td>0</td>\n",
              "      <td>19114.12</td>\n",
              "      <td>4397.643495</td>\n",
              "      <td>3</td>\n",
              "      <td>4</td>\n",
              "      <td>3</td>\n",
              "      <td>4</td>\n",
              "      <td>5</td>\n",
              "      <td>4.000000</td>\n",
              "      <td>...</td>\n",
              "      <td>0</td>\n",
              "      <td>809.98</td>\n",
              "      <td>31.377862</td>\n",
              "      <td>268.000000</td>\n",
              "      <td>0</td>\n",
              "      <td>49.574949</td>\n",
              "      <td>199.458074</td>\n",
              "      <td>0</td>\n",
              "      <td>223.451310</td>\n",
              "      <td>0</td>\n",
              "    </tr>\n",
              "    <tr>\n",
              "      <th>4</th>\n",
              "      <td>23</td>\n",
              "      <td>0</td>\n",
              "      <td>19114.12</td>\n",
              "      <td>1824.843333</td>\n",
              "      <td>3</td>\n",
              "      <td>4</td>\n",
              "      <td>3</td>\n",
              "      <td>4</td>\n",
              "      <td>6</td>\n",
              "      <td>30.761436</td>\n",
              "      <td>...</td>\n",
              "      <td>0</td>\n",
              "      <td>809.98</td>\n",
              "      <td>24.797347</td>\n",
              "      <td>269.000000</td>\n",
              "      <td>0</td>\n",
              "      <td>49.574949</td>\n",
              "      <td>41.420153</td>\n",
              "      <td>1</td>\n",
              "      <td>341.489231</td>\n",
              "      <td>0</td>\n",
              "    </tr>\n",
              "    <tr>\n",
              "      <th>6</th>\n",
              "      <td>23</td>\n",
              "      <td>0</td>\n",
              "      <td>19114.12</td>\n",
              "      <td>1824.843333</td>\n",
              "      <td>3</td>\n",
              "      <td>4</td>\n",
              "      <td>3</td>\n",
              "      <td>4</td>\n",
              "      <td>3</td>\n",
              "      <td>8.000000</td>\n",
              "      <td>...</td>\n",
              "      <td>0</td>\n",
              "      <td>809.98</td>\n",
              "      <td>22.537593</td>\n",
              "      <td>271.000000</td>\n",
              "      <td>0</td>\n",
              "      <td>49.574949</td>\n",
              "      <td>178.344067</td>\n",
              "      <td>0</td>\n",
              "      <td>244.565317</td>\n",
              "      <td>0</td>\n",
              "    </tr>\n",
              "    <tr>\n",
              "      <th>7</th>\n",
              "      <td>23</td>\n",
              "      <td>0</td>\n",
              "      <td>19114.12</td>\n",
              "      <td>1824.843333</td>\n",
              "      <td>3</td>\n",
              "      <td>4</td>\n",
              "      <td>3</td>\n",
              "      <td>4</td>\n",
              "      <td>3</td>\n",
              "      <td>6.000000</td>\n",
              "      <td>...</td>\n",
              "      <td>0</td>\n",
              "      <td>809.98</td>\n",
              "      <td>23.933795</td>\n",
              "      <td>234.019205</td>\n",
              "      <td>0</td>\n",
              "      <td>49.574949</td>\n",
              "      <td>24.785217</td>\n",
              "      <td>1</td>\n",
              "      <td>358.124168</td>\n",
              "      <td>1</td>\n",
              "    </tr>\n",
              "    <tr>\n",
              "      <th>9</th>\n",
              "      <td>28</td>\n",
              "      <td>1</td>\n",
              "      <td>34847.84</td>\n",
              "      <td>3037.986667</td>\n",
              "      <td>2</td>\n",
              "      <td>4</td>\n",
              "      <td>6</td>\n",
              "      <td>1</td>\n",
              "      <td>7</td>\n",
              "      <td>1.000000</td>\n",
              "      <td>...</td>\n",
              "      <td>0</td>\n",
              "      <td>605.03</td>\n",
              "      <td>38.550848</td>\n",
              "      <td>320.000000</td>\n",
              "      <td>0</td>\n",
              "      <td>18.816215</td>\n",
              "      <td>40.391238</td>\n",
              "      <td>2</td>\n",
              "      <td>484.591214</td>\n",
              "      <td>0</td>\n",
              "    </tr>\n",
              "    <tr>\n",
              "      <th>...</th>\n",
              "      <td>...</td>\n",
              "      <td>...</td>\n",
              "      <td>...</td>\n",
              "      <td>...</td>\n",
              "      <td>...</td>\n",
              "      <td>...</td>\n",
              "      <td>...</td>\n",
              "      <td>...</td>\n",
              "      <td>...</td>\n",
              "      <td>...</td>\n",
              "      <td>...</td>\n",
              "      <td>...</td>\n",
              "      <td>...</td>\n",
              "      <td>...</td>\n",
              "      <td>...</td>\n",
              "      <td>...</td>\n",
              "      <td>...</td>\n",
              "      <td>...</td>\n",
              "      <td>...</td>\n",
              "      <td>...</td>\n",
              "      <td>...</td>\n",
              "    </tr>\n",
              "    <tr>\n",
              "      <th>99984</th>\n",
              "      <td>28</td>\n",
              "      <td>13</td>\n",
              "      <td>20002.88</td>\n",
              "      <td>1929.906667</td>\n",
              "      <td>10</td>\n",
              "      <td>8</td>\n",
              "      <td>29</td>\n",
              "      <td>5</td>\n",
              "      <td>35</td>\n",
              "      <td>26.000000</td>\n",
              "      <td>...</td>\n",
              "      <td>2</td>\n",
              "      <td>3571.70</td>\n",
              "      <td>22.895966</td>\n",
              "      <td>68.000000</td>\n",
              "      <td>2</td>\n",
              "      <td>60.964772</td>\n",
              "      <td>43.370670</td>\n",
              "      <td>2</td>\n",
              "      <td>328.655224</td>\n",
              "      <td>2</td>\n",
              "    </tr>\n",
              "    <tr>\n",
              "      <th>99986</th>\n",
              "      <td>28</td>\n",
              "      <td>13</td>\n",
              "      <td>20002.88</td>\n",
              "      <td>1929.906667</td>\n",
              "      <td>10</td>\n",
              "      <td>8</td>\n",
              "      <td>29</td>\n",
              "      <td>5</td>\n",
              "      <td>33</td>\n",
              "      <td>25.000000</td>\n",
              "      <td>...</td>\n",
              "      <td>2</td>\n",
              "      <td>3571.70</td>\n",
              "      <td>24.713861</td>\n",
              "      <td>70.000000</td>\n",
              "      <td>2</td>\n",
              "      <td>60.964772</td>\n",
              "      <td>76.282793</td>\n",
              "      <td>0</td>\n",
              "      <td>345.743101</td>\n",
              "      <td>2</td>\n",
              "    </tr>\n",
              "    <tr>\n",
              "      <th>99990</th>\n",
              "      <td>28</td>\n",
              "      <td>13</td>\n",
              "      <td>20002.88</td>\n",
              "      <td>1929.906667</td>\n",
              "      <td>10</td>\n",
              "      <td>8</td>\n",
              "      <td>29</td>\n",
              "      <td>5</td>\n",
              "      <td>33</td>\n",
              "      <td>26.000000</td>\n",
              "      <td>...</td>\n",
              "      <td>2</td>\n",
              "      <td>3571.70</td>\n",
              "      <td>25.123535</td>\n",
              "      <td>234.019205</td>\n",
              "      <td>2</td>\n",
              "      <td>60.964772</td>\n",
              "      <td>173.275503</td>\n",
              "      <td>5</td>\n",
              "      <td>228.750392</td>\n",
              "      <td>1</td>\n",
              "    </tr>\n",
              "    <tr>\n",
              "      <th>99991</th>\n",
              "      <td>29</td>\n",
              "      <td>13</td>\n",
              "      <td>20002.88</td>\n",
              "      <td>1929.906667</td>\n",
              "      <td>10</td>\n",
              "      <td>8</td>\n",
              "      <td>29</td>\n",
              "      <td>5</td>\n",
              "      <td>33</td>\n",
              "      <td>25.000000</td>\n",
              "      <td>...</td>\n",
              "      <td>2</td>\n",
              "      <td>3571.70</td>\n",
              "      <td>37.140784</td>\n",
              "      <td>75.000000</td>\n",
              "      <td>2</td>\n",
              "      <td>60.964772</td>\n",
              "      <td>34.662906</td>\n",
              "      <td>2</td>\n",
              "      <td>337.362988</td>\n",
              "      <td>1</td>\n",
              "    </tr>\n",
              "    <tr>\n",
              "      <th>99998</th>\n",
              "      <td>25</td>\n",
              "      <td>14</td>\n",
              "      <td>39628.99</td>\n",
              "      <td>3359.415833</td>\n",
              "      <td>4</td>\n",
              "      <td>6</td>\n",
              "      <td>7</td>\n",
              "      <td>2</td>\n",
              "      <td>20</td>\n",
              "      <td>30.761436</td>\n",
              "      <td>...</td>\n",
              "      <td>0</td>\n",
              "      <td>502.38</td>\n",
              "      <td>33.638208</td>\n",
              "      <td>381.000000</td>\n",
              "      <td>0</td>\n",
              "      <td>35.104023</td>\n",
              "      <td>251.672582</td>\n",
              "      <td>5</td>\n",
              "      <td>319.164979</td>\n",
              "      <td>1</td>\n",
              "    </tr>\n",
              "  </tbody>\n",
              "</table>\n",
              "<p>47641 rows × 22 columns</p>\n",
              "</div>\n",
              "      <button class=\"colab-df-convert\" onclick=\"convertToInteractive('df-f2dd84fa-d6b3-4c18-bfe4-246a4965412e')\"\n",
              "              title=\"Convert this dataframe to an interactive table.\"\n",
              "              style=\"display:none;\">\n",
              "        \n",
              "  <svg xmlns=\"http://www.w3.org/2000/svg\" height=\"24px\"viewBox=\"0 0 24 24\"\n",
              "       width=\"24px\">\n",
              "    <path d=\"M0 0h24v24H0V0z\" fill=\"none\"/>\n",
              "    <path d=\"M18.56 5.44l.94 2.06.94-2.06 2.06-.94-2.06-.94-.94-2.06-.94 2.06-2.06.94zm-11 1L8.5 8.5l.94-2.06 2.06-.94-2.06-.94L8.5 2.5l-.94 2.06-2.06.94zm10 10l.94 2.06.94-2.06 2.06-.94-2.06-.94-.94-2.06-.94 2.06-2.06.94z\"/><path d=\"M17.41 7.96l-1.37-1.37c-.4-.4-.92-.59-1.43-.59-.52 0-1.04.2-1.43.59L10.3 9.45l-7.72 7.72c-.78.78-.78 2.05 0 2.83L4 21.41c.39.39.9.59 1.41.59.51 0 1.02-.2 1.41-.59l7.78-7.78 2.81-2.81c.8-.78.8-2.07 0-2.86zM5.41 20L4 18.59l7.72-7.72 1.47 1.35L5.41 20z\"/>\n",
              "  </svg>\n",
              "      </button>\n",
              "      \n",
              "  <style>\n",
              "    .colab-df-container {\n",
              "      display:flex;\n",
              "      flex-wrap:wrap;\n",
              "      gap: 12px;\n",
              "    }\n",
              "\n",
              "    .colab-df-convert {\n",
              "      background-color: #E8F0FE;\n",
              "      border: none;\n",
              "      border-radius: 50%;\n",
              "      cursor: pointer;\n",
              "      display: none;\n",
              "      fill: #1967D2;\n",
              "      height: 32px;\n",
              "      padding: 0 0 0 0;\n",
              "      width: 32px;\n",
              "    }\n",
              "\n",
              "    .colab-df-convert:hover {\n",
              "      background-color: #E2EBFA;\n",
              "      box-shadow: 0px 1px 2px rgba(60, 64, 67, 0.3), 0px 1px 3px 1px rgba(60, 64, 67, 0.15);\n",
              "      fill: #174EA6;\n",
              "    }\n",
              "\n",
              "    [theme=dark] .colab-df-convert {\n",
              "      background-color: #3B4455;\n",
              "      fill: #D2E3FC;\n",
              "    }\n",
              "\n",
              "    [theme=dark] .colab-df-convert:hover {\n",
              "      background-color: #434B5C;\n",
              "      box-shadow: 0px 1px 3px 1px rgba(0, 0, 0, 0.15);\n",
              "      filter: drop-shadow(0px 1px 2px rgba(0, 0, 0, 0.3));\n",
              "      fill: #FFFFFF;\n",
              "    }\n",
              "  </style>\n",
              "\n",
              "      <script>\n",
              "        const buttonEl =\n",
              "          document.querySelector('#df-f2dd84fa-d6b3-4c18-bfe4-246a4965412e button.colab-df-convert');\n",
              "        buttonEl.style.display =\n",
              "          google.colab.kernel.accessAllowed ? 'block' : 'none';\n",
              "\n",
              "        async function convertToInteractive(key) {\n",
              "          const element = document.querySelector('#df-f2dd84fa-d6b3-4c18-bfe4-246a4965412e');\n",
              "          const dataTable =\n",
              "            await google.colab.kernel.invokeFunction('convertToInteractive',\n",
              "                                                     [key], {});\n",
              "          if (!dataTable) return;\n",
              "\n",
              "          const docLinkHtml = 'Like what you see? Visit the ' +\n",
              "            '<a target=\"_blank\" href=https://colab.research.google.com/notebooks/data_table.ipynb>data table notebook</a>'\n",
              "            + ' to learn more about interactive tables.';\n",
              "          element.innerHTML = '';\n",
              "          dataTable['output_type'] = 'display_data';\n",
              "          await google.colab.output.renderOutput(dataTable, element);\n",
              "          const docLink = document.createElement('div');\n",
              "          docLink.innerHTML = docLinkHtml;\n",
              "          element.appendChild(docLink);\n",
              "        }\n",
              "      </script>\n",
              "    </div>\n",
              "  </div>\n",
              "  "
            ],
            "text/plain": [
              "       Age  Occupation  Annual_Income  Monthly_Inhand_Salary  \\\n",
              "3       23           0       19114.12            4397.643495   \n",
              "4       23           0       19114.12            1824.843333   \n",
              "6       23           0       19114.12            1824.843333   \n",
              "7       23           0       19114.12            1824.843333   \n",
              "9       28           1       34847.84            3037.986667   \n",
              "...    ...         ...            ...                    ...   \n",
              "99984   28          13       20002.88            1929.906667   \n",
              "99986   28          13       20002.88            1929.906667   \n",
              "99990   28          13       20002.88            1929.906667   \n",
              "99991   29          13       20002.88            1929.906667   \n",
              "99998   25          14       39628.99            3359.415833   \n",
              "\n",
              "       Num_Bank_Accounts  Num_Credit_Card  Interest_Rate  Num_of_Loan  \\\n",
              "3                      3                4              3            4   \n",
              "4                      3                4              3            4   \n",
              "6                      3                4              3            4   \n",
              "7                      3                4              3            4   \n",
              "9                      2                4              6            1   \n",
              "...                  ...              ...            ...          ...   \n",
              "99984                 10                8             29            5   \n",
              "99986                 10                8             29            5   \n",
              "99990                 10                8             29            5   \n",
              "99991                 10                8             29            5   \n",
              "99998                  4                6              7            2   \n",
              "\n",
              "       Delay_from_due_date  Num_of_Delayed_Payment  ...  Credit_Mix  \\\n",
              "3                        5                4.000000  ...           0   \n",
              "4                        6               30.761436  ...           0   \n",
              "6                        3                8.000000  ...           0   \n",
              "7                        3                6.000000  ...           0   \n",
              "9                        7                1.000000  ...           0   \n",
              "...                    ...                     ...  ...         ...   \n",
              "99984                   35               26.000000  ...           2   \n",
              "99986                   33               25.000000  ...           2   \n",
              "99990                   33               26.000000  ...           2   \n",
              "99991                   33               25.000000  ...           2   \n",
              "99998                   20               30.761436  ...           0   \n",
              "\n",
              "       Outstanding_Debt  Credit_Utilization_Ratio  Credit_History_Age  \\\n",
              "3                809.98                 31.377862          268.000000   \n",
              "4                809.98                 24.797347          269.000000   \n",
              "6                809.98                 22.537593          271.000000   \n",
              "7                809.98                 23.933795          234.019205   \n",
              "9                605.03                 38.550848          320.000000   \n",
              "...                 ...                       ...                 ...   \n",
              "99984           3571.70                 22.895966           68.000000   \n",
              "99986           3571.70                 24.713861           70.000000   \n",
              "99990           3571.70                 25.123535          234.019205   \n",
              "99991           3571.70                 37.140784           75.000000   \n",
              "99998            502.38                 33.638208          381.000000   \n",
              "\n",
              "       Payment_of_Min_Amount  Total_EMI_per_month  Amount_invested_monthly  \\\n",
              "3                          0            49.574949               199.458074   \n",
              "4                          0            49.574949                41.420153   \n",
              "6                          0            49.574949               178.344067   \n",
              "7                          0            49.574949                24.785217   \n",
              "9                          0            18.816215                40.391238   \n",
              "...                      ...                  ...                      ...   \n",
              "99984                      2            60.964772                43.370670   \n",
              "99986                      2            60.964772                76.282793   \n",
              "99990                      2            60.964772               173.275503   \n",
              "99991                      2            60.964772                34.662906   \n",
              "99998                      0            35.104023               251.672582   \n",
              "\n",
              "       Payment_Behaviour  Monthly_Balance  Credit_Score  \n",
              "3                      0       223.451310             0  \n",
              "4                      1       341.489231             0  \n",
              "6                      0       244.565317             0  \n",
              "7                      1       358.124168             1  \n",
              "9                      2       484.591214             0  \n",
              "...                  ...              ...           ...  \n",
              "99984                  2       328.655224             2  \n",
              "99986                  0       345.743101             2  \n",
              "99990                  5       228.750392             1  \n",
              "99991                  2       337.362988             1  \n",
              "99998                  5       319.164979             1  \n",
              "\n",
              "[47641 rows x 22 columns]"
            ]
          },
          "execution_count": 77,
          "metadata": {},
          "output_type": "execute_result"
        }
      ],
      "source": [
        "credit_df"
      ]
    },
    {
      "cell_type": "markdown",
      "metadata": {
        "id": "x-oF5O8IWm4k"
      },
      "source": [
        "**De acuerdo a la correlacion se deben quitar en este caso de clasificacion las que tienen menor correlacion con Credit Score, tomando las menores serian las siguientes:**\n",
        "\n",
        "Credit_History_Age\n",
        "Annual_Income\n",
        "Monthly_Balance\n",
        "Monthly_Inhand_Salary\n",
        "Age\n",
        "Credit_Utilization_Ratio\n",
        "Payment_Behaviour\n",
        "Amount_invested_monthly\n",
        "Total_EMI_per_month\n",
        "Occupation\n",
        "Num_of_Delayed_Payment\n",
        "\n",
        "\n",
        "\n"
      ]
    },
    {
      "cell_type": "markdown",
      "metadata": {
        "id": "GjYOR4tCZEtp"
      },
      "source": [
        "**De acuerdo a Chi cuadrada se deben tomar las siguientes columnas**\n",
        "Credit_History_Age\n",
        "Annual_Income\n",
        "Monthly_Balance\n",
        "Monthly_Inhand_Salary\n",
        "Outstanding_Debt\n",
        "Delay_from_due_date\n"
      ]
    },
    {
      "cell_type": "markdown",
      "metadata": {
        "id": "Wn8oCgpvZbrS"
      },
      "source": [
        "**Finalmente debido a que ninguna columna tiene en realidad una correlacion alta con Credit Score (la mas alta es 0.40), se decidio tomar todas las columnas**"
      ]
    },
    {
      "cell_type": "markdown",
      "metadata": {
        "id": "0foUIfmjQqu5"
      },
      "source": [
        "**Dividimos la BD en entrenamiento y prueba**"
      ]
    },
    {
      "cell_type": "code",
      "execution_count": null,
      "metadata": {
        "colab": {
          "background_save": true,
          "base_uri": "https://localhost:8080/"
        },
        "id": "YlIjaAzAQsY2",
        "outputId": "314084b1-4536-4395-c2cc-65233ad565f0"
      },
      "outputs": [
        {
          "data": {
            "text/plain": [
              "((33348, 21), (14293, 21), (33348,), (14293,))"
            ]
          },
          "execution_count": 78,
          "metadata": {},
          "output_type": "execute_result"
        }
      ],
      "source": [
        "from sklearn.model_selection import train_test_split\n",
        "X = credit_df.drop('Credit_Score',axis=1)\n",
        "Y = credit_df['Credit_Score']\n",
        "X_train, X_test, y_train, y_test = train_test_split(X, Y, test_size=0.3, stratify = Y)\n",
        "X_train.shape, X_test.shape, y_train.shape, y_test.shape"
      ]
    },
    {
      "cell_type": "code",
      "execution_count": null,
      "metadata": {
        "colab": {
          "background_save": true
        },
        "id": "05ZDI1ajU1pw"
      },
      "outputs": [],
      "source": [
        "X_gral = credit_df.drop('Credit_Score',axis=1)\n",
        "Y_gral = credit_df['Credit_Score']"
      ]
    },
    {
      "cell_type": "markdown",
      "metadata": {
        "id": "q--IARhtSYK3"
      },
      "source": [
        "**Cross validation para ver el mejor modelo**"
      ]
    },
    {
      "cell_type": "code",
      "execution_count": null,
      "metadata": {
        "colab": {
          "background_save": true
        },
        "id": "R9XimjvfTJ8W"
      },
      "outputs": [],
      "source": [
        "from sklearn.linear_model import LogisticRegression\n",
        "from sklearn.svm import SVC\n",
        "from sklearn.ensemble import RandomForestClassifier\n",
        "import numpy as np\n",
        "from sklearn.datasets import load_digits\n",
        "import matplotlib.pyplot as plt\n",
        "from sklearn.ensemble import GradientBoostingClassifier\n",
        "from sklearn.model_selection import train_test_split\n",
        "from sklearn.naive_bayes import GaussianNB\n",
        "import matplotlib.pyplot as plt\n",
        "from sklearn.linear_model import LogisticRegression\n",
        "from sklearn import datasets\n",
        "import numpy as np\n",
        "from sklearn.metrics import confusion_matrix,accuracy_score, classification_report, roc_curve\n",
        "from sklearn.ensemble import GradientBoostingClassifier\n",
        "from sklearn.model_selection import cross_val_score\n",
        "from sklearn.ensemble import GradientBoostingClassifier"
      ]
    },
    {
      "cell_type": "code",
      "execution_count": null,
      "metadata": {
        "colab": {
          "background_save": true
        },
        "id": "Nz0xT11RTD8O",
        "outputId": "90371ad7-ba4a-4350-e10b-3a4c99b9f949"
      },
      "outputs": [
        {
          "name": "stdout",
          "output_type": "stream",
          "text": [
            "[0.68919203 0.66729639 0.69164568 0.68492863 0.67989085 0.684089\n",
            " 0.6813602  0.67842149 0.69122586 0.68786734]\n",
            "Avg : 0.6835917465989676\n"
          ]
        }
      ],
      "source": [
        "score=cross_val_score(GradientBoostingClassifier(n_estimators=100, learning_rate=1.0, max_depth=1),X_gral,Y_gral,cv=10)\n",
        "print(score)\n",
        "print('Avg :',np.average(score))"
      ]
    },
    {
      "cell_type": "code",
      "execution_count": null,
      "metadata": {
        "colab": {
          "background_save": true
        },
        "id": "LzNDfv9qWhZv",
        "outputId": "8c3836a0-7412-42fc-bc77-787dcd516204"
      },
      "outputs": [
        {
          "name": "stdout",
          "output_type": "stream",
          "text": [
            "[0.61993704 0.60537364 0.62111671 0.62762385 0.61188077 0.62195634\n",
            " 0.61460957 0.60621327 0.61397985 0.61230059]\n",
            "Avg : 0.6154991616909966\n"
          ]
        }
      ],
      "source": [
        "score=cross_val_score(LogisticRegression(solver='liblinear',multi_class='ovr'),X_gral,Y_gral,cv=10)\n",
        "print(score)\n",
        "print('Avg :',np.average(score))"
      ]
    },
    {
      "cell_type": "code",
      "execution_count": null,
      "metadata": {
        "colab": {
          "background_save": true
        },
        "id": "vme9ZS0EW_8f",
        "outputId": "b669fdd3-5088-48cd-9aed-e1f94e95cc7a"
      },
      "outputs": [
        {
          "name": "stdout",
          "output_type": "stream",
          "text": [
            "[0.69947534 0.684089   0.69248531 0.69941226 0.6868178  0.70214106\n",
            " 0.69143577 0.68261965 0.68639798 0.70990764]\n",
            "Avg : 0.6934781806183663\n"
          ]
        }
      ],
      "source": [
        "score=cross_val_score(RandomForestClassifier(n_estimators=40),X_gral,Y_gral,cv=10)\n",
        "print(score)\n",
        "print('Avg :',np.average(score))"
      ]
    },
    {
      "cell_type": "code",
      "execution_count": null,
      "metadata": {
        "colab": {
          "background_save": true
        },
        "id": "YOwupNz8YJat",
        "outputId": "1bbc19f4-aa2b-45e2-d616-95b35fb4ad79"
      },
      "outputs": [
        {
          "name": "stdout",
          "output_type": "stream",
          "text": [
            "[0.58426023 0.59865659 0.59026029 0.58186398 0.58627204 0.60579345\n",
            " 0.59089001 0.56129303 0.58291352 0.60075567]\n",
            "Avg : 0.588295880347799\n"
          ]
        }
      ],
      "source": [
        "score=cross_val_score(GaussianNB(),X_gral,Y_gral,cv=10)\n",
        "print(score)\n",
        "print('Avg :',np.average(score))"
      ]
    },
    {
      "cell_type": "code",
      "execution_count": null,
      "metadata": {
        "colab": {
          "background_save": true
        },
        "id": "gqTaPFyCZxmC"
      },
      "outputs": [],
      "source": [
        "#score_svm =cross_val_score(SVC(degree=1, probability=True), X_gral, Y_gral,cv=10)\n",
        "#print(score_svm)\n",
        "#print('Avg :',np.average(score_svm))"
      ]
    },
    {
      "cell_type": "code",
      "execution_count": null,
      "metadata": {
        "colab": {
          "background_save": true
        },
        "id": "ZPItoRlDgmrl",
        "outputId": "3a48f8be-b05c-4c51-d003-fa6e44b4313e"
      },
      "outputs": [
        {
          "name": "stdout",
          "output_type": "stream",
          "text": [
            "[0.6270724  0.61670865 0.62783375 0.63140218 0.62699412 0.64126784\n",
            " 0.63224181 0.62027708 0.63413098 0.64609572]\n",
            "Avg : 0.6304024543996024\n"
          ]
        }
      ],
      "source": [
        "from sklearn.linear_model import RidgeClassifier\n",
        "score =cross_val_score(RidgeClassifier(), X_gral, Y_gral,cv=10)\n",
        "print(score)\n",
        "print('Avg :',np.average(score))"
      ]
    },
    {
      "cell_type": "code",
      "execution_count": null,
      "metadata": {
        "colab": {
          "background_save": true
        },
        "id": "XgjcmXUPwlM3",
        "outputId": "3e7f4b0a-e5c3-43b3-8393-a747faa9b0b6"
      },
      "outputs": [
        {
          "name": "stdout",
          "output_type": "stream",
          "text": [
            "[0.21282023 0.17916314 0.19117392 0.20426616 0.18669776 0.19108207\n",
            " 0.19575364 0.16642103 0.20912713 0.1981014 ]\n",
            "Avg : 0.19346064795167575\n"
          ]
        }
      ],
      "source": [
        "from sklearn.linear_model import Lasso\n",
        "score =cross_val_score(Lasso(), X_gral, Y_gral,cv=10)\n",
        "print(score)\n",
        "print('Avg :',np.average(score))"
      ]
    },
    {
      "cell_type": "markdown",
      "metadata": {
        "id": "D-GIXqNt1sqn"
      },
      "source": [
        "**Del análisis deCross validation seleccionamos los modelos GradientBoosting Random Forest, Ridge Regression y Logistic Regression**\n"
      ]
    },
    {
      "cell_type": "markdown",
      "metadata": {
        "id": "gRPp_YobRpro"
      },
      "source": [
        "****Modelo GradientBoosting****"
      ]
    },
    {
      "cell_type": "code",
      "execution_count": null,
      "metadata": {
        "id": "OEJugwx4SjPz"
      },
      "outputs": [],
      "source": [
        "GBC = GradientBoostingClassifier(n_estimators=100, learning_rate=1.0, max_depth=1)"
      ]
    },
    {
      "cell_type": "markdown",
      "metadata": {
        "id": "VMVrK-Sv57oH"
      },
      "source": [
        "**Entrenamiento**"
      ]
    },
    {
      "cell_type": "code",
      "execution_count": null,
      "metadata": {
        "colab": {
          "background_save": true
        },
        "id": "f1YHmAbK5vJo",
        "outputId": "a2d4d123-9124-4c80-ae6e-3159c75251ed"
      },
      "outputs": [
        {
          "data": {
            "text/plain": [
              "GradientBoostingClassifier(learning_rate=1.0, max_depth=1)"
            ]
          },
          "execution_count": 89,
          "metadata": {},
          "output_type": "execute_result"
        }
      ],
      "source": [
        "GBC.fit(X_train, y_train)"
      ]
    },
    {
      "cell_type": "markdown",
      "metadata": {
        "id": "N6744ZYb5-1P"
      },
      "source": [
        "**Predict**"
      ]
    },
    {
      "cell_type": "code",
      "execution_count": null,
      "metadata": {
        "colab": {
          "background_save": true
        },
        "id": "ab48TC0h6BO_"
      },
      "outputs": [],
      "source": [
        "predic = GBC.predict(X_test)"
      ]
    },
    {
      "cell_type": "markdown",
      "metadata": {
        "id": "YxDM7Qi86DIH"
      },
      "source": [
        "**Precisión (accuracy)**"
      ]
    },
    {
      "cell_type": "code",
      "execution_count": null,
      "metadata": {
        "colab": {
          "background_save": true
        },
        "id": "zHEdKzSl6ErP",
        "outputId": "dd5e75cf-4874-4dfd-cae7-81a4b4a64b37"
      },
      "outputs": [
        {
          "data": {
            "text/plain": [
              "0.6876093192471839"
            ]
          },
          "execution_count": 91,
          "metadata": {},
          "output_type": "execute_result"
        }
      ],
      "source": [
        "accuracy_score(y_test, predic)"
      ]
    },
    {
      "cell_type": "markdown",
      "metadata": {
        "id": "Ijv0F0dA6Jaf"
      },
      "source": [
        "**Matriz de Confusión**"
      ]
    },
    {
      "cell_type": "code",
      "execution_count": null,
      "metadata": {
        "colab": {
          "background_save": true
        },
        "id": "HACt7snp6JDn",
        "outputId": "ac059586-8128-4ba6-9af4-816d0dece2ce"
      },
      "outputs": [
        {
          "data": {
            "text/html": [
              "\n",
              "  <div id=\"df-7f849ed9-39e9-4b4e-acc0-c310e5caba35\">\n",
              "    <div class=\"colab-df-container\">\n",
              "      <div>\n",
              "<style scoped>\n",
              "    .dataframe tbody tr th:only-of-type {\n",
              "        vertical-align: middle;\n",
              "    }\n",
              "\n",
              "    .dataframe tbody tr th {\n",
              "        vertical-align: top;\n",
              "    }\n",
              "\n",
              "    .dataframe thead th {\n",
              "        text-align: right;\n",
              "    }\n",
              "</style>\n",
              "<table border=\"1\" class=\"dataframe\">\n",
              "  <thead>\n",
              "    <tr style=\"text-align: right;\">\n",
              "      <th>Predicted</th>\n",
              "      <th>0</th>\n",
              "      <th>1</th>\n",
              "      <th>2</th>\n",
              "      <th>All</th>\n",
              "    </tr>\n",
              "    <tr>\n",
              "      <th>True</th>\n",
              "      <th></th>\n",
              "      <th></th>\n",
              "      <th></th>\n",
              "      <th></th>\n",
              "    </tr>\n",
              "  </thead>\n",
              "  <tbody>\n",
              "    <tr>\n",
              "      <th>0</th>\n",
              "      <td>1801</td>\n",
              "      <td>928</td>\n",
              "      <td>57</td>\n",
              "      <td>2786</td>\n",
              "    </tr>\n",
              "    <tr>\n",
              "      <th>1</th>\n",
              "      <td>1030</td>\n",
              "      <td>6209</td>\n",
              "      <td>808</td>\n",
              "      <td>8047</td>\n",
              "    </tr>\n",
              "    <tr>\n",
              "      <th>2</th>\n",
              "      <td>333</td>\n",
              "      <td>1309</td>\n",
              "      <td>1818</td>\n",
              "      <td>3460</td>\n",
              "    </tr>\n",
              "    <tr>\n",
              "      <th>All</th>\n",
              "      <td>3164</td>\n",
              "      <td>8446</td>\n",
              "      <td>2683</td>\n",
              "      <td>14293</td>\n",
              "    </tr>\n",
              "  </tbody>\n",
              "</table>\n",
              "</div>\n",
              "      <button class=\"colab-df-convert\" onclick=\"convertToInteractive('df-7f849ed9-39e9-4b4e-acc0-c310e5caba35')\"\n",
              "              title=\"Convert this dataframe to an interactive table.\"\n",
              "              style=\"display:none;\">\n",
              "        \n",
              "  <svg xmlns=\"http://www.w3.org/2000/svg\" height=\"24px\"viewBox=\"0 0 24 24\"\n",
              "       width=\"24px\">\n",
              "    <path d=\"M0 0h24v24H0V0z\" fill=\"none\"/>\n",
              "    <path d=\"M18.56 5.44l.94 2.06.94-2.06 2.06-.94-2.06-.94-.94-2.06-.94 2.06-2.06.94zm-11 1L8.5 8.5l.94-2.06 2.06-.94-2.06-.94L8.5 2.5l-.94 2.06-2.06.94zm10 10l.94 2.06.94-2.06 2.06-.94-2.06-.94-.94-2.06-.94 2.06-2.06.94z\"/><path d=\"M17.41 7.96l-1.37-1.37c-.4-.4-.92-.59-1.43-.59-.52 0-1.04.2-1.43.59L10.3 9.45l-7.72 7.72c-.78.78-.78 2.05 0 2.83L4 21.41c.39.39.9.59 1.41.59.51 0 1.02-.2 1.41-.59l7.78-7.78 2.81-2.81c.8-.78.8-2.07 0-2.86zM5.41 20L4 18.59l7.72-7.72 1.47 1.35L5.41 20z\"/>\n",
              "  </svg>\n",
              "      </button>\n",
              "      \n",
              "  <style>\n",
              "    .colab-df-container {\n",
              "      display:flex;\n",
              "      flex-wrap:wrap;\n",
              "      gap: 12px;\n",
              "    }\n",
              "\n",
              "    .colab-df-convert {\n",
              "      background-color: #E8F0FE;\n",
              "      border: none;\n",
              "      border-radius: 50%;\n",
              "      cursor: pointer;\n",
              "      display: none;\n",
              "      fill: #1967D2;\n",
              "      height: 32px;\n",
              "      padding: 0 0 0 0;\n",
              "      width: 32px;\n",
              "    }\n",
              "\n",
              "    .colab-df-convert:hover {\n",
              "      background-color: #E2EBFA;\n",
              "      box-shadow: 0px 1px 2px rgba(60, 64, 67, 0.3), 0px 1px 3px 1px rgba(60, 64, 67, 0.15);\n",
              "      fill: #174EA6;\n",
              "    }\n",
              "\n",
              "    [theme=dark] .colab-df-convert {\n",
              "      background-color: #3B4455;\n",
              "      fill: #D2E3FC;\n",
              "    }\n",
              "\n",
              "    [theme=dark] .colab-df-convert:hover {\n",
              "      background-color: #434B5C;\n",
              "      box-shadow: 0px 1px 3px 1px rgba(0, 0, 0, 0.15);\n",
              "      filter: drop-shadow(0px 1px 2px rgba(0, 0, 0, 0.3));\n",
              "      fill: #FFFFFF;\n",
              "    }\n",
              "  </style>\n",
              "\n",
              "      <script>\n",
              "        const buttonEl =\n",
              "          document.querySelector('#df-7f849ed9-39e9-4b4e-acc0-c310e5caba35 button.colab-df-convert');\n",
              "        buttonEl.style.display =\n",
              "          google.colab.kernel.accessAllowed ? 'block' : 'none';\n",
              "\n",
              "        async function convertToInteractive(key) {\n",
              "          const element = document.querySelector('#df-7f849ed9-39e9-4b4e-acc0-c310e5caba35');\n",
              "          const dataTable =\n",
              "            await google.colab.kernel.invokeFunction('convertToInteractive',\n",
              "                                                     [key], {});\n",
              "          if (!dataTable) return;\n",
              "\n",
              "          const docLinkHtml = 'Like what you see? Visit the ' +\n",
              "            '<a target=\"_blank\" href=https://colab.research.google.com/notebooks/data_table.ipynb>data table notebook</a>'\n",
              "            + ' to learn more about interactive tables.';\n",
              "          element.innerHTML = '';\n",
              "          dataTable['output_type'] = 'display_data';\n",
              "          await google.colab.output.renderOutput(dataTable, element);\n",
              "          const docLink = document.createElement('div');\n",
              "          docLink.innerHTML = docLinkHtml;\n",
              "          element.appendChild(docLink);\n",
              "        }\n",
              "      </script>\n",
              "    </div>\n",
              "  </div>\n",
              "  "
            ],
            "text/plain": [
              "Predicted     0     1     2    All\n",
              "True                              \n",
              "0          1801   928    57   2786\n",
              "1          1030  6209   808   8047\n",
              "2           333  1309  1818   3460\n",
              "All        3164  8446  2683  14293"
            ]
          },
          "execution_count": 92,
          "metadata": {},
          "output_type": "execute_result"
        }
      ],
      "source": [
        "pd.crosstab(y_test, predic, rownames=['True'], colnames=['Predicted'], margins=True)"
      ]
    },
    {
      "cell_type": "code",
      "execution_count": null,
      "metadata": {
        "colab": {
          "background_save": true
        },
        "id": "ECIw8ns76Qo3"
      },
      "outputs": [],
      "source": [
        "import matplotlib.pyplot as plt\n",
        "from sklearn.datasets import make_classification\n",
        "from sklearn.metrics import plot_confusion_matrix\n",
        "from sklearn.model_selection import train_test_split\n",
        "from sklearn.svm import SVC"
      ]
    },
    {
      "cell_type": "code",
      "execution_count": null,
      "metadata": {
        "colab": {
          "background_save": true
        },
        "id": "3orXwfP76Sn3",
        "outputId": "f800bc40-c86a-4e4d-db1f-8393160468a3"
      },
      "outputs": [
        {
          "name": "stderr",
          "output_type": "stream",
          "text": [
            "/usr/local/lib/python3.7/dist-packages/sklearn/utils/deprecation.py:87: FutureWarning: Function plot_confusion_matrix is deprecated; Function `plot_confusion_matrix` is deprecated in 1.0 and will be removed in 1.2. Use one of the class methods: ConfusionMatrixDisplay.from_predictions or ConfusionMatrixDisplay.from_estimator.\n",
            "  warnings.warn(msg, category=FutureWarning)\n"
          ]
        },
        {
          "data": {
            "image/png": "[encoded data removed]",
            "text/plain": [
              "<Figure size 432x288 with 2 Axes>"
            ]
          },
          "metadata": {},
          "output_type": "display_data"
        }
      ],
      "source": [
        "fig = plot_confusion_matrix(GBC, X_test, y_test, display_labels=GBC.classes_)\n",
        "fig.figure_.suptitle(\"Matriz de Confusión\")\n",
        "plt.show()"
      ]
    },
    {
      "cell_type": "markdown",
      "metadata": {
        "id": "bm_JDxeU6UxK"
      },
      "source": [
        "**Métricas**"
      ]
    },
    {
      "cell_type": "code",
      "execution_count": null,
      "metadata": {
        "colab": {
          "background_save": true
        },
        "id": "kqpkyqr96WT3",
        "outputId": "a7df07d5-879d-4ba2-95df-799ff102e4c8"
      },
      "outputs": [
        {
          "name": "stdout",
          "output_type": "stream",
          "text": [
            "              precision    recall  f1-score   support\n",
            "\n",
            "           0       0.57      0.65      0.61      2786\n",
            "           1       0.74      0.77      0.75      8047\n",
            "           2       0.68      0.53      0.59      3460\n",
            "\n",
            "    accuracy                           0.69     14293\n",
            "   macro avg       0.66      0.65      0.65     14293\n",
            "weighted avg       0.69      0.69      0.69     14293\n",
            "\n"
          ]
        }
      ],
      "source": [
        "print(classification_report(y_test, predic))"
      ]
    },
    {
      "cell_type": "code",
      "execution_count": null,
      "metadata": {
        "colab": {
          "background_save": true
        },
        "id": "V3ptqBLc6ZfZ",
        "outputId": "025a68d9-2ad9-496c-a967-4b41ae37ebd9"
      },
      "outputs": [
        {
          "data": {
            "text/plain": [
              "array([[0.46762368, 0.36324355, 0.16913278],\n",
              "       [0.00955483, 0.13024185, 0.86020332],\n",
              "       [0.00623072, 0.15719175, 0.83657753],\n",
              "       ...,\n",
              "       [0.66000747, 0.26723723, 0.07275531],\n",
              "       [0.06672687, 0.87069492, 0.06257821],\n",
              "       [0.7005064 , 0.2858122 , 0.0136814 ]])"
            ]
          },
          "execution_count": 96,
          "metadata": {},
          "output_type": "execute_result"
        }
      ],
      "source": [
        "GBC.predict_proba(X_test)"
      ]
    },
    {
      "cell_type": "markdown",
      "metadata": {
        "id": "rMIYqfhb_Mx6"
      },
      "source": [
        "**Random Forest**"
      ]
    },
    {
      "cell_type": "code",
      "execution_count": null,
      "metadata": {
        "colab": {
          "background_save": true
        },
        "id": "5aa8pf8Y_O8_"
      },
      "outputs": [],
      "source": [
        "RFC = RandomForestClassifier(max_depth=2)"
      ]
    },
    {
      "cell_type": "code",
      "execution_count": null,
      "metadata": {
        "colab": {
          "background_save": true
        },
        "id": "BuGQC0fj_jQn",
        "outputId": "37dfeed7-4396-4662-bc58-3658834f90d0"
      },
      "outputs": [
        {
          "data": {
            "text/plain": [
              "RandomForestClassifier(max_depth=2)"
            ]
          },
          "execution_count": 98,
          "metadata": {},
          "output_type": "execute_result"
        }
      ],
      "source": [
        "RFC.fit(X_train,y_train)"
      ]
    },
    {
      "cell_type": "code",
      "execution_count": null,
      "metadata": {
        "colab": {
          "background_save": true
        },
        "id": "TCd7eLyU_ltI"
      },
      "outputs": [],
      "source": [
        "predic = RFC.predict(X_test)"
      ]
    },
    {
      "cell_type": "code",
      "execution_count": null,
      "metadata": {
        "colab": {
          "background_save": true
        },
        "id": "T4We6zU3_nJI",
        "outputId": "e1d58f51-ef19-40b8-815b-74860b49d3fe"
      },
      "outputs": [
        {
          "data": {
            "text/plain": [
              "0.6142167494577765"
            ]
          },
          "execution_count": 100,
          "metadata": {},
          "output_type": "execute_result"
        }
      ],
      "source": [
        "accuracy_score(y_test, predic)"
      ]
    },
    {
      "cell_type": "markdown",
      "metadata": {
        "id": "vkf6dd6H_-Hx"
      },
      "source": [
        "**Matriz de Confusión**"
      ]
    },
    {
      "cell_type": "code",
      "execution_count": null,
      "metadata": {
        "colab": {
          "background_save": true
        },
        "id": "Uf86Lu58ABCo",
        "outputId": "5b8bf034-128c-4193-f25f-f9e125c2aecd"
      },
      "outputs": [
        {
          "data": {
            "text/html": [
              "\n",
              "  <div id=\"df-8fb86633-1a9b-476b-97eb-9826c3eb3994\">\n",
              "    <div class=\"colab-df-container\">\n",
              "      <div>\n",
              "<style scoped>\n",
              "    .dataframe tbody tr th:only-of-type {\n",
              "        vertical-align: middle;\n",
              "    }\n",
              "\n",
              "    .dataframe tbody tr th {\n",
              "        vertical-align: top;\n",
              "    }\n",
              "\n",
              "    .dataframe thead th {\n",
              "        text-align: right;\n",
              "    }\n",
              "</style>\n",
              "<table border=\"1\" class=\"dataframe\">\n",
              "  <thead>\n",
              "    <tr style=\"text-align: right;\">\n",
              "      <th>Predicted</th>\n",
              "      <th>0</th>\n",
              "      <th>1</th>\n",
              "      <th>2</th>\n",
              "      <th>All</th>\n",
              "    </tr>\n",
              "    <tr>\n",
              "      <th>True</th>\n",
              "      <th></th>\n",
              "      <th></th>\n",
              "      <th></th>\n",
              "      <th></th>\n",
              "    </tr>\n",
              "  </thead>\n",
              "  <tbody>\n",
              "    <tr>\n",
              "      <th>0</th>\n",
              "      <td>332</td>\n",
              "      <td>2439</td>\n",
              "      <td>15</td>\n",
              "      <td>2786</td>\n",
              "    </tr>\n",
              "    <tr>\n",
              "      <th>1</th>\n",
              "      <td>77</td>\n",
              "      <td>7347</td>\n",
              "      <td>623</td>\n",
              "      <td>8047</td>\n",
              "    </tr>\n",
              "    <tr>\n",
              "      <th>2</th>\n",
              "      <td>1</td>\n",
              "      <td>2359</td>\n",
              "      <td>1100</td>\n",
              "      <td>3460</td>\n",
              "    </tr>\n",
              "    <tr>\n",
              "      <th>All</th>\n",
              "      <td>410</td>\n",
              "      <td>12145</td>\n",
              "      <td>1738</td>\n",
              "      <td>14293</td>\n",
              "    </tr>\n",
              "  </tbody>\n",
              "</table>\n",
              "</div>\n",
              "      <button class=\"colab-df-convert\" onclick=\"convertToInteractive('df-8fb86633-1a9b-476b-97eb-9826c3eb3994')\"\n",
              "              title=\"Convert this dataframe to an interactive table.\"\n",
              "              style=\"display:none;\">\n",
              "        \n",
              "  <svg xmlns=\"http://www.w3.org/2000/svg\" height=\"24px\"viewBox=\"0 0 24 24\"\n",
              "       width=\"24px\">\n",
              "    <path d=\"M0 0h24v24H0V0z\" fill=\"none\"/>\n",
              "    <path d=\"M18.56 5.44l.94 2.06.94-2.06 2.06-.94-2.06-.94-.94-2.06-.94 2.06-2.06.94zm-11 1L8.5 8.5l.94-2.06 2.06-.94-2.06-.94L8.5 2.5l-.94 2.06-2.06.94zm10 10l.94 2.06.94-2.06 2.06-.94-2.06-.94-.94-2.06-.94 2.06-2.06.94z\"/><path d=\"M17.41 7.96l-1.37-1.37c-.4-.4-.92-.59-1.43-.59-.52 0-1.04.2-1.43.59L10.3 9.45l-7.72 7.72c-.78.78-.78 2.05 0 2.83L4 21.41c.39.39.9.59 1.41.59.51 0 1.02-.2 1.41-.59l7.78-7.78 2.81-2.81c.8-.78.8-2.07 0-2.86zM5.41 20L4 18.59l7.72-7.72 1.47 1.35L5.41 20z\"/>\n",
              "  </svg>\n",
              "      </button>\n",
              "      \n",
              "  <style>\n",
              "    .colab-df-container {\n",
              "      display:flex;\n",
              "      flex-wrap:wrap;\n",
              "      gap: 12px;\n",
              "    }\n",
              "\n",
              "    .colab-df-convert {\n",
              "      background-color: #E8F0FE;\n",
              "      border: none;\n",
              "      border-radius: 50%;\n",
              "      cursor: pointer;\n",
              "      display: none;\n",
              "      fill: #1967D2;\n",
              "      height: 32px;\n",
              "      padding: 0 0 0 0;\n",
              "      width: 32px;\n",
              "    }\n",
              "\n",
              "    .colab-df-convert:hover {\n",
              "      background-color: #E2EBFA;\n",
              "      box-shadow: 0px 1px 2px rgba(60, 64, 67, 0.3), 0px 1px 3px 1px rgba(60, 64, 67, 0.15);\n",
              "      fill: #174EA6;\n",
              "    }\n",
              "\n",
              "    [theme=dark] .colab-df-convert {\n",
              "      background-color: #3B4455;\n",
              "      fill: #D2E3FC;\n",
              "    }\n",
              "\n",
              "    [theme=dark] .colab-df-convert:hover {\n",
              "      background-color: #434B5C;\n",
              "      box-shadow: 0px 1px 3px 1px rgba(0, 0, 0, 0.15);\n",
              "      filter: drop-shadow(0px 1px 2px rgba(0, 0, 0, 0.3));\n",
              "      fill: #FFFFFF;\n",
              "    }\n",
              "  </style>\n",
              "\n",
              "      <script>\n",
              "        const buttonEl =\n",
              "          document.querySelector('#df-8fb86633-1a9b-476b-97eb-9826c3eb3994 button.colab-df-convert');\n",
              "        buttonEl.style.display =\n",
              "          google.colab.kernel.accessAllowed ? 'block' : 'none';\n",
              "\n",
              "        async function convertToInteractive(key) {\n",
              "          const element = document.querySelector('#df-8fb86633-1a9b-476b-97eb-9826c3eb3994');\n",
              "          const dataTable =\n",
              "            await google.colab.kernel.invokeFunction('convertToInteractive',\n",
              "                                                     [key], {});\n",
              "          if (!dataTable) return;\n",
              "\n",
              "          const docLinkHtml = 'Like what you see? Visit the ' +\n",
              "            '<a target=\"_blank\" href=https://colab.research.google.com/notebooks/data_table.ipynb>data table notebook</a>'\n",
              "            + ' to learn more about interactive tables.';\n",
              "          element.innerHTML = '';\n",
              "          dataTable['output_type'] = 'display_data';\n",
              "          await google.colab.output.renderOutput(dataTable, element);\n",
              "          const docLink = document.createElement('div');\n",
              "          docLink.innerHTML = docLinkHtml;\n",
              "          element.appendChild(docLink);\n",
              "        }\n",
              "      </script>\n",
              "    </div>\n",
              "  </div>\n",
              "  "
            ],
            "text/plain": [
              "Predicted    0      1     2    All\n",
              "True                              \n",
              "0          332   2439    15   2786\n",
              "1           77   7347   623   8047\n",
              "2            1   2359  1100   3460\n",
              "All        410  12145  1738  14293"
            ]
          },
          "execution_count": 101,
          "metadata": {},
          "output_type": "execute_result"
        }
      ],
      "source": [
        "pd.crosstab(y_test, predic, rownames=['True'], colnames=['Predicted'], margins=True)"
      ]
    },
    {
      "cell_type": "code",
      "execution_count": null,
      "metadata": {
        "colab": {
          "background_save": true
        },
        "id": "jmcv2PKTAEXx"
      },
      "outputs": [],
      "source": [
        "import matplotlib.pyplot as plt\n",
        "from sklearn.datasets import make_classification\n",
        "from sklearn.metrics import plot_confusion_matrix\n",
        "from sklearn.model_selection import train_test_split\n",
        "from sklearn.svm import SVC"
      ]
    },
    {
      "cell_type": "code",
      "execution_count": null,
      "metadata": {
        "colab": {
          "background_save": true
        },
        "id": "sdV5vgAxAGcR",
        "outputId": "1ca6da5d-e6df-44d7-e8a8-2dd7e0ba6b16"
      },
      "outputs": [
        {
          "name": "stderr",
          "output_type": "stream",
          "text": [
            "/usr/local/lib/python3.7/dist-packages/sklearn/utils/deprecation.py:87: FutureWarning: Function plot_confusion_matrix is deprecated; Function `plot_confusion_matrix` is deprecated in 1.0 and will be removed in 1.2. Use one of the class methods: ConfusionMatrixDisplay.from_predictions or ConfusionMatrixDisplay.from_estimator.\n",
            "  warnings.warn(msg, category=FutureWarning)\n"
          ]
        },
        {
          "data": {
            "image/png": "[encoded data removed]",
            "text/plain": [
              "<Figure size 432x288 with 2 Axes>"
            ]
          },
          "metadata": {},
          "output_type": "display_data"
        }
      ],
      "source": [
        "fig = plot_confusion_matrix(RFC, X_test, y_test, display_labels=RFC.classes_)\n",
        "fig.figure_.suptitle(\"Matriz de Confusión\")\n",
        "plt.show()"
      ]
    },
    {
      "cell_type": "markdown",
      "metadata": {
        "id": "z1ZFOcs_AipL"
      },
      "source": [
        "**Métricas**"
      ]
    },
    {
      "cell_type": "code",
      "execution_count": null,
      "metadata": {
        "colab": {
          "background_save": true
        },
        "id": "4Z7a_2L9Ajzw",
        "outputId": "800e240f-38b1-466c-84d2-ebebb97146e4"
      },
      "outputs": [
        {
          "name": "stdout",
          "output_type": "stream",
          "text": [
            "              precision    recall  f1-score   support\n",
            "\n",
            "           0       0.81      0.12      0.21      2786\n",
            "           1       0.60      0.91      0.73      8047\n",
            "           2       0.63      0.32      0.42      3460\n",
            "\n",
            "    accuracy                           0.61     14293\n",
            "   macro avg       0.68      0.45      0.45     14293\n",
            "weighted avg       0.65      0.61      0.55     14293\n",
            "\n"
          ]
        }
      ],
      "source": [
        "print(classification_report(y_test, predic))"
      ]
    },
    {
      "cell_type": "markdown",
      "metadata": {
        "id": "AsUkE6--BtN6"
      },
      "source": [
        "**Ridge Regression**"
      ]
    },
    {
      "cell_type": "code",
      "execution_count": null,
      "metadata": {
        "colab": {
          "background_save": true
        },
        "id": "di6B3-fHB93J"
      },
      "outputs": [],
      "source": [
        "RC = RidgeClassifier()\n"
      ]
    },
    {
      "cell_type": "code",
      "execution_count": null,
      "metadata": {
        "colab": {
          "background_save": true
        },
        "id": "D-CYCBPDCPCv",
        "outputId": "c67e50c5-d1b4-4930-8d2e-3044590f6a5d"
      },
      "outputs": [
        {
          "data": {
            "text/plain": [
              "RidgeClassifier()"
            ]
          },
          "execution_count": 106,
          "metadata": {},
          "output_type": "execute_result"
        }
      ],
      "source": [
        " RC.fit(X_train,y_train)"
      ]
    },
    {
      "cell_type": "code",
      "execution_count": null,
      "metadata": {
        "colab": {
          "base_uri": "https://localhost:8080/"
        },
        "id": "giwpV27XF8sZ",
        "outputId": "1362fd78-1612-41ca-9061-a72fa4c33c8c"
      },
      "outputs": [
        {
          "output_type": "execute_result",
          "data": {
            "text/plain": [
              "array([[-0.17596412, -0.16225833, -0.66177755],\n",
              "       [-1.16491861,  0.19270682, -0.02778821],\n",
              "       [-0.73813404, -0.44225646,  0.1803905 ],\n",
              "       ...,\n",
              "       [-0.06616176,  0.13588563, -1.06972386],\n",
              "       [-0.82640307,  0.66501109, -0.83860802],\n",
              "       [-0.03404159, -0.0831971 , -0.8827613 ]])"
            ]
          },
          "metadata": {},
          "execution_count": 114
        }
      ],
      "source": [
        "RC.fit(X_train, y_train).decision_function(X_test)"
      ]
    },
    {
      "cell_type": "markdown",
      "source": [],
      "metadata": {
        "id": "JCI6axXFOcrg"
      }
    },
    {
      "cell_type": "code",
      "execution_count": null,
      "metadata": {
        "colab": {
          "background_save": true
        },
        "id": "jVbQ-7HMCRY7"
      },
      "outputs": [],
      "source": [
        "predic = RC.predict(X_test)"
      ]
    },
    {
      "cell_type": "code",
      "execution_count": null,
      "metadata": {
        "colab": {
          "background_save": true
        },
        "id": "joccn1jECVaA",
        "outputId": "2104312e-539a-47ce-be77-3a46af8e4d0d"
      },
      "outputs": [
        {
          "data": {
            "text/plain": [
              "0.6254810046876094"
            ]
          },
          "execution_count": 109,
          "metadata": {},
          "output_type": "execute_result"
        }
      ],
      "source": [
        "accuracy_score(y_test, predic)"
      ]
    },
    {
      "cell_type": "markdown",
      "metadata": {
        "id": "gLVEcYEgCbX6"
      },
      "source": [
        "**Matriz de Confusión**"
      ]
    },
    {
      "cell_type": "code",
      "execution_count": null,
      "metadata": {
        "colab": {
          "background_save": true
        },
        "id": "TIHrOvrQB8ga",
        "outputId": "a24aa413-fc1a-420e-b35c-d436f1524871"
      },
      "outputs": [
        {
          "data": {
            "text/html": [
              "\n",
              "  <div id=\"df-723b05cb-2857-4dd7-a4a3-6cba193ce35a\">\n",
              "    <div class=\"colab-df-container\">\n",
              "      <div>\n",
              "<style scoped>\n",
              "    .dataframe tbody tr th:only-of-type {\n",
              "        vertical-align: middle;\n",
              "    }\n",
              "\n",
              "    .dataframe tbody tr th {\n",
              "        vertical-align: top;\n",
              "    }\n",
              "\n",
              "    .dataframe thead th {\n",
              "        text-align: right;\n",
              "    }\n",
              "</style>\n",
              "<table border=\"1\" class=\"dataframe\">\n",
              "  <thead>\n",
              "    <tr style=\"text-align: right;\">\n",
              "      <th>Predicted</th>\n",
              "      <th>0</th>\n",
              "      <th>1</th>\n",
              "      <th>2</th>\n",
              "      <th>All</th>\n",
              "    </tr>\n",
              "    <tr>\n",
              "      <th>True</th>\n",
              "      <th></th>\n",
              "      <th></th>\n",
              "      <th></th>\n",
              "      <th></th>\n",
              "    </tr>\n",
              "  </thead>\n",
              "  <tbody>\n",
              "    <tr>\n",
              "      <th>0</th>\n",
              "      <td>1366</td>\n",
              "      <td>1400</td>\n",
              "      <td>20</td>\n",
              "      <td>2786</td>\n",
              "    </tr>\n",
              "    <tr>\n",
              "      <th>1</th>\n",
              "      <td>936</td>\n",
              "      <td>6405</td>\n",
              "      <td>706</td>\n",
              "      <td>8047</td>\n",
              "    </tr>\n",
              "    <tr>\n",
              "      <th>2</th>\n",
              "      <td>446</td>\n",
              "      <td>1845</td>\n",
              "      <td>1169</td>\n",
              "      <td>3460</td>\n",
              "    </tr>\n",
              "    <tr>\n",
              "      <th>All</th>\n",
              "      <td>2748</td>\n",
              "      <td>9650</td>\n",
              "      <td>1895</td>\n",
              "      <td>14293</td>\n",
              "    </tr>\n",
              "  </tbody>\n",
              "</table>\n",
              "</div>\n",
              "      <button class=\"colab-df-convert\" onclick=\"convertToInteractive('df-723b05cb-2857-4dd7-a4a3-6cba193ce35a')\"\n",
              "              title=\"Convert this dataframe to an interactive table.\"\n",
              "              style=\"display:none;\">\n",
              "        \n",
              "  <svg xmlns=\"http://www.w3.org/2000/svg\" height=\"24px\"viewBox=\"0 0 24 24\"\n",
              "       width=\"24px\">\n",
              "    <path d=\"M0 0h24v24H0V0z\" fill=\"none\"/>\n",
              "    <path d=\"M18.56 5.44l.94 2.06.94-2.06 2.06-.94-2.06-.94-.94-2.06-.94 2.06-2.06.94zm-11 1L8.5 8.5l.94-2.06 2.06-.94-2.06-.94L8.5 2.5l-.94 2.06-2.06.94zm10 10l.94 2.06.94-2.06 2.06-.94-2.06-.94-.94-2.06-.94 2.06-2.06.94z\"/><path d=\"M17.41 7.96l-1.37-1.37c-.4-.4-.92-.59-1.43-.59-.52 0-1.04.2-1.43.59L10.3 9.45l-7.72 7.72c-.78.78-.78 2.05 0 2.83L4 21.41c.39.39.9.59 1.41.59.51 0 1.02-.2 1.41-.59l7.78-7.78 2.81-2.81c.8-.78.8-2.07 0-2.86zM5.41 20L4 18.59l7.72-7.72 1.47 1.35L5.41 20z\"/>\n",
              "  </svg>\n",
              "      </button>\n",
              "      \n",
              "  <style>\n",
              "    .colab-df-container {\n",
              "      display:flex;\n",
              "      flex-wrap:wrap;\n",
              "      gap: 12px;\n",
              "    }\n",
              "\n",
              "    .colab-df-convert {\n",
              "      background-color: #E8F0FE;\n",
              "      border: none;\n",
              "      border-radius: 50%;\n",
              "      cursor: pointer;\n",
              "      display: none;\n",
              "      fill: #1967D2;\n",
              "      height: 32px;\n",
              "      padding: 0 0 0 0;\n",
              "      width: 32px;\n",
              "    }\n",
              "\n",
              "    .colab-df-convert:hover {\n",
              "      background-color: #E2EBFA;\n",
              "      box-shadow: 0px 1px 2px rgba(60, 64, 67, 0.3), 0px 1px 3px 1px rgba(60, 64, 67, 0.15);\n",
              "      fill: #174EA6;\n",
              "    }\n",
              "\n",
              "    [theme=dark] .colab-df-convert {\n",
              "      background-color: #3B4455;\n",
              "      fill: #D2E3FC;\n",
              "    }\n",
              "\n",
              "    [theme=dark] .colab-df-convert:hover {\n",
              "      background-color: #434B5C;\n",
              "      box-shadow: 0px 1px 3px 1px rgba(0, 0, 0, 0.15);\n",
              "      filter: drop-shadow(0px 1px 2px rgba(0, 0, 0, 0.3));\n",
              "      fill: #FFFFFF;\n",
              "    }\n",
              "  </style>\n",
              "\n",
              "      <script>\n",
              "        const buttonEl =\n",
              "          document.querySelector('#df-723b05cb-2857-4dd7-a4a3-6cba193ce35a button.colab-df-convert');\n",
              "        buttonEl.style.display =\n",
              "          google.colab.kernel.accessAllowed ? 'block' : 'none';\n",
              "\n",
              "        async function convertToInteractive(key) {\n",
              "          const element = document.querySelector('#df-723b05cb-2857-4dd7-a4a3-6cba193ce35a');\n",
              "          const dataTable =\n",
              "            await google.colab.kernel.invokeFunction('convertToInteractive',\n",
              "                                                     [key], {});\n",
              "          if (!dataTable) return;\n",
              "\n",
              "          const docLinkHtml = 'Like what you see? Visit the ' +\n",
              "            '<a target=\"_blank\" href=https://colab.research.google.com/notebooks/data_table.ipynb>data table notebook</a>'\n",
              "            + ' to learn more about interactive tables.';\n",
              "          element.innerHTML = '';\n",
              "          dataTable['output_type'] = 'display_data';\n",
              "          await google.colab.output.renderOutput(dataTable, element);\n",
              "          const docLink = document.createElement('div');\n",
              "          docLink.innerHTML = docLinkHtml;\n",
              "          element.appendChild(docLink);\n",
              "        }\n",
              "      </script>\n",
              "    </div>\n",
              "  </div>\n",
              "  "
            ],
            "text/plain": [
              "Predicted     0     1     2    All\n",
              "True                              \n",
              "0          1366  1400    20   2786\n",
              "1           936  6405   706   8047\n",
              "2           446  1845  1169   3460\n",
              "All        2748  9650  1895  14293"
            ]
          },
          "execution_count": 110,
          "metadata": {},
          "output_type": "execute_result"
        }
      ],
      "source": [
        "pd.crosstab(y_test, predic, rownames=['True'], colnames=['Predicted'], margins=True)"
      ]
    },
    {
      "cell_type": "code",
      "execution_count": null,
      "metadata": {
        "colab": {
          "background_save": true
        },
        "id": "3FMBi-ZjChTJ",
        "outputId": "22c685af-5887-4016-c17d-ed30cdcb9116"
      },
      "outputs": [
        {
          "name": "stderr",
          "output_type": "stream",
          "text": [
            "/usr/local/lib/python3.7/dist-packages/sklearn/utils/deprecation.py:87: FutureWarning: Function plot_confusion_matrix is deprecated; Function `plot_confusion_matrix` is deprecated in 1.0 and will be removed in 1.2. Use one of the class methods: ConfusionMatrixDisplay.from_predictions or ConfusionMatrixDisplay.from_estimator.\n",
            "  warnings.warn(msg, category=FutureWarning)\n"
          ]
        },
        {
          "data": {
            "image/png": "[encoded data removed]",
            "text/plain": [
              "<Figure size 432x288 with 2 Axes>"
            ]
          },
          "metadata": {},
          "output_type": "display_data"
        }
      ],
      "source": [
        "fig = plot_confusion_matrix(RC, X_test, y_test, display_labels=RC.classes_)\n",
        "fig.figure_.suptitle(\"Matriz de Confusión\")\n",
        "plt.show()"
      ]
    },
    {
      "cell_type": "markdown",
      "metadata": {
        "id": "YooH2FPZCmug"
      },
      "source": [
        "**Métricas**"
      ]
    },
    {
      "cell_type": "code",
      "execution_count": null,
      "metadata": {
        "colab": {
          "background_save": true
        },
        "id": "6tKRCRr-Coqg",
        "outputId": "ba664580-b5d1-49cc-d05b-aa4614fcc9dc"
      },
      "outputs": [
        {
          "name": "stdout",
          "output_type": "stream",
          "text": [
            "              precision    recall  f1-score   support\n",
            "\n",
            "           0       0.50      0.49      0.49      2786\n",
            "           1       0.66      0.80      0.72      8047\n",
            "           2       0.62      0.34      0.44      3460\n",
            "\n",
            "    accuracy                           0.63     14293\n",
            "   macro avg       0.59      0.54      0.55     14293\n",
            "weighted avg       0.62      0.63      0.61     14293\n",
            "\n"
          ]
        }
      ],
      "source": [
        "print(classification_report(y_test, predic))"
      ]
    },
    {
      "cell_type": "code",
      "execution_count": null,
      "metadata": {
        "colab": {
          "background_save": true
        },
        "id": "rDLGssWpJ-XM"
      },
      "outputs": [],
      "source": []
    }
  ],
  "metadata": {
    "colab": {
      "provenance": []
    },
    "kernelspec": {
      "display_name": "Python 3",
      "name": "python3"
    },
    "language_info": {
      "name": "python"
    }
  },
  "nbformat": 4,
  "nbformat_minor": 0
}